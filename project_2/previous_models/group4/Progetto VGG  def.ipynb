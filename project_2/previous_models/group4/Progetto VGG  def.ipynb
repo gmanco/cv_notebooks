{
 "cells": [
  {
   "cell_type": "markdown",
   "metadata": {
    "id": "Zvx2t7ZAzvmL"
   },
   "source": [
    "# Progetto 2021"
   ]
  },
  {
   "cell_type": "code",
   "execution_count": 22,
   "metadata": {
    "id": "6uMeyQHbzvmQ"
   },
   "outputs": [],
   "source": [
    "SEED = 9246\n",
    "import os\n",
    "\n",
    "\n",
    "import json\n",
    "import time\n",
    "from datetime import datetime\n",
    "import collections\n",
    "import torch\n",
    "import torch.nn as nn\n",
    "import torch.nn.functional as F\n",
    "from torch.utils.data import Dataset, DataLoader\n",
    "import torchvision\n",
    "from torchvision import models\n",
    "\n",
    "from PIL import Image\n",
    "\n",
    "from skimage import io\n",
    "import pandas as pd\n",
    "import numpy as np\n",
    "np.random.seed(SEED)\n",
    "\n",
    "import matplotlib.pyplot as plt\n",
    "%matplotlib inline\n",
    "\n",
    "from sklearn.metrics import classification_report\n",
    "\n",
    "import torchsummary\n",
    "\n",
    "torch.manual_seed(SEED)\n",
    "torch.backends.cudnn.deterministic = True\n",
    "torch.backends.cudnn.benchmark = False\n",
    "\n",
    "\n",
    "device = torch.device(\"cuda\" if CUDA else \"cpu\")\n"
   ]
  },
  {
   "cell_type": "markdown",
   "metadata": {
    "id": "iszt7TRvj9Nn"
   },
   "source": []
  },
  {
   "cell_type": "code",
   "execution_count": 2,
   "metadata": {
    "colab": {
     "base_uri": "https://localhost:8080/"
    },
    "id": "VfvRSz8_zvmm",
    "outputId": "2e66818e-862b-4408-a8c0-97513a6df1ee"
   },
   "outputs": [
    {
     "data": {
      "text/plain": [
       "2"
      ]
     },
     "execution_count": 2,
     "metadata": {},
     "output_type": "execute_result"
    }
   ],
   "source": [
    "DATASET_DIR = 'progetto_2021_dataset' #questo è il dataset\n",
    "DRIVE_FOLDER = 'progetto_2021_dataset/model_checkpoint'#dati di salvataggio della computazione in modo di riprendere da dove ho lasciato\n",
    "\n",
    "JSON_DATA = os.path.join(DATASET_DIR, 'train_test_split_dict.json')#nome del file json contenente suddivisione train/test\n",
    "\n",
    "with open(JSON_DATA) as fp:\n",
    "    dataset_json = json.load(fp)\n",
    "    \n",
    "len(dataset_json)"
   ]
  },
  {
   "cell_type": "code",
   "execution_count": 3,
   "metadata": {
    "id": "XRXP2mdbj9No"
   },
   "outputs": [],
   "source": [
    "labels = set()\n",
    "\n",
    "for k in dataset_json.values():\n",
    "    for lable_list in k.values():\n",
    "        for v in lable_list:\n",
    "            labels.add(v)\n",
    "            \n",
    "label_idx = {v: i for i, v in enumerate(sorted(labels))} #le etichette sono stringhe, quindi le codifico. \n",
    "                                                            #questo perchè uso un dataloader custom"
   ]
  },
  {
   "cell_type": "markdown",
   "metadata": {
    "id": "f4AJL3nX4Y3t"
   },
   "source": [
    "# Load data"
   ]
  },
  {
   "cell_type": "markdown",
   "metadata": {},
   "source": [
    "Caricamento di training e test set. In particolare di ogni trailer carichiamo le prime 20 immagini (se ci sono, se invece il trailer presenta meno di 20 immagini, carichiamo solo quelle che ci sono). \n",
    "Sui frame è applicato prima un center crop e poi una resize di dimensione 64x64. "
   ]
  },
  {
   "cell_type": "code",
   "execution_count": 5,
   "metadata": {
    "id": "ia0Z3U62zvni"
   },
   "outputs": [],
   "source": [
    "#data loader:\n",
    "class VideoDataset(Dataset):\n",
    "                                                                    #limite: numero di frame max che voglio caricare\n",
    "    def __init__(self, dataset_folder, labels_dict, transform=None, limit=30):\n",
    "        \"\"\"\n",
    "        Args:\n",
    "            dataset_folder (string): Path to the folder with mp4 files.\n",
    "            labels_dict (dict): dict filename - list of label.\n",
    "            transform (callable, optional): Optional transform to be applied\n",
    "                on a sample.\n",
    "        \"\"\"\n",
    "        self.labels_dict = labels_dict\n",
    "        self.root_dir = dataset_folder\n",
    "        self.limit = limit\n",
    "        self.transform = transform or torchvision.transforms.ToTensor()\n",
    "        \n",
    "        self._files = np.array(list(self.labels_dict.keys()))\n",
    "\n",
    "    def __len__(self):\n",
    "        return len(self.labels_dict)\n",
    "\n",
    "    def __getitem__(self, idx): #idx è l'indice dell'i-esimo trailer da caricare\n",
    "        name = self._files[idx]\n",
    "                        #self.limit è il numero di trailer\n",
    "        folder_pattern = os.path.join(self.root_dir, name, '*.png')#leggo tutte le png presenti nella folder dell'iesimo trailer\n",
    "        images = io.imread_collection(folder_pattern)\n",
    "        if len(images)>20:\n",
    "            self.limit = 20\n",
    "        else:\n",
    "            self.limit = len(images)\n",
    "        x = torch.zeros(self.limit, 3, 64,64) #riempio un tensore di zeri \n",
    "        \n",
    "        \n",
    "        for i, image in enumerate(images):\n",
    "            if i < self.limit:\n",
    "                image = self.transform(Image.fromarray(image))\n",
    "                x[i] = image.unsqueeze(0)\n",
    "\n",
    "        labels = torch.zeros(len(label_idx), dtype=torch.float32)\n",
    "        for label in self.labels_dict[name]:\n",
    "            labels[label_idx[label]] = 1 #assegno il valore 1 per etichettare le classi corrispondenti\n",
    "        \n",
    "        return x, labels\n",
    "    \n",
    "    def get_labels(self,idx):\n",
    "        name = datasetTrain._files[idx]\n",
    "        etichette = datasetTrain.labels_dict[name]\n",
    "        return etichette\n",
    "\n",
    "                                #effettuo un center crop a 224\n",
    "transformations = torchvision.transforms.Compose([torchvision.transforms.CenterCrop(224),torchvision.transforms.Resize(64),\n",
    "                                                  torchvision.transforms.ToTensor()])\n",
    "\n",
    "datasetTrain = VideoDataset(DATASET_DIR, dataset_json['train'], transformations)\n",
    "datasetTest = VideoDataset(DATASET_DIR, dataset_json['test'], transformations)"
   ]
  },
  {
   "cell_type": "markdown",
   "metadata": {},
   "source": [
    "Creiamo un dizionario <k,v> dove k è l'etichetta di classe e v è la sua numerosità nel training set. "
   ]
  },
  {
   "cell_type": "code",
   "execution_count": 7,
   "metadata": {
    "id": "dRe5T8Mhj9Nq"
   },
   "outputs": [],
   "source": [
    "etichet = {}\n",
    "for i in range(len(datasetTrain)):\n",
    "    l = datasetTrain.get_labels(i)\n",
    "    for j in l:\n",
    "        if j in etichet:\n",
    "            etichet[j]=etichet[j]+1\n",
    "        else:\n",
    "            etichet[j]=1"
   ]
  },
  {
   "cell_type": "code",
   "execution_count": 8,
   "metadata": {
    "colab": {
     "base_uri": "https://localhost:8080/"
    },
    "id": "-6fuwuGVj9Nq",
    "outputId": "ecb40b5f-afa9-4dcd-9455-9c563a45a908"
   },
   "outputs": [
    {
     "name": "stdout",
     "output_type": "stream",
     "text": [
      "[('drama', 2133), ('comedy', 773), ('action', 717), ('thriller', 554), ('crime', 515), ('horror', 502), ('scifi', 436), ('romantic', 413), ('fantasy', 358), ('romantic_comedy', 294), ('adventure', 294), ('comedy_drama', 269), ('LGBT', 265), ('musical', 236), ('biopic', 232), ('mystery', 222), ('war', 222), ('wartime', 221), ('documentary', 114), ('western', 109), ('noir', 106), ('supernatural', 98), ('sexual', 93), ('serial_killer', 92), ('animation', 92), ('splatter', 89), ('horror_comedy', 86), ('aviation', 84), ('violence', 82), ('dystopic', 81), ('monsters', 80), ('revenge', 79), ('teen_movie', 78), ('futuristic', 76), ('neo-noir', 71), ('bank_robbery', 70), ('espionage', 69), ('love', 69), ('martial_arts', 68), ('chase', 67), ('terrorism', 66), ('space', 65), ('history', 64), ('zombies', 62), ('family', 61), ('prison', 58), ('politics', 54), ('suspenseful', 53), ('nudity', 53), ('time_travel', 49), ('vampires', 49), ('murder', 47), ('children', 47), ('fight_scenes', 47), ('sport', 46), ('alien', 45), ('disaster_movie', 44), ('music', 40), ('coming_of_age', 39), ('police_investigation', 37), ('high_school', 36), ('magic', 36), ('creepy', 33), ('melodrama', 32), ('cartoon', 32), ('parenthood', 31), ('inbreeding', 31), ('cult', 31), ('super_hero', 31), ('true_story', 29), ('erotic_thriller', 29), ('gunfight', 29), ('small_town', 29), ('religion', 27), ('surreal', 25), ('death', 25), ('loneliness', 25), ('justice', 25), ('alcohol_addiction', 25), ('death_penalty', 24), ('pirates', 24), ('friendship', 24), ('action_comedies', 22), ('prostitution', 20), ('pornography', 16)]\n"
     ]
    }
   ],
   "source": [
    "print(sorted(etichet.items(),key=lambda x : x[1],reverse=True))"
   ]
  },
  {
   "cell_type": "code",
   "execution_count": 9,
   "metadata": {},
   "outputs": [
    {
     "data": {
      "text/plain": [
       "dict_items([('crime', 515), ('drama', 2133), ('action', 717), ('western', 109), ('horror', 502), ('politics', 54), ('documentary', 114), ('music', 40), ('musical', 236), ('LGBT', 265), ('comedy', 773), ('mystery', 222), ('thriller', 554), ('fantasy', 358), ('romantic_comedy', 294), ('romantic', 413), ('alien', 45), ('dystopic', 81), ('teen_movie', 78), ('space', 65), ('futuristic', 76), ('scifi', 436), ('adventure', 294), ('high_school', 36), ('true_story', 29), ('biopic', 232), ('espionage', 69), ('chase', 67), ('terrorism', 66), ('comedy_drama', 269), ('time_travel', 49), ('war', 222), ('surreal', 25), ('vampires', 49), ('monsters', 80), ('creepy', 33), ('aviation', 84), ('prison', 58), ('zombies', 62), ('magic', 36), ('wartime', 221), ('murder', 47), ('noir', 106), ('children', 47), ('sexual', 93), ('police_investigation', 37), ('death_penalty', 24), ('serial_killer', 92), ('supernatural', 98), ('pornography', 16), ('animation', 92), ('pirates', 24), ('religion', 27), ('erotic_thriller', 29), ('death', 25), ('disaster_movie', 44), ('bank_robbery', 70), ('splatter', 89), ('violence', 82), ('neo-noir', 71), ('loneliness', 25), ('parenthood', 31), ('martial_arts', 68), ('sport', 46), ('gunfight', 29), ('love', 69), ('justice', 25), ('suspenseful', 53), ('nudity', 53), ('history', 64), ('revenge', 79), ('melodrama', 32), ('family', 61), ('inbreeding', 31), ('cult', 31), ('alcohol_addiction', 25), ('super_hero', 31), ('coming_of_age', 39), ('action_comedies', 22), ('small_town', 29), ('friendship', 24), ('cartoon', 32), ('prostitution', 20), ('fight_scenes', 47), ('horror_comedy', 86)])"
      ]
     },
     "execution_count": 9,
     "metadata": {},
     "output_type": "execute_result"
    }
   ],
   "source": [
    "etichet.items()"
   ]
  },
  {
   "cell_type": "markdown",
   "metadata": {},
   "source": [
    "Creiamo i pesi per gestire lo sbilanciamento delle classi. In particolare utilizziamo un peso inversamente proporzionale alla numerosità della classe. "
   ]
  },
  {
   "cell_type": "code",
   "execution_count": 23,
   "metadata": {
    "id": "SPnXwAz0j9Nr"
   },
   "outputs": [],
   "source": [
    "pesi_a = []\n",
    "\n",
    "for k in sorted(labels):\n",
    "    pesi_a.append(1/etichet[k])\n",
    "pesi = torch.tensor(pesi_a)"
   ]
  },
  {
   "cell_type": "code",
   "execution_count": 11,
   "metadata": {
    "colab": {
     "base_uri": "https://localhost:8080/"
    },
    "id": "J2m2zeiSj9Nr",
    "outputId": "85e37a25-313a-43e6-eefc-55a4a1498c1e"
   },
   "outputs": [
    {
     "data": {
      "text/plain": [
       "tensor([0.0038, 0.0014, 0.0455, 0.0034, 0.0400, 0.0222, 0.0109, 0.0119, 0.0143,\n",
       "        0.0043, 0.0312, 0.0149, 0.0213, 0.0013, 0.0037, 0.0256, 0.0303, 0.0019,\n",
       "        0.0323, 0.0400, 0.0417, 0.0227, 0.0088, 0.0005, 0.0123, 0.0345, 0.0145,\n",
       "        0.0164, 0.0028, 0.0213, 0.0417, 0.0132, 0.0345, 0.0278, 0.0156, 0.0020,\n",
       "        0.0116, 0.0323, 0.0400, 0.0400, 0.0145, 0.0278, 0.0147, 0.0312, 0.0125,\n",
       "        0.0213, 0.0250, 0.0042, 0.0045, 0.0141, 0.0094, 0.0189, 0.0323, 0.0417,\n",
       "        0.0270, 0.0185, 0.0625, 0.0172, 0.0500, 0.0370, 0.0127, 0.0024, 0.0034,\n",
       "        0.0023, 0.0109, 0.0108, 0.0345, 0.0154, 0.0112, 0.0217, 0.0323, 0.0102,\n",
       "        0.0400, 0.0189, 0.0128, 0.0152, 0.0018, 0.0204, 0.0345, 0.0204, 0.0122,\n",
       "        0.0045, 0.0045, 0.0092, 0.0161])"
      ]
     },
     "execution_count": 11,
     "metadata": {},
     "output_type": "execute_result"
    }
   ],
   "source": [
    "pesi"
   ]
  },
  {
   "cell_type": "markdown",
   "metadata": {
    "id": "oO-3NxNWj9Nr"
   },
   "source": [
    "# Data visualization"
   ]
  },
  {
   "cell_type": "markdown",
   "metadata": {},
   "source": [
    "In seguito di graficano le classi più numerose e le classi meno numerose. "
   ]
  },
  {
   "cell_type": "code",
   "execution_count": 24,
   "metadata": {
    "colab": {
     "base_uri": "https://localhost:8080/"
    },
    "id": "I75As01Kj9Nr",
    "outputId": "59c751d4-08f8-4158-cd34-f4c8d4955af0"
   },
   "outputs": [
    {
     "data": {
      "text/plain": [
       "[Text(0, 0, 'death'),\n",
       " Text(0, 0, 'loneliness'),\n",
       " Text(0, 0, 'justice'),\n",
       " Text(0, 0, 'alcohol_addiction'),\n",
       " Text(0, 0, 'death_penalty'),\n",
       " Text(0, 0, 'pirates'),\n",
       " Text(0, 0, 'friendship'),\n",
       " Text(0, 0, 'action_comedies'),\n",
       " Text(0, 0, 'prostitution'),\n",
       " Text(0, 0, 'pornography')]"
      ]
     },
     "execution_count": 24,
     "metadata": {},
     "output_type": "execute_result"
    },
    {
     "data": {
      "image/png": "[encoded data removed]",
      "text/plain": [
       "<Figure size 720x576 with 1 Axes>"
      ]
     },
     "metadata": {},
     "output_type": "display_data"
    },
    {
     "data": {
      "image/png": "[encoded data removed]",
      "text/plain": [
       "<Figure size 720x576 with 1 Axes>"
      ]
     },
     "metadata": {},
     "output_type": "display_data"
    }
   ],
   "source": [
    "import pandas as pd\n",
    "import seaborn as sns\n",
    "df = pd.DataFrame(sorted(etichet.items(),key=lambda x : x[1],reverse=True))\n",
    "#df= df.sort_values(df['0'])\n",
    "df.columns = ['Etichetta','Istanze']\n",
    "df.index = df['Etichetta'] \n",
    "top10 = df.head(10)\n",
    "flop10 = df.tail(10)\n",
    "\n",
    "\n",
    "sns.set(rc={'figure.figsize':(10,8)})\n",
    "grafico=top10.plot.bar()\n",
    "grafico.set_title('Etichette con numerosità maggiore')\n",
    "grafico.set_ylabel('Numero istanze')\n",
    "grafico.set_xlabel('Etichette')\n",
    "grafico.set_xticklabels(grafico.get_xticklabels(), rotation=45)\n",
    "\n",
    "\n",
    "sns.set(rc={'figure.figsize':(10,8)})\n",
    "grafico=flop10.plot.bar()\n",
    "grafico.set_title('Etichette con numerosità minore')\n",
    "grafico.set_ylabel('Numero istanze')\n",
    "grafico.set_xlabel('Etichette')\n",
    "grafico.set_xticklabels(grafico.get_xticklabels(), rotation=45)"
   ]
  },
  {
   "cell_type": "markdown",
   "metadata": {
    "id": "9denV_I8j9Ns"
   },
   "source": [
    "# Mini dataset"
   ]
  },
  {
   "cell_type": "markdown",
   "metadata": {},
   "source": [
    "Sono stati costruiti un mini-training set e un mini-test set di dimensione 1/10 rispetto alle dimensioni originali che permettessero di fare prove veloci.\n",
    "Entrambi i dataset ridotti rispecchiano le proporzioni di classe del dataset di partenza."
   ]
  },
  {
   "cell_type": "code",
   "execution_count": 25,
   "metadata": {},
   "outputs": [
    {
     "name": "stdout",
     "output_type": "stream",
     "text": [
      "{'drama': 213, 'comedy': 77, 'action': 71, 'thriller': 55, 'crime': 51, 'horror': 50, 'scifi': 43, 'romantic': 41, 'fantasy': 35, 'romantic_comedy': 29, 'adventure': 29, 'comedy_drama': 26, 'LGBT': 26, 'musical': 23, 'biopic': 23, 'mystery': 22, 'war': 22, 'wartime': 22, 'documentary': 11, 'western': 10, 'noir': 10, 'supernatural': 9, 'sexual': 9, 'serial_killer': 9, 'animation': 9, 'splatter': 8, 'horror_comedy': 8, 'aviation': 8, 'violence': 8, 'dystopic': 8, 'monsters': 8, 'revenge': 7, 'teen_movie': 7, 'futuristic': 7, 'neo-noir': 7, 'bank_robbery': 7, 'espionage': 6, 'love': 6, 'martial_arts': 6, 'chase': 6, 'terrorism': 6, 'space': 6, 'history': 6, 'zombies': 6, 'family': 6, 'prison': 5, 'politics': 5, 'suspenseful': 5, 'nudity': 5, 'time_travel': 4, 'vampires': 4, 'murder': 4, 'children': 4, 'fight_scenes': 4, 'sport': 4, 'alien': 4, 'disaster_movie': 4, 'music': 4, 'coming_of_age': 3, 'police_investigation': 3, 'high_school': 3, 'magic': 3, 'creepy': 3, 'melodrama': 3, 'cartoon': 3, 'parenthood': 3, 'inbreeding': 3, 'cult': 3, 'super_hero': 3, 'true_story': 2, 'erotic_thriller': 2, 'gunfight': 2, 'small_town': 2, 'religion': 2, 'surreal': 2, 'death': 2, 'loneliness': 2, 'justice': 2, 'alcohol_addiction': 2, 'death_penalty': 2, 'pirates': 2, 'friendship': 2, 'action_comedies': 2, 'prostitution': 2, 'pornography': 1}\n"
     ]
    }
   ],
   "source": [
    "numerosità = []\n",
    "for e,f in sorted(etichet.items(),key=lambda x : x[1],reverse=True):\n",
    "    numerosità.append(int(f/10))\n",
    "\n",
    "rid_dict = {v[0]: numerosità[i] for i,v in enumerate(sorted(etichet.items(),key=lambda x : x[1],reverse=True))}\n",
    "print(rid_dict)"
   ]
  },
  {
   "cell_type": "code",
   "execution_count": 26,
   "metadata": {},
   "outputs": [],
   "source": [
    "def mini_annotation2idlist(annotations):\n",
    "    l=[]\n",
    "    for q in range(int(len(annotations))):\n",
    "        for etichetta in annotations.get_labels(q):\n",
    "            if rid_dict[etichetta]!=0:\n",
    "                l.append(annotations.__getitem__(q))\n",
    "                rid_dict[etichetta]-=1\n",
    "        \n",
    "    return l\n",
    "mini_id_train = mini_annotation2idlist(datasetTrain)\n",
    "mini_id_test = mini_annotation2idlist(datasetTest)"
   ]
  },
  {
   "cell_type": "markdown",
   "metadata": {
    "id": "Sv2zDTpdzvpD"
   },
   "source": [
    "# Loading model"
   ]
  },
  {
   "cell_type": "code",
   "execution_count": 15,
   "metadata": {
    "id": "cGxFpWen2xuC"
   },
   "outputs": [],
   "source": [
    "CHECKPOINT = os.path.join('C:/Users/Utente/Desktop/Università/Magistrale/secondo anno/secondo semestre/analisi di immagini e video/es progetto/cv_notebooks-master/project_1/chpt'\n",
    "    , 'model.checkpoint')\n",
    "MODELFILE = os.path.join('C:/Users/Utente/Desktop/Università/Magistrale/secondo anno/secondo semestre/analisi di immagini e video/es progetto/cv_notebooks-master/project_1/chpt'\n",
    "    , 'model.pth')\n",
    "\n",
    "def save_checkpoint(epoch, model, optimizer, loss): #salvo lo stato. Nel caso minimo mi salvo loss, ottimizzatore, modello e num epoche\n",
    "    torch.save({\n",
    "            'epoch': epoch,\n",
    "            'model_state_dict': model.state_dict(),\n",
    "            'optimizer_state_dict': optimizer.state_dict(),\n",
    "            'loss': loss,\n",
    "            }, CHECKPOINT)\n",
    "\n",
    "def load_checkpoint(model, optimizer):\n",
    "    if not os.path.exists(CHECKPOINT):\n",
    "        return None, None\n",
    "    checkpoint = torch.load(CHECKPOINT)\n",
    "    model.load_state_dict(checkpoint['model_state_dict'])\n",
    "    optimizer.load_state_dict(checkpoint['optimizer_state_dict'])\n",
    "    epoch = checkpoint['epoch']\n",
    "    loss = checkpoint['loss']\n",
    "\n",
    "    return epoch, loss\n",
    "\n",
    "def save_model(model): #salvo la configurazione dei pesi del modello\n",
    "    torch.save(model.state_dict(), MODELFILE) #modelfile è il path in cui salvare il modello\n",
    "\n",
    "def load_model(model):\n",
    "    if os.path.exists(MODELFILE):\n",
    "        model.load_state_dict(torch.load(MODELFILE))\n"
   ]
  },
  {
   "cell_type": "markdown",
   "metadata": {},
   "source": [
    "# Creazione della rete di classificazione"
   ]
  },
  {
   "cell_type": "markdown",
   "metadata": {},
   "source": [
    "La rete utilizzata è una VGG19 pretrained. In particolare la rete è stata riadattata a restituire dalla parte convoluzionale delle feature map di dimensione 512x2x2, che sono passate (sistemate come spiegato in seguito) in input alla parte di classificazione, anch'essa riadattata, aggiungendo una serie di livelli densi che in linea di massima dimezzano ogni volta le dimensioni della feature map ricevuta. \n",
    "Chiaramente cruciale è la funzione di forward, in cui la rete date le 20 feature map restituite dal livello convoluzionale effettua una media, avendo quindi come risultato una feature map unica di dimensione 512x2x2, che è passata in input ai livelli di classificazione. \n",
    "L'aggiornamento dei pesi della parte convoluzionale, che comunque è preaddestrata, è disattivato per motivi di eccessiva lentezza dei test. \n"
   ]
  },
  {
   "cell_type": "code",
   "execution_count": 27,
   "metadata": {},
   "outputs": [
    {
     "data": {
      "text/plain": [
       "VGG(\n",
       "  (features): Sequential(\n",
       "    (0): Conv2d(3, 64, kernel_size=(3, 3), stride=(1, 1), padding=(1, 1))\n",
       "    (1): ReLU(inplace=True)\n",
       "    (2): Conv2d(64, 64, kernel_size=(3, 3), stride=(1, 1), padding=(1, 1))\n",
       "    (3): ReLU(inplace=True)\n",
       "    (4): MaxPool2d(kernel_size=2, stride=2, padding=0, dilation=1, ceil_mode=False)\n",
       "    (5): Conv2d(64, 128, kernel_size=(3, 3), stride=(1, 1), padding=(1, 1))\n",
       "    (6): ReLU(inplace=True)\n",
       "    (7): Conv2d(128, 128, kernel_size=(3, 3), stride=(1, 1), padding=(1, 1))\n",
       "    (8): ReLU(inplace=True)\n",
       "    (9): MaxPool2d(kernel_size=2, stride=2, padding=0, dilation=1, ceil_mode=False)\n",
       "    (10): Conv2d(128, 256, kernel_size=(3, 3), stride=(1, 1), padding=(1, 1))\n",
       "    (11): ReLU(inplace=True)\n",
       "    (12): Conv2d(256, 256, kernel_size=(3, 3), stride=(1, 1), padding=(1, 1))\n",
       "    (13): ReLU(inplace=True)\n",
       "    (14): Conv2d(256, 256, kernel_size=(3, 3), stride=(1, 1), padding=(1, 1))\n",
       "    (15): ReLU(inplace=True)\n",
       "    (16): Conv2d(256, 256, kernel_size=(3, 3), stride=(1, 1), padding=(1, 1))\n",
       "    (17): ReLU(inplace=True)\n",
       "    (18): MaxPool2d(kernel_size=2, stride=2, padding=0, dilation=1, ceil_mode=False)\n",
       "    (19): Conv2d(256, 512, kernel_size=(3, 3), stride=(1, 1), padding=(1, 1))\n",
       "    (20): ReLU(inplace=True)\n",
       "    (21): Conv2d(512, 512, kernel_size=(3, 3), stride=(1, 1), padding=(1, 1))\n",
       "    (22): ReLU(inplace=True)\n",
       "    (23): Conv2d(512, 512, kernel_size=(3, 3), stride=(1, 1), padding=(1, 1))\n",
       "    (24): ReLU(inplace=True)\n",
       "    (25): Conv2d(512, 512, kernel_size=(3, 3), stride=(1, 1), padding=(1, 1))\n",
       "    (26): ReLU(inplace=True)\n",
       "    (27): MaxPool2d(kernel_size=2, stride=2, padding=0, dilation=1, ceil_mode=False)\n",
       "    (28): Conv2d(512, 512, kernel_size=(3, 3), stride=(1, 1), padding=(1, 1))\n",
       "    (29): ReLU(inplace=True)\n",
       "    (30): Conv2d(512, 512, kernel_size=(3, 3), stride=(1, 1), padding=(1, 1))\n",
       "    (31): ReLU(inplace=True)\n",
       "    (32): Conv2d(512, 512, kernel_size=(3, 3), stride=(1, 1), padding=(1, 1))\n",
       "    (33): ReLU(inplace=True)\n",
       "    (34): Conv2d(512, 512, kernel_size=(3, 3), stride=(1, 1), padding=(1, 1))\n",
       "    (35): ReLU(inplace=True)\n",
       "    (36): MaxPool2d(kernel_size=2, stride=2, padding=0, dilation=1, ceil_mode=False)\n",
       "  )\n",
       "  (classifier): Sequential(\n",
       "    (0): Linear(in_features=2048, out_features=1024, bias=True)\n",
       "    (1): ReLU(inplace=True)\n",
       "    (2): Dropout(p=0.5, inplace=False)\n",
       "    (3): Linear(in_features=1024, out_features=1024, bias=True)\n",
       "    (4): ReLU(inplace=True)\n",
       "    (5): Dropout(p=0.5, inplace=False)\n",
       "    (6): Linear(in_features=1024, out_features=512, bias=True)\n",
       "    (7): ReLU(inplace=True)\n",
       "    (8): Dropout(p=0.5, inplace=False)\n",
       "    (9): Linear(in_features=512, out_features=256, bias=True)\n",
       "    (10): ReLU(inplace=True)\n",
       "    (11): Dropout(p=0.5, inplace=False)\n",
       "    (12): Linear(in_features=256, out_features=85, bias=True)\n",
       "  )\n",
       ")"
      ]
     },
     "execution_count": 27,
     "metadata": {},
     "output_type": "execute_result"
    }
   ],
   "source": [
    "class VGG(nn.Module):\n",
    "\n",
    "    def __init__(self, start_model, features, num_classes=1000, init_weights=True):\n",
    "        super(VGG, self).__init__()\n",
    "        self.features = features \n",
    "        for param in self.features.parameters():\n",
    "            param.requires_grad = False\n",
    "        self.classifier = nn.Sequential(\n",
    "            \n",
    "            nn.Linear(2048, 1024),\n",
    "            nn.ReLU(True),\n",
    "            nn.Dropout(),\n",
    "            nn.Linear(1024,1024),\n",
    "            nn.ReLU(True),\n",
    "            nn.Dropout(),\n",
    "            nn.Linear(1024,512),\n",
    "            nn.ReLU(True),\n",
    "            nn.Dropout(),\n",
    "            \n",
    "            nn.Linear(512, 256),\n",
    "            nn.ReLU(True),\n",
    "            nn.Dropout(),\n",
    "            nn.Linear(256, num_classes),\n",
    "        )\n",
    "\n",
    "    def forward(self, x):\n",
    "        frame,channel,w,h = x.shape\n",
    "        x2 = x.view(1*frame,channel,x.size(2),x.size(3))#(bs * frame, 3, W, H) assumo batch size 1 #inutile\n",
    "        fm_di_x2 = self.features(x2)#dimensione effettiva: 30x512x1x1 #30x512xdim singola feature map\n",
    "        media_fm = torch.zeros(512,1,1)\n",
    "        cnt = 0\n",
    "        for j in range(fm_di_x2.shape[0]):\n",
    "            cnt+=1\n",
    "            media_fm = media_fm + fm_di_x2[j].unsqueeze(0)\n",
    "        media_fm = media_fm/cnt\n",
    "        x3 = media_fm.view(1,media_fm.size(0)*media_fm.size(1)*media_fm.size(2)*media_fm.size(3))\n",
    "        x = self.classifier(x3)\n",
    "        return x\n",
    "\n",
    "    def _initialize_weights(self):\n",
    "        for m in self.modules():\n",
    "            if isinstance(m, nn.Conv2d):\n",
    "                nn.init.kaiming_normal_(\n",
    "                    m.weight, mode='fan_out', nonlinearity='relu')\n",
    "                if m.bias is not None:\n",
    "                    nn.init.constant_(m.bias, 0)\n",
    "            elif isinstance(m, nn.BatchNorm2d):\n",
    "                nn.init.constant_(m.weight, 1)\n",
    "                nn.init.constant_(m.bias, 0)\n",
    "            elif isinstance(m, nn.Linear):\n",
    "                nn.init.normal_(m.weight, 0, 0.01)\n",
    "                nn.init.constant_(m.bias, 0)\n",
    "\n",
    "\n",
    "def make_layers(cfg, batch_norm=False):\n",
    "    layers = []\n",
    "    in_channels = 3\n",
    "    for v in cfg:\n",
    "        if v == 'M':\n",
    "            layers += [nn.MaxPool2d(kernel_size=2, stride=2)]\n",
    "        else:\n",
    "            conv2d = nn.Conv2d(in_channels, v, kernel_size=3, padding=1)\n",
    "            if batch_norm:\n",
    "                layers += [conv2d, nn.BatchNorm2d(v), nn.ReLU(inplace=True)]\n",
    "            else:\n",
    "                layers += [conv2d, nn.ReLU(inplace=True)]\n",
    "            in_channels = v\n",
    "    return nn.Sequential(*layers)\n",
    "\n",
    "\n",
    "cfg = {\n",
    "    'A': [64, 'M', 128, 'M', 256, 256, 'M', 512, 512, 'M', 512, 512, 'M'],\n",
    "    'B': [64, 64, 'M', 128, 128, 'M', 256, 256, 'M', 512, 512, 'M', 512, 512, 'M'],\n",
    "    'D': [64, 64, 'M', 128, 128, 'M', 256, 256, 256, 'M', 512, 512, 512, 'M', 512, 512, 512, 'M'],\n",
    "    'E': [64, 64, 'M', 128, 128, 'M', 256, 256, 256, 256, 'M', 512, 512, 512, 512, 'M', 512, 512, 512, 512, 'M'],\n",
    "}\n",
    "\n",
    "model1 = torchvision.models.vgg19(pretrained=True)\n",
    "model = VGG(model1,model1.features,85)\n",
    "model"
   ]
  },
  {
   "cell_type": "markdown",
   "metadata": {},
   "source": [
    "# Training del modello"
   ]
  },
  {
   "cell_type": "markdown",
   "metadata": {},
   "source": [
    "Per fare il traning del modello è stato utilizzato un learning rate di 0.01 e l'ottimizzatore SGD, inserendo il momentum in modo da evitare che il modello si blocchi in dei punti di minimo locale. \n",
    "La funzione di loss utilizzata è la Binary Cross entropy."
   ]
  },
  {
   "cell_type": "code",
   "execution_count": 14,
   "metadata": {},
   "outputs": [],
   "source": [
    "learning_rate = 0.01\n",
    "optimizer = torch.optim.SGD(model.parameters(), lr=learning_rate,momentum=0.9,nesterov=True)\n",
    "error = nn.BCEWithLogitsLoss(pos_weight=pesi) "
   ]
  },
  {
   "cell_type": "markdown",
   "metadata": {},
   "source": [
    "Training: evitare di eseguire nel caso in cui si voglia solo eseguire il test"
   ]
  },
  {
   "cell_type": "code",
   "execution_count": 17,
   "metadata": {
    "colab": {
     "base_uri": "https://localhost:8080/"
    },
    "id": "zwNTZTX1zvpy",
    "outputId": "13171faf-673c-43af-f197-c27674945b85",
    "scrolled": false
   },
   "outputs": [
    {
     "name": "stdout",
     "output_type": "stream",
     "text": [
      "Start epoch 1\n",
      "input shape is torch.Size([20, 3, 64, 64]), labels are torch.Size([85])\n"
     ]
    },
    {
     "name": "stderr",
     "output_type": "stream",
     "text": [
      "C:\\Users\\Utente\\anaconda3\\lib\\site-packages\\torch\\nn\\functional.py:718: UserWarning: Named tensors and all their associated APIs are an experimental feature and subject to change. Please do not use them for anything important until they are released as stable. (Triggered internally at  ..\\c10/core/TensorImpl.h:1156.)\n",
      "  return torch.max_pool2d(input, kernel_size, stride, padding, dilation, ceil_mode)\n"
     ]
    },
    {
     "name": "stdout",
     "output_type": "stream",
     "text": [
      "epoch 1/2 train loss: 0.658560 \n",
      "epoch 1/2 train loss: 0.646216 \n",
      "epoch 1/2 train loss: 0.633268 \n",
      "epoch 1/2 train loss: 0.620148 \n",
      "epoch 1/2 train loss: 0.606279 \n",
      "epoch 1/2 train loss: 0.591522 \n",
      "epoch 1/2 train loss: 0.574466 \n",
      "epoch 1/2 train loss: 0.552116 \n",
      "epoch 1/2 train loss: 0.522139 \n",
      "epoch 1/2 train loss: 0.485333 \n",
      "epoch 1/2 train loss: 0.446393 \n",
      "epoch 1/2 train loss: 0.411015 \n",
      "epoch 1/2 train loss: 0.380226 \n",
      "epoch 1/2 train loss: 0.353493 \n",
      "epoch 1/2 train loss: 0.330269 \n",
      "epoch 1/2 train loss: 0.309881 \n",
      "epoch 1/2 train loss: 0.291859 \n",
      "epoch 1/2 train loss: 0.275816 \n",
      "epoch 1/2 train loss: 0.261459 \n",
      "epoch 1/2 train loss: 0.248558 \n",
      "epoch 1/2 train loss: 0.236834 \n",
      "epoch 1/2 train loss: 0.226207 \n",
      "epoch 1/2 train loss: 0.216496 \n",
      "epoch 1/2 train loss: 0.207593 \n",
      "epoch 1/2 train loss: 0.199391 \n",
      "epoch 1/2 train loss: 0.191828 \n",
      "epoch 1/2 train loss: 0.184812 \n",
      "epoch 1/2 train loss: 0.178288 \n",
      "epoch 1/2 train loss: 0.172238 \n",
      "epoch 1/2 train loss: 0.166584 \n",
      "epoch 1/2 train loss: 0.161290 \n",
      "epoch 1/2 train loss: 0.156317 \n",
      "epoch 1/2 train loss: 0.151654 \n",
      "epoch 1/2 train loss: 0.147251 \n",
      "epoch 1/2 train loss: 0.143112 \n",
      "epoch 1/2 train loss: 0.139201 \n",
      "epoch 1/2 train loss: 0.135509 \n",
      "epoch 1/2 train loss: 0.132004 \n",
      "epoch 1/2 train loss: 0.128694 \n",
      "epoch 1/2 train loss: 0.125542 \n",
      "epoch 1/2 train loss: 0.122534 \n",
      "epoch 1/2 train loss: 0.119688 \n",
      "END Epoch 1/2 Train loss: 0.117174 \n",
      "Start epoch 2\n",
      "epoch 2/2 train loss: 0.002528 \n",
      "epoch 2/2 train loss: 0.002396 \n",
      "epoch 2/2 train loss: 0.002344 \n",
      "epoch 2/2 train loss: 0.002341 \n",
      "epoch 2/2 train loss: 0.002350 \n",
      "epoch 2/2 train loss: 0.002342 \n",
      "epoch 2/2 train loss: 0.002301 \n",
      "epoch 2/2 train loss: 0.002261 \n",
      "epoch 2/2 train loss: 0.002321 \n",
      "epoch 2/2 train loss: 0.002338 \n",
      "epoch 2/2 train loss: 0.002344 \n",
      "epoch 2/2 train loss: 0.002360 \n",
      "epoch 2/2 train loss: 0.002376 \n",
      "epoch 2/2 train loss: 0.002395 \n",
      "epoch 2/2 train loss: 0.002420 \n",
      "epoch 2/2 train loss: 0.002425 \n",
      "epoch 2/2 train loss: 0.002426 \n",
      "epoch 2/2 train loss: 0.002432 \n",
      "epoch 2/2 train loss: 0.002431 \n",
      "epoch 2/2 train loss: 0.002461 \n",
      "epoch 2/2 train loss: 0.002449 \n",
      "epoch 2/2 train loss: 0.002471 \n",
      "epoch 2/2 train loss: 0.002465 \n",
      "epoch 2/2 train loss: 0.002468 \n",
      "epoch 2/2 train loss: 0.002462 \n",
      "epoch 2/2 train loss: 0.002472 \n",
      "epoch 2/2 train loss: 0.002465 \n",
      "epoch 2/2 train loss: 0.002456 \n",
      "epoch 2/2 train loss: 0.002462 \n",
      "epoch 2/2 train loss: 0.002470 \n",
      "epoch 2/2 train loss: 0.002468 \n",
      "epoch 2/2 train loss: 0.002457 \n",
      "epoch 2/2 train loss: 0.002460 \n",
      "epoch 2/2 train loss: 0.002444 \n",
      "epoch 2/2 train loss: 0.002446 \n",
      "epoch 2/2 train loss: 0.002443 \n",
      "epoch 2/2 train loss: 0.002451 \n",
      "epoch 2/2 train loss: 0.002451 \n",
      "epoch 2/2 train loss: 0.002457 \n",
      "epoch 2/2 train loss: 0.002459 \n",
      "epoch 2/2 train loss: 0.002452 \n",
      "epoch 2/2 train loss: 0.002460 \n",
      "END Epoch 2/2 Train loss: 0.002458 \n"
     ]
    }
   ],
   "source": [
    "last_epoch,lss = load_checkpoint(model, optimizer)\n",
    "epochs = 2\n",
    "train_losses = []\n",
    "\n",
    "print_every = 100\n",
    "try:                   \n",
    "    if(last_epoch == None):\n",
    "        last_epoch = -1\n",
    "    for epoch in range(last_epoch + 1, epochs):\n",
    "        print('Start epoch', epoch+1)\n",
    "        model.train()\n",
    "        running_loss = 0\n",
    "        steps = 0\n",
    "       \n",
    "        for n,(x, y) in enumerate(datasetTrain):\n",
    "          \n",
    "            steps += 1\n",
    "            x, y = x.to(device), y.to(device)\n",
    "            \n",
    "            if epoch == 0 and steps == 1:\n",
    "                print(f'input shape is {x.shape}, labels are {y.shape}')\n",
    "\n",
    "            optimizer.zero_grad()\n",
    "        \n",
    "            logit_v = model(x)\n",
    "            logit = logit_v.view(logit_v.size(1))\n",
    "            \n",
    "            \n",
    "            loss = error(logit, y)\n",
    "            loss.backward()\n",
    "            \n",
    "            optimizer.step()\n",
    "            running_loss += loss.item()\n",
    "        \n",
    "            \n",
    "            if steps % print_every == 0:\n",
    "                print(f\"epoch {epoch+1}/{epochs} \"\n",
    "                      f\"train loss: {running_loss/steps:.6f} \")\n",
    "\n",
    "                save_checkpoint(epoch, model, optimizer, loss)\n",
    "\n",
    "        save_model(model)\n",
    "        train_losses.append(running_loss/steps)\n",
    "        print(f\"END Epoch {epoch+1}/{epochs} \"\n",
    "              f\"Train loss: {running_loss/steps:.6f} \")\n",
    "        \n",
    "        \n",
    "except KeyboardInterrupt: #gestendo l'eventuale eccezione salvo comunque il modello in modo da non perderlo\n",
    "    print('Exiting from training early')\n",
    "\n",
    "save_model(model)"
   ]
  },
  {
   "cell_type": "markdown",
   "metadata": {},
   "source": [
    "# Eventuale caricamento del modello "
   ]
  },
  {
   "cell_type": "code",
   "execution_count": 20,
   "metadata": {},
   "outputs": [],
   "source": [
    "load_model(model)"
   ]
  },
  {
   "cell_type": "markdown",
   "metadata": {
    "id": "evVyNNn1j9Nw"
   },
   "source": [
    "# Test"
   ]
  },
  {
   "cell_type": "code",
   "execution_count": 21,
   "metadata": {},
   "outputs": [
    {
     "name": "stderr",
     "output_type": "stream",
     "text": [
      "C:\\Users\\Utente\\anaconda3\\lib\\site-packages\\torch\\nn\\functional.py:718: UserWarning: Named tensors and all their associated APIs are an experimental feature and subject to change. Please do not use them for anything important until they are released as stable. (Triggered internally at  ..\\c10/core/TensorImpl.h:1156.)\n",
      "  return torch.max_pool2d(input, kernel_size, stride, padding, dilation, ceil_mode)\n"
     ]
    },
    {
     "name": "stdout",
     "output_type": "stream",
     "text": [
      "                      precision    recall  f1-score   support\n",
      "\n",
      "                LGBT       0.00      0.00      0.00        61\n",
      "              action       0.17      1.00      0.29       191\n",
      "     action_comedies       0.00      0.00      0.00         6\n",
      "           adventure       0.00      0.00      0.00        75\n",
      "   alcohol_addiction       0.00      0.00      0.00         6\n",
      "               alien       0.00      0.00      0.00        12\n",
      "           animation       0.00      0.00      0.00        21\n",
      "            aviation       0.00      0.00      0.00        20\n",
      "        bank_robbery       0.00      0.00      0.00        19\n",
      "              biopic       0.00      0.00      0.00        59\n",
      "             cartoon       0.00      0.00      0.00         8\n",
      "               chase       0.00      0.00      0.00        16\n",
      "            children       0.00      0.00      0.00        12\n",
      "              comedy       0.19      1.00      0.32       211\n",
      "        comedy_drama       0.00      0.00      0.00        65\n",
      "       coming_of_age       0.00      0.00      0.00        11\n",
      "              creepy       0.00      0.00      0.00        10\n",
      "               crime       0.12      1.00      0.22       137\n",
      "                cult       0.00      0.00      0.00         7\n",
      "               death       0.00      0.00      0.00         7\n",
      "       death_penalty       0.00      0.00      0.00         8\n",
      "      disaster_movie       0.00      0.00      0.00        10\n",
      "         documentary       0.00      0.00      0.00        31\n",
      "               drama       0.49      1.00      0.66       546\n",
      "            dystopic       0.00      0.00      0.00        20\n",
      "     erotic_thriller       0.00      0.00      0.00         7\n",
      "           espionage       0.00      0.00      0.00        18\n",
      "              family       0.00      0.00      0.00        11\n",
      "             fantasy       0.09      1.00      0.16        98\n",
      "        fight_scenes       0.00      0.00      0.00        11\n",
      "          friendship       0.00      0.00      0.00         6\n",
      "          futuristic       0.00      0.00      0.00        20\n",
      "            gunfight       0.00      0.00      0.00         9\n",
      "         high_school       0.00      0.00      0.00        11\n",
      "             history       0.00      0.00      0.00        15\n",
      "              horror       0.12      1.00      0.22       136\n",
      "       horror_comedy       0.00      0.00      0.00        26\n",
      "          inbreeding       0.00      0.00      0.00        10\n",
      "             justice       0.00      0.00      0.00        10\n",
      "          loneliness       0.00      0.00      0.00         8\n",
      "                love       0.00      0.00      0.00        20\n",
      "               magic       0.00      0.00      0.00         8\n",
      "        martial_arts       0.00      0.00      0.00        18\n",
      "           melodrama       0.00      0.00      0.00         9\n",
      "            monsters       0.00      0.00      0.00        24\n",
      "              murder       0.00      0.00      0.00        11\n",
      "               music       0.00      0.00      0.00        10\n",
      "             musical       0.00      0.00      0.00        61\n",
      "             mystery       0.00      0.00      0.00        58\n",
      "            neo-noir       0.00      0.00      0.00        14\n",
      "                noir       0.00      0.00      0.00        25\n",
      "              nudity       0.00      0.00      0.00        10\n",
      "          parenthood       0.00      0.00      0.00         9\n",
      "             pirates       0.00      0.00      0.00         6\n",
      "police_investigation       0.00      0.00      0.00        10\n",
      "            politics       0.00      0.00      0.00        13\n",
      "         pornography       0.00      0.00      0.00         4\n",
      "              prison       0.00      0.00      0.00        15\n",
      "        prostitution       0.00      0.00      0.00         5\n",
      "            religion       0.00      0.00      0.00         7\n",
      "             revenge       0.00      0.00      0.00        19\n",
      "            romantic       0.09      1.00      0.16        99\n",
      "     romantic_comedy       0.08      1.00      0.14        86\n",
      "               scifi       0.10      1.00      0.18       111\n",
      "       serial_killer       0.00      0.00      0.00        23\n",
      "              sexual       0.00      0.00      0.00        23\n",
      "          small_town       0.00      0.00      0.00         9\n",
      "               space       0.00      0.00      0.00        16\n",
      "            splatter       0.00      0.00      0.00        25\n",
      "               sport       0.00      0.00      0.00        12\n",
      "          super_hero       0.00      0.00      0.00         9\n",
      "        supernatural       0.00      0.00      0.00        25\n",
      "             surreal       0.00      0.00      0.00         8\n",
      "         suspenseful       0.00      0.00      0.00        14\n",
      "          teen_movie       0.00      0.00      0.00        24\n",
      "           terrorism       0.00      0.00      0.00        14\n",
      "            thriller       0.12      1.00      0.22       139\n",
      "         time_travel       0.00      0.00      0.00        12\n",
      "          true_story       0.00      0.00      0.00        10\n",
      "            vampires       0.00      0.00      0.00        12\n",
      "            violence       0.00      0.00      0.00        20\n",
      "                 war       0.00      0.00      0.00        58\n",
      "             wartime       0.00      0.00      0.00        49\n",
      "             western       0.00      0.00      0.00        33\n",
      "             zombies       0.00      0.00      0.00        15\n",
      "\n",
      "           micro avg       0.16      0.55      0.25      3167\n",
      "           macro avg       0.02      0.12      0.03      3167\n",
      "        weighted avg       0.13      0.55      0.20      3167\n",
      "         samples avg       0.16      0.60      0.24      3167\n",
      "\n"
     ]
    },
    {
     "name": "stderr",
     "output_type": "stream",
     "text": [
      "C:\\Users\\Utente\\anaconda3\\lib\\site-packages\\sklearn\\metrics\\_classification.py:1272: UndefinedMetricWarning: Precision and F-score are ill-defined and being set to 0.0 in labels with no predicted samples. Use `zero_division` parameter to control this behavior.\n",
      "  _warn_prf(average, modifier, msg_start, len(result))\n"
     ]
    }
   ],
   "source": [
    "topk=10\n",
    "predictions = []\n",
    "y_true = []\n",
    "model.to(device)\n",
    "model.eval()\n",
    " \n",
    "with torch.no_grad():\n",
    "    for i in range(datasetTest.__len__()):\n",
    "        x,y = datasetTest.__getitem__(i)\n",
    "        x = x.to(device)\n",
    "        y = y.to(device)        \n",
    " \n",
    "        logps = model(x)\n",
    "        y_pred = torch.sigmoid(logps)\n",
    "        y_pred = torch.flatten(y_pred)\n",
    "        _, idx = y_pred.topk(topk)\n",
    "        y_pred = torch.zeros_like(y_pred)\n",
    "        y_pred.scatter_(0, idx, 1)\n",
    "        \n",
    "        predictions.append(y_pred.cpu().numpy()) \n",
    "        y_true.append(y.cpu().numpy())\n",
    "\n",
    "\n",
    "\n",
    "report = classification_report(y_true, predictions, target_names=list(sorted(label_idx.keys())))\n",
    "print(report)"
   ]
  },
  {
   "cell_type": "code",
   "execution_count": null,
   "metadata": {},
   "outputs": [],
   "source": []
  }
 ],
 "metadata": {
  "colab": {
   "collapsed_sections": [],
   "name": "Progetto2021_Template111_con Alex_net.ipynb",
   "provenance": []
  },
  "kernelspec": {
   "display_name": "Python 3",
   "language": "python",
   "name": "python3"
  },
  "language_info": {
   "codemirror_mode": {
    "name": "ipython",
    "version": 3
   },
   "file_extension": ".py",
   "mimetype": "text/x-python",
   "name": "python",
   "nbconvert_exporter": "python",
   "pygments_lexer": "ipython3",
   "version": "3.7.6"
  }
 },
 "nbformat": 4,
 "nbformat_minor": 1
}
