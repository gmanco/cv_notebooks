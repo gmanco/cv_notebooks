{
  "nbformat": 4,
  "nbformat_minor": 0,
  "metadata": {
    "colab": {
      "name": "Calcolo_qualita_immagini.ipynb",
      "provenance": [],
      "collapsed_sections": []
    },
    "kernelspec": {
      "name": "python3",
      "display_name": "Python 3"
    },
    "language_info": {
      "name": "python"
    }
  },
  "cells": [
    {
      "cell_type": "code",
      "metadata": {
        "colab": {
          "base_uri": "https://localhost:8080/"
        },
        "id": "zU2jQ8LfxPb7",
        "outputId": "41736b0f-1398-4dfa-e65b-9670b266e138"
      },
      "source": [
        "pip install image-quality"
      ],
      "execution_count": 1,
      "outputs": [
        {
          "output_type": "stream",
          "text": [
            "Collecting image-quality\n",
            "\u001b[?25l  Downloading https://files.pythonhosted.org/packages/0c/b3/e4989110cc889870aa94b34510111ef5b53ab5f1c5664280699866e7bfab/image_quality-1.2.7-py3-none-any.whl (146kB)\n",
            "\u001b[K     |████████████████████████████████| 153kB 6.8MB/s \n",
            "\u001b[?25hRequirement already satisfied: scikit-image>=0.15.0 in /usr/local/lib/python3.7/dist-packages (from image-quality) (0.16.2)\n",
            "Requirement already satisfied: scipy>=1.3.0 in /usr/local/lib/python3.7/dist-packages (from image-quality) (1.4.1)\n",
            "Requirement already satisfied: numpy>=1.16.4 in /usr/local/lib/python3.7/dist-packages (from image-quality) (1.19.5)\n",
            "Requirement already satisfied: Pillow>=5.2.0 in /usr/local/lib/python3.7/dist-packages (from image-quality) (7.1.2)\n",
            "Collecting libsvm>=3.23.0\n",
            "\u001b[?25l  Downloading https://files.pythonhosted.org/packages/4b/11/c7700d0cd3a21eef2d7d996256277fc640ccd4f84717c10228cb6c1567dc/libsvm-3.23.0.4.tar.gz (170kB)\n",
            "\u001b[K     |████████████████████████████████| 174kB 12.4MB/s \n",
            "\u001b[?25hRequirement already satisfied: networkx>=2.0 in /usr/local/lib/python3.7/dist-packages (from scikit-image>=0.15.0->image-quality) (2.5.1)\n",
            "Requirement already satisfied: imageio>=2.3.0 in /usr/local/lib/python3.7/dist-packages (from scikit-image>=0.15.0->image-quality) (2.4.1)\n",
            "Requirement already satisfied: PyWavelets>=0.4.0 in /usr/local/lib/python3.7/dist-packages (from scikit-image>=0.15.0->image-quality) (1.1.1)\n",
            "Requirement already satisfied: matplotlib!=3.0.0,>=2.0.0 in /usr/local/lib/python3.7/dist-packages (from scikit-image>=0.15.0->image-quality) (3.2.2)\n",
            "Requirement already satisfied: decorator<5,>=4.3 in /usr/local/lib/python3.7/dist-packages (from networkx>=2.0->scikit-image>=0.15.0->image-quality) (4.4.2)\n",
            "Requirement already satisfied: kiwisolver>=1.0.1 in /usr/local/lib/python3.7/dist-packages (from matplotlib!=3.0.0,>=2.0.0->scikit-image>=0.15.0->image-quality) (1.3.1)\n",
            "Requirement already satisfied: pyparsing!=2.0.4,!=2.1.2,!=2.1.6,>=2.0.1 in /usr/local/lib/python3.7/dist-packages (from matplotlib!=3.0.0,>=2.0.0->scikit-image>=0.15.0->image-quality) (2.4.7)\n",
            "Requirement already satisfied: python-dateutil>=2.1 in /usr/local/lib/python3.7/dist-packages (from matplotlib!=3.0.0,>=2.0.0->scikit-image>=0.15.0->image-quality) (2.8.1)\n",
            "Requirement already satisfied: cycler>=0.10 in /usr/local/lib/python3.7/dist-packages (from matplotlib!=3.0.0,>=2.0.0->scikit-image>=0.15.0->image-quality) (0.10.0)\n",
            "Requirement already satisfied: six>=1.5 in /usr/local/lib/python3.7/dist-packages (from python-dateutil>=2.1->matplotlib!=3.0.0,>=2.0.0->scikit-image>=0.15.0->image-quality) (1.15.0)\n",
            "Building wheels for collected packages: libsvm\n",
            "  Building wheel for libsvm (setup.py) ... \u001b[?25l\u001b[?25hdone\n",
            "  Created wheel for libsvm: filename=libsvm-3.23.0.4-cp37-cp37m-linux_x86_64.whl size=233328 sha256=1643167f518d7b0874316d876e2b4cb2c2596587444bdbd1b35c7ec97038a4be\n",
            "  Stored in directory: /root/.cache/pip/wheels/5e/9e/b5/dbb033107407eec2f52b8cd24cf024a4b9ec8b62ea5aee995a\n",
            "Successfully built libsvm\n",
            "Installing collected packages: libsvm, image-quality\n",
            "Successfully installed image-quality-1.2.7 libsvm-3.23.0.4\n"
          ],
          "name": "stdout"
        }
      ]
    },
    {
      "cell_type": "code",
      "metadata": {
        "id": "oam4MO8-xHka"
      },
      "source": [
        "import numpy as np\n",
        "import pandas as pd\n",
        "import matplotlib.pyplot as plt\n",
        "import sys\n",
        "import os\n",
        "import time\n",
        "from PIL import Image\n",
        "import cv2\n",
        "import csv\n",
        "import copy\n",
        "import json\n",
        "from collections import OrderedDict\n",
        "from scipy import spatial\n",
        "import glob\n",
        "from PIL import Image\n",
        "import PIL.Image\n",
        "import imquality.brisque as brisque\n",
        "\n",
        "import requests\n",
        "from bs4 import BeautifulSoup \n",
        "from calendar import monthrange\n",
        "import time\n",
        "import pickle\n",
        "from multiprocessing import Pool\n",
        "import pickle\n",
        "from joblib import dump, load\n",
        "import warnings\n",
        "warnings.filterwarnings('ignore')"
      ],
      "execution_count": null,
      "outputs": []
    },
    {
      "cell_type": "code",
      "metadata": {
        "id": "bfBQiUvCxZYy"
      },
      "source": [
        "with open('./progetto_2021_dataset/train_test_split_dict.json') as f:\n",
        "    dataset_json = json.load(f)\n",
        "\n",
        "film = []\n",
        "\n",
        "for i in dataset_json['train']:\n",
        "  film.append(i)\n",
        "\n",
        "for i in dataset_json['test']:\n",
        "  film.append(i)\n",
        "\n",
        "data_dir = './progetto_2021_dataset'\n",
        "\n",
        "def score_frame_film(film):\n",
        "    \n",
        "    print(film)\n",
        "\n",
        "    startTime = time.time()\n",
        "    diz={}\n",
        "    \n",
        "    path= data_dir +'/'+film\n",
        "    print(path)\n",
        "    dict_score_img={}\n",
        "    for img in os.listdir(path):\n",
        "        path_img=path+'/'+img\n",
        "        frame = PIL.Image.open(path_img)\n",
        "        try:\n",
        "            score=brisque.score(frame) #ottengo lo score\n",
        "        except AssertionError:\n",
        "            print(\"assert gestita\")\n",
        "            break\n",
        "        if(score<60): #se è accettabile\n",
        "            #diz[film][path_img]=score #lo aggiugno nel dizionario con chiave il path e valore lo score\n",
        "            dict_score_img[path_img]=score\n",
        "            \n",
        "    dd = OrderedDict(sorted(dict_score_img.items(), key=lambda x: x[1]))\n",
        "    diz[film]=dd\n",
        "\n",
        "    endTime = time.time()\n",
        "    print(film + \" END\" + \" DURATION \" +  str(endTime-startTime))\n",
        "    print(\"#################################################################################\")\n",
        "    print()\n",
        "    return diz\n"
      ],
      "execution_count": null,
      "outputs": []
    },
    {
      "cell_type": "code",
      "metadata": {
        "id": "Bz3iujhPxxLq"
      },
      "source": [
        "def store_diz(diz): \n",
        "    with open(\"dict_score_film.txt\", \"wb\") as myFile:\n",
        "        pickle.dump(diz, myFile)\n",
        "\n",
        "if __name__ == '__main__':\n",
        "    with Pool(4) as p:\n",
        "        diz = p.map(score_frame_film, film)\n",
        "    store_diz(diz)"
      ],
      "execution_count": null,
      "outputs": []
    }
  ]
}