{
  "nbformat": 4,
  "nbformat_minor": 0,
  "metadata": {
    "accelerator": "GPU",
    "colab": {
      "name": "Train+Test_progetto.ipynb",
      "provenance": [],
      "collapsed_sections": []
    },
    "kernelspec": {
      "display_name": "Python 3",
      "language": "python",
      "name": "python3"
    },
    "language_info": {
      "codemirror_mode": {
        "name": "ipython",
        "version": 3
      },
      "file_extension": ".py",
      "mimetype": "text/x-python",
      "name": "python",
      "nbconvert_exporter": "python",
      "pygments_lexer": "ipython3",
      "version": "3.8.5"
    },
    "widgets": {
      "application/vnd.jupyter.widget-state+json": {
        "801e973207ef4df3acb25debe666306c": {
          "model_module": "@jupyter-widgets/controls",
          "model_name": "HBoxModel",
          "state": {
            "_view_name": "HBoxView",
            "_dom_classes": [],
            "_model_name": "HBoxModel",
            "_view_module": "@jupyter-widgets/controls",
            "_model_module_version": "1.5.0",
            "_view_count": null,
            "_view_module_version": "1.5.0",
            "box_style": "",
            "layout": "IPY_MODEL_9f0f1057df884d93baefdc7d4bea3264",
            "_model_module": "@jupyter-widgets/controls",
            "children": [
              "IPY_MODEL_ebc2bcb0a8e0428b861d9e897589feba",
              "IPY_MODEL_df1059b988414ff6bf6238fd309ef131"
            ]
          }
        },
        "9f0f1057df884d93baefdc7d4bea3264": {
          "model_module": "@jupyter-widgets/base",
          "model_name": "LayoutModel",
          "state": {
            "_view_name": "LayoutView",
            "grid_template_rows": null,
            "right": null,
            "justify_content": null,
            "_view_module": "@jupyter-widgets/base",
            "overflow": null,
            "_model_module_version": "1.2.0",
            "_view_count": null,
            "flex_flow": null,
            "width": null,
            "min_width": null,
            "border": null,
            "align_items": null,
            "bottom": null,
            "_model_module": "@jupyter-widgets/base",
            "top": null,
            "grid_column": null,
            "overflow_y": null,
            "overflow_x": null,
            "grid_auto_flow": null,
            "grid_area": null,
            "grid_template_columns": null,
            "flex": null,
            "_model_name": "LayoutModel",
            "justify_items": null,
            "grid_row": null,
            "max_height": null,
            "align_content": null,
            "visibility": null,
            "align_self": null,
            "height": null,
            "min_height": null,
            "padding": null,
            "grid_auto_rows": null,
            "grid_gap": null,
            "max_width": null,
            "order": null,
            "_view_module_version": "1.2.0",
            "grid_template_areas": null,
            "object_position": null,
            "object_fit": null,
            "grid_auto_columns": null,
            "margin": null,
            "display": null,
            "left": null
          }
        },
        "ebc2bcb0a8e0428b861d9e897589feba": {
          "model_module": "@jupyter-widgets/controls",
          "model_name": "FloatProgressModel",
          "state": {
            "_view_name": "ProgressView",
            "style": "IPY_MODEL_a957bb81b0054caa912792b34dd6342b",
            "_dom_classes": [],
            "description": "100%",
            "_model_name": "FloatProgressModel",
            "bar_style": "success",
            "max": 102530333,
            "_view_module": "@jupyter-widgets/controls",
            "_model_module_version": "1.5.0",
            "value": 102530333,
            "_view_count": null,
            "_view_module_version": "1.5.0",
            "orientation": "horizontal",
            "min": 0,
            "description_tooltip": null,
            "_model_module": "@jupyter-widgets/controls",
            "layout": "IPY_MODEL_9fcf935567f94333aa9cc7e85845ce52"
          }
        },
        "df1059b988414ff6bf6238fd309ef131": {
          "model_module": "@jupyter-widgets/controls",
          "model_name": "HTMLModel",
          "state": {
            "_view_name": "HTMLView",
            "style": "IPY_MODEL_8c61514d78fb4d5abc7ace71037db952",
            "_dom_classes": [],
            "description": "",
            "_model_name": "HTMLModel",
            "placeholder": "​",
            "_view_module": "@jupyter-widgets/controls",
            "_model_module_version": "1.5.0",
            "value": " 97.8M/97.8M [00:01&lt;00:00, 84.7MB/s]",
            "_view_count": null,
            "_view_module_version": "1.5.0",
            "description_tooltip": null,
            "_model_module": "@jupyter-widgets/controls",
            "layout": "IPY_MODEL_085f53a75d0a4ae8888ef09a25c536b7"
          }
        },
        "a957bb81b0054caa912792b34dd6342b": {
          "model_module": "@jupyter-widgets/controls",
          "model_name": "ProgressStyleModel",
          "state": {
            "_view_name": "StyleView",
            "_model_name": "ProgressStyleModel",
            "description_width": "initial",
            "_view_module": "@jupyter-widgets/base",
            "_model_module_version": "1.5.0",
            "_view_count": null,
            "_view_module_version": "1.2.0",
            "bar_color": null,
            "_model_module": "@jupyter-widgets/controls"
          }
        },
        "9fcf935567f94333aa9cc7e85845ce52": {
          "model_module": "@jupyter-widgets/base",
          "model_name": "LayoutModel",
          "state": {
            "_view_name": "LayoutView",
            "grid_template_rows": null,
            "right": null,
            "justify_content": null,
            "_view_module": "@jupyter-widgets/base",
            "overflow": null,
            "_model_module_version": "1.2.0",
            "_view_count": null,
            "flex_flow": null,
            "width": null,
            "min_width": null,
            "border": null,
            "align_items": null,
            "bottom": null,
            "_model_module": "@jupyter-widgets/base",
            "top": null,
            "grid_column": null,
            "overflow_y": null,
            "overflow_x": null,
            "grid_auto_flow": null,
            "grid_area": null,
            "grid_template_columns": null,
            "flex": null,
            "_model_name": "LayoutModel",
            "justify_items": null,
            "grid_row": null,
            "max_height": null,
            "align_content": null,
            "visibility": null,
            "align_self": null,
            "height": null,
            "min_height": null,
            "padding": null,
            "grid_auto_rows": null,
            "grid_gap": null,
            "max_width": null,
            "order": null,
            "_view_module_version": "1.2.0",
            "grid_template_areas": null,
            "object_position": null,
            "object_fit": null,
            "grid_auto_columns": null,
            "margin": null,
            "display": null,
            "left": null
          }
        },
        "8c61514d78fb4d5abc7ace71037db952": {
          "model_module": "@jupyter-widgets/controls",
          "model_name": "DescriptionStyleModel",
          "state": {
            "_view_name": "StyleView",
            "_model_name": "DescriptionStyleModel",
            "description_width": "",
            "_view_module": "@jupyter-widgets/base",
            "_model_module_version": "1.5.0",
            "_view_count": null,
            "_view_module_version": "1.2.0",
            "_model_module": "@jupyter-widgets/controls"
          }
        },
        "085f53a75d0a4ae8888ef09a25c536b7": {
          "model_module": "@jupyter-widgets/base",
          "model_name": "LayoutModel",
          "state": {
            "_view_name": "LayoutView",
            "grid_template_rows": null,
            "right": null,
            "justify_content": null,
            "_view_module": "@jupyter-widgets/base",
            "overflow": null,
            "_model_module_version": "1.2.0",
            "_view_count": null,
            "flex_flow": null,
            "width": null,
            "min_width": null,
            "border": null,
            "align_items": null,
            "bottom": null,
            "_model_module": "@jupyter-widgets/base",
            "top": null,
            "grid_column": null,
            "overflow_y": null,
            "overflow_x": null,
            "grid_auto_flow": null,
            "grid_area": null,
            "grid_template_columns": null,
            "flex": null,
            "_model_name": "LayoutModel",
            "justify_items": null,
            "grid_row": null,
            "max_height": null,
            "align_content": null,
            "visibility": null,
            "align_self": null,
            "height": null,
            "min_height": null,
            "padding": null,
            "grid_auto_rows": null,
            "grid_gap": null,
            "max_width": null,
            "order": null,
            "_view_module_version": "1.2.0",
            "grid_template_areas": null,
            "object_position": null,
            "object_fit": null,
            "grid_auto_columns": null,
            "margin": null,
            "display": null,
            "left": null
          }
        }
      }
    }
  },
  "cells": [
    {
      "cell_type": "code",
      "metadata": {
        "colab": {
          "base_uri": "https://localhost:8080/"
        },
        "id": "FMHU2SMxBUQC",
        "outputId": "72326163-9f34-44d4-e973-9ce9f19be5ef"
      },
      "source": [
        "from google.colab import drive\n",
        "drive.mount('/content/drive')"
      ],
      "execution_count": null,
      "outputs": [
        {
          "output_type": "stream",
          "text": [
            "Mounted at /content/drive\n"
          ],
          "name": "stdout"
        }
      ]
    },
    {
      "cell_type": "code",
      "metadata": {
        "id": "9I1hYcLKBSha"
      },
      "source": [
        "import numpy as np\n",
        "from tqdm import tqdm\n",
        "import pandas as pd\n",
        "import matplotlib.pyplot as plt\n",
        "import sys\n",
        "import os\n",
        "import time\n",
        "from PIL import Image\n",
        "import cv2\n",
        "import csv\n",
        "import copy\n",
        "import json\n",
        "from collections import OrderedDict\n",
        "from scipy import spatial\n",
        "import glob\n",
        "\n",
        "import torch\n",
        "import torch.nn as nn\n",
        "import torch.optim as optim\n",
        "from torch.utils.data import Dataset, DataLoader\n",
        "from torch.utils.data.sampler import SubsetRandomSampler\n",
        "\n",
        "from torchvision import models\n",
        "import torchvision.transforms as transforms\n",
        "\n",
        "import PIL.Image\n",
        "import pickle\n",
        "from joblib import dump, load\n",
        "\n",
        "import warnings\n",
        "warnings.filterwarnings('ignore')"
      ],
      "execution_count": null,
      "outputs": []
    },
    {
      "cell_type": "code",
      "metadata": {
        "id": "WB4AEYMtBShj"
      },
      "source": [
        "data_dir = '/content/drive/MyDrive/progetto_2021_dataset'\n",
        "#data_dir = './progetto_2021_dataset'\n",
        "\n",
        "#with open('./progetto_2021_dataset/train_test_split_dict.json') as f:\n",
        "with open('/content/drive/MyDrive/progetto_2021_dataset/train_test_split_dict.json') as f:\n",
        "    dataset_json = json.load(f)"
      ],
      "execution_count": null,
      "outputs": []
    },
    {
      "cell_type": "code",
      "metadata": {
        "id": "jcuWHzP9BShp"
      },
      "source": [
        "labels = set()\n",
        "\n",
        "for k in dataset_json.values():\n",
        "    for lable_list in k.values():\n",
        "        for v in lable_list:\n",
        "            labels.add(v)\n",
        "            \n",
        "label_idx = {v: i for i, v in enumerate(sorted(labels))}"
      ],
      "execution_count": null,
      "outputs": []
    },
    {
      "cell_type": "code",
      "metadata": {
        "id": "eR7x9IIFsxD9"
      },
      "source": [
        "def pull_diz(name): \n",
        "    with open(name, \"rb\") as myFile:\n",
        "        myNewPulledInDictionary = pickle.load(myFile)\n",
        "    return myNewPulledInDictionary"
      ],
      "execution_count": null,
      "outputs": []
    },
    {
      "cell_type": "code",
      "metadata": {
        "id": "XXp0oJHRs6Hq"
      },
      "source": [
        "#dict_test_score= pull_diz('./progetto_2021_dataset/dict_score_film.txt')\n",
        "dict_test_score= pull_diz('/content/drive/MyDrive/progetto_2021_dataset/dict_score_film.txt')"
      ],
      "execution_count": null,
      "outputs": []
    },
    {
      "cell_type": "code",
      "metadata": {
        "id": "kZTFIMfqrAZn"
      },
      "source": [
        "path_drive='/content/drive/MyDrive'\n",
        "\n",
        "path_without_drive='.'"
      ],
      "execution_count": null,
      "outputs": []
    },
    {
      "cell_type": "code",
      "metadata": {
        "id": "WoouKEKpBShr"
      },
      "source": [
        "\n",
        "class FrameDataset(Dataset):\n",
        "    def __init__(self, root, labels_dict):\n",
        "        self.root = root\n",
        "        self.labels_dict = labels_dict\n",
        "        self.film_names = np.array(list(self.labels_dict.keys())) #nomi cartelle\n",
        "    \n",
        "    def _transform(self, image):    \n",
        "        transform = transforms.Compose([transforms.CenterCrop(224),\n",
        "                transforms.RandomHorizontalFlip(p=0.5),\n",
        "                transforms.RandomRotation(degrees=45),\n",
        "                transforms.ToTensor()])\n",
        "        return transform(image)\n",
        "    \n",
        "    def __len__(self):\n",
        "        return len(self.film_names)\n",
        "    \n",
        "    def __getitem__(self, index):\n",
        "        film_name = self.film_names[index] #nome cartella\n",
        "\n",
        "        numImgFilm=10\n",
        "        \n",
        "        dict_frame= dict_test_score.get(film_name)\n",
        "\n",
        "        cont=0\n",
        "        for i in dict_frame:\n",
        "          if(cont==0):\n",
        "            film=self._transform(Image.open(path_drive+i[1:]).convert('RGB')).unsqueeze(0) \n",
        "          else:\n",
        "            film = torch.cat([film, self._transform(Image.open(path_drive+i[1:]).convert('RGB')).unsqueeze(0)])\n",
        "          if(cont==numImgFilm-1):\n",
        "            break\n",
        "          cont+=1\n",
        "\n",
        "        numImgDaGen= numImgFilm-len(dict_frame)\n",
        "\n",
        "        if(len(dict_frame)==0):\n",
        "          for img in os.listdir(self.root + f'/{film_name}'):\n",
        "            path_img=self.root +'/'+ film_name +'/'+img\n",
        "            film=self._transform(Image.open(path_img).convert('RGB')).unsqueeze(0)\n",
        "            break\n",
        "          numImgDaGen=numImgDaGen-1\n",
        "          for i in range(numImgDaGen):\n",
        "            film = torch.cat([film,self._transform(Image.open(path_img).convert('RGB')).unsqueeze(0)],0)\n",
        "\n",
        "        else:\n",
        "          for i in range(numImgDaGen):\n",
        "              film = torch.cat([film,self._transform(Image.open(path_drive+list(dict_frame.items())[0][0][1:]).convert('RGB')).unsqueeze(0)])\n",
        "\n",
        "        labels = torch.zeros(len(label_idx), dtype=torch.float32)\n",
        "        for label in self.labels_dict[film_name]:\n",
        "            labels[label_idx[label]] = 1\n",
        "            \n",
        "        return film, labels #tensori"
      ],
      "execution_count": null,
      "outputs": []
    },
    {
      "cell_type": "code",
      "metadata": {
        "id": "Jvi9qZ-zBShs"
      },
      "source": [
        "# CREATE DATASET\n",
        "dataset_train = FrameDataset(data_dir, dataset_json['train'])\n",
        "dataset_test = FrameDataset(data_dir, dataset_json['test'])"
      ],
      "execution_count": null,
      "outputs": []
    },
    {
      "cell_type": "code",
      "metadata": {
        "id": "S6e9BosRBSht"
      },
      "source": [
        "# CREATE TRAIN AND VALIDATION DATA LOADERS\n",
        "train_loader = DataLoader(dataset_train, batch_size=32, num_workers=2)\n",
        "data_loaders = {'train': train_loader}\n",
        "test_loader = DataLoader(dataset_test, batch_size=32, num_workers=2)"
      ],
      "execution_count": null,
      "outputs": []
    },
    {
      "cell_type": "code",
      "metadata": {
        "id": "M9sryj3rBShu"
      },
      "source": [
        "class MVCNN(nn.Module):\n",
        "    def __init__(self, num_classes=3, pretrained=True):\n",
        "        super(MVCNN, self).__init__()\n",
        "        resnet = models.resnet50(pretrained = pretrained)\n",
        "        fc_in_features = resnet.fc.in_features\n",
        "        self.features = nn.Sequential(*list(resnet.children())[:-1])\n",
        "        self.classifier = nn.Sequential(\n",
        "            nn.Dropout(),\n",
        "            nn.Linear(fc_in_features, 2048),\n",
        "            nn.ReLU(inplace=True),\n",
        "            nn.Dropout(),\n",
        "            nn.Linear(2048, 2048),\n",
        "            nn.ReLU(inplace=True),\n",
        "            nn.Linear(2048, num_classes)\n",
        "        )\n",
        "\n",
        "    def forward(self, inputs): # inputs.shape = samples x views x height x width x channels\n",
        "        inputs = inputs.transpose(0, 1)\n",
        "        view_features = [] \n",
        "        for view_batch in inputs:\n",
        "            view_batch = self.features(view_batch)\n",
        "            view_batch = view_batch.view(view_batch.shape[0], view_batch.shape[1:].numel())\n",
        "            view_features.append(view_batch)   \n",
        "\n",
        "        pooled_views= torch.mean(torch.stack(view_features),0)\n",
        "        outputs = self.classifier(pooled_views)\n",
        "        return outputs"
      ],
      "execution_count": null,
      "outputs": []
    },
    {
      "cell_type": "code",
      "metadata": {
        "id": "BTs0G1EmBShv",
        "colab": {
          "base_uri": "https://localhost:8080/",
          "height": 86,
          "referenced_widgets": [
            "801e973207ef4df3acb25debe666306c",
            "9f0f1057df884d93baefdc7d4bea3264",
            "ebc2bcb0a8e0428b861d9e897589feba",
            "df1059b988414ff6bf6238fd309ef131",
            "a957bb81b0054caa912792b34dd6342b",
            "9fcf935567f94333aa9cc7e85845ce52",
            "8c61514d78fb4d5abc7ace71037db952",
            "085f53a75d0a4ae8888ef09a25c536b7"
          ]
        },
        "outputId": "c5f45dcf-a974-4c47-af3e-f199ba55310c"
      },
      "source": [
        "# BUILD AND VISUALIZE THE MODEL\n",
        "model = MVCNN(num_classes=85, pretrained=True)"
      ],
      "execution_count": null,
      "outputs": [
        {
          "output_type": "stream",
          "text": [
            "Downloading: \"https://download.pytorch.org/models/resnet50-0676ba61.pth\" to /root/.cache/torch/hub/checkpoints/resnet50-0676ba61.pth\n"
          ],
          "name": "stderr"
        },
        {
          "output_type": "display_data",
          "data": {
            "application/vnd.jupyter.widget-view+json": {
              "model_id": "801e973207ef4df3acb25debe666306c",
              "version_minor": 0,
              "version_major": 2
            },
            "text/plain": [
              "HBox(children=(FloatProgress(value=0.0, max=102530333.0), HTML(value='')))"
            ]
          },
          "metadata": {
            "tags": []
          }
        },
        {
          "output_type": "stream",
          "text": [
            "\n"
          ],
          "name": "stdout"
        }
      ]
    },
    {
      "cell_type": "code",
      "metadata": {
        "colab": {
          "base_uri": "https://localhost:8080/"
        },
        "id": "l7eqTPUXBShw",
        "outputId": "2cad62bc-c881-47a7-d79e-29242788679e"
      },
      "source": [
        "# DEFINE THE DEVICE\n",
        "device = torch.device(\"cuda:0\" if torch.cuda.is_available() else \"cpu\")\n",
        "device"
      ],
      "execution_count": null,
      "outputs": [
        {
          "output_type": "execute_result",
          "data": {
            "text/plain": [
              "device(type='cuda', index=0)"
            ]
          },
          "metadata": {
            "tags": []
          },
          "execution_count": 13
        }
      ]
    },
    {
      "cell_type": "code",
      "metadata": {
        "id": "YWG4aZuaBShy"
      },
      "source": [
        "def train_model(model, dataloaders, criterion, optimizer, num_epochs=25):\n",
        "    since = time.time()\n",
        "\n",
        "    for epoch in range(1, num_epochs+1):\n",
        "        print('Epoch {}/{}'.format(epoch, num_epochs))\n",
        "        print('-' * 10)\n",
        "\n",
        "        for phase in ['train']:\n",
        "          \n",
        "            model.train()  # Set model to training mode\n",
        "\n",
        "            for inputs, labels in dataloaders[phase]:\n",
        "                inputs = inputs.to(device)\n",
        "                labels = labels.to(device)\n",
        "\n",
        "                # zero the parameter gradients\n",
        "                optimizer.zero_grad()\n",
        "\n",
        "                # forward\n",
        "                with torch.set_grad_enabled(phase == 'train'):\n",
        "                    # Get model outputs and calculate loss\n",
        "                    outputs = model(inputs)\n",
        "                    outputs = torch.sigmoid(outputs)\n",
        "                    loss = criterion(outputs, labels)\n",
        "\n",
        "                    loss.backward()\n",
        "                    optimizer.step()\n",
        "        print()\n",
        "\n",
        "    time_elapsed = time.time() - since\n",
        "    print('Training complete in {:.0f}m {:.0f}s'.format(time_elapsed // 60, time_elapsed % 60))\n",
        "\n",
        "    return model"
      ],
      "execution_count": null,
      "outputs": []
    },
    {
      "cell_type": "code",
      "metadata": {
        "id": "7NL6KanMBShy"
      },
      "source": [
        "for param in model.features.parameters():\n",
        "     param.requires_grad = False"
      ],
      "execution_count": null,
      "outputs": []
    },
    {
      "cell_type": "code",
      "metadata": {
        "colab": {
          "base_uri": "https://localhost:8080/"
        },
        "id": "h81goUahBSh1",
        "outputId": "39873429-14b5-42c9-f4d8-c7ba302a9339"
      },
      "source": [
        "# TRAIN THE CLASSIFIER BLOCK OF THE MODEL (I.E TOP DENSE LAYERS)\n",
        "model.to(device)\n",
        "EPOCHS = 20\n",
        "criterion = nn.BCELoss()\n",
        "optimizer = optim.Adam(model.classifier.parameters(), lr=0.0005)\n",
        "model = train_model(model=model, dataloaders=data_loaders, criterion=criterion, optimizer=optimizer, num_epochs=EPOCHS)"
      ],
      "execution_count": null,
      "outputs": [
        {
          "output_type": "stream",
          "text": [
            "Epoch 1/20\n",
            "----------\n",
            "\n",
            "Epoch 2/20\n",
            "----------\n",
            "\n",
            "Epoch 3/20\n",
            "----------\n",
            "\n",
            "Epoch 4/20\n",
            "----------\n",
            "\n",
            "Epoch 5/20\n",
            "----------\n",
            "\n",
            "Epoch 6/20\n",
            "----------\n",
            "\n",
            "Epoch 7/20\n",
            "----------\n",
            "\n",
            "Epoch 8/20\n",
            "----------\n",
            "\n",
            "Epoch 9/20\n",
            "----------\n",
            "\n",
            "Epoch 10/20\n",
            "----------\n",
            "\n",
            "Epoch 11/20\n",
            "----------\n",
            "\n",
            "Epoch 12/20\n",
            "----------\n",
            "\n",
            "Epoch 13/20\n",
            "----------\n",
            "\n",
            "Epoch 14/20\n",
            "----------\n",
            "\n",
            "Epoch 15/20\n",
            "----------\n",
            "\n",
            "Epoch 16/20\n",
            "----------\n",
            "\n",
            "Epoch 17/20\n",
            "----------\n"
          ],
          "name": "stdout"
        }
      ]
    },
    {
      "cell_type": "code",
      "metadata": {
        "id": "1GVyxSrkNbbu"
      },
      "source": [
        "\"\"\"torch.save({\n",
        "            'epoch': EPOCHS,\n",
        "            'model_state_dict': model.state_dict(),\n",
        "            'optimizer_state_dict': optimizer.state_dict(),\n",
        "            'loss': criterion,\n",
        "            }, '/content/drive/MyDrive/progetto_2021_dataset/outputs/model_mean_final10.pth')\n",
        "# plot and save the train and validation line graphs\"\"\""
      ],
      "execution_count": null,
      "outputs": []
    },
    {
      "cell_type": "code",
      "metadata": {
        "id": "d7p8tY01BSh2"
      },
      "source": [
        "from PIL import Image\n",
        "\n",
        "from skimage import io\n",
        "\n",
        "topk=10\n",
        "predictions = []\n",
        "y_true = []\n",
        "\n",
        "with torch.no_grad():\n",
        "  \n",
        "  for inputs, labels in test_loader:\n",
        "\n",
        "    inputs = inputs.to(device)\n",
        "    logps = model(inputs)\n",
        "\n",
        "    y_pred = torch.sigmoid(logps)\n",
        "\n",
        "    _, idx = y_pred.topk(topk, dim=1)\n",
        "\n",
        "    y_pred = torch.zeros_like(y_pred)\n",
        "    y_pred.scatter_(1, idx, 1)\n",
        "    predictions.append(y_pred.cpu())\n",
        "\n",
        "    y_true.append(labels.cpu())\n",
        "\n",
        "\n",
        "y_true, predictions = torch.cat(y_true, axis=0), torch.cat(predictions, axis=0)"
      ],
      "execution_count": null,
      "outputs": []
    },
    {
      "cell_type": "code",
      "metadata": {
        "id": "cRAwrJ-KVPN5"
      },
      "source": [
        "from sklearn.metrics import classification_report\n",
        "\n",
        "report = classification_report(y_true, predictions, \n",
        "                               target_names=list(sorted(label_idx.keys())))\n",
        "print(report)"
      ],
      "execution_count": null,
      "outputs": []
    },
    {
      "cell_type": "code",
      "metadata": {
        "id": "qt20YSVavHWj"
      },
      "source": [
        ""
      ],
      "execution_count": null,
      "outputs": []
    }
  ]
}