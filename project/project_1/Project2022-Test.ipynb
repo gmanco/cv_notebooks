{
 "cells": [
  {
   "cell_type": "markdown",
   "id": "99ce95f6-9091-47bb-8ea0-883da02c7b44",
   "metadata": {},
   "source": [
    "# Testing del modello\n",
    "\n",
    "## Prerequisiti\n",
    "\n",
    "Installare il software di calcolo dal seguente repository\n",
    "\n",
    "    git clone https://github.com/yhlleo/GAN-Metrics/\n",
    "  \n",
    "per installare le librerie accessorie fare riferimento alla documentazione presente nel repository\n",
    "\n",
    "## Valutazione del test set\n",
    "\n",
    "Nota:\n",
    "\n",
    "- _testA_ contiene il testset con le immagini dei Simpson\n",
    "- _testB_ contiene il testset con le immagini di persone reali\n",
    "\n",
    "\n",
    "Per valutare un modello:\n",
    "    \n",
    "1. Generare le 100 immagini a partire dal test set denominato _testB_\n",
    "2. Calcolare il FID score tra il dataset di riferimento _testA_ e il dataset generato con i comandi seguenti:\n",
    "\n",
    "\n",
    "\n",
    "    DATASET_DI_RIFERIMENTO=path/to/testA\n",
    "    DATASET_GENERATO=path/to/generated/data\n",
    "\n",
    "    find $(realpath $DATASET_DI_RIFERIMENTO) -name '*.png' > gtlist.txt\n",
    "    find $(realpath $DATASET_GENERATO) -name '*.png' > predlist.txt\n",
    "\n",
    "    echo \"Le immagini dei dataset devono essere 100 per entrambi\"\n",
    "    echo \"Files size gtlist $(cat gtlist.txt | wc -l | tr -d '\\n'); predlist $(cat predlist.txt | wc -l | tr -d '\\n');\"\n",
    "\n",
    "    python eval.py --metric fid --pred_list predlist.txt --gt_list gtlist.txt --resize 299\n",
    "\n",
    "\n",
    "\n",
    "\n",
    "\n",
    "> Se eseguiti in un notebook anteporre il comando \"!\"     "
   ]
  },
  {
   "cell_type": "code",
   "execution_count": null,
   "id": "6f102a13-de95-48e1-aae7-1b0d97b20aeb",
   "metadata": {},
   "outputs": [],
   "source": []
  }
 ],
 "metadata": {
  "kernelspec": {
   "display_name": "Python 3",
   "language": "python",
   "name": "python3"
  },
  "language_info": {
   "codemirror_mode": {
    "name": "ipython",
    "version": 3
   },
   "file_extension": ".py",
   "mimetype": "text/x-python",
   "name": "python",
   "nbconvert_exporter": "python",
   "pygments_lexer": "ipython3",
   "version": "3.9.5"
  }
 },
 "nbformat": 4,
 "nbformat_minor": 5
}
