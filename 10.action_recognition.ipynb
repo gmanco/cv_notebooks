{
 "cells": [
  {
   "cell_type": "markdown",
   "metadata": {},
   "source": [
    "# 3D Convolution"
   ]
  },
  {
   "cell_type": "code",
   "execution_count": 1,
   "metadata": {},
   "outputs": [],
   "source": [
    "import numpy as np\n",
    "\n",
    "import torch\n",
    "import torch.nn as nn\n",
    "import torch.nn.functional as F\n",
    "from torch.optim import *\n",
    "\n",
    "\n",
    "import matplotlib.pyplot as plt\n",
    "from matplotlib import animation\n",
    "from IPython.display import HTML\n",
    "\n"
   ]
  },
  {
   "cell_type": "code",
   "execution_count": 2,
   "metadata": {},
   "outputs": [
    {
     "data": {
      "text/plain": [
       "torch.Size([1, 1, 4, 5, 5])"
      ]
     },
     "execution_count": 2,
     "metadata": {},
     "output_type": "execute_result"
    }
   ],
   "source": [
    "images = torch.tensor([\n",
    "    [[0,0,0,0,0],\n",
    "    [0,0,1,0,0],\n",
    "    [0,0,1,0,0],\n",
    "    [0,0,1,0,0],\n",
    "    [0,0,0,0,0]],\n",
    "    [[0,0,0,0,0],\n",
    "    [0,1,0,0,0],\n",
    "    [0,0,1,0,0],\n",
    "    [0,0,0,1,0],\n",
    "    [0,0,0,0,0]],\n",
    "    [[0,0,0,0,0],\n",
    "    [0,0,0,0,0],\n",
    "    [0,1,1,1,0],\n",
    "    [0,0,0,0,0],\n",
    "    [0,0,0,0,0]],\n",
    "    [[0,0,0,0,0],\n",
    "    [0,0,0,1,0],\n",
    "    [0,0,1,0,0],\n",
    "    [0,1,0,0,0],\n",
    "    [0,0,0,0,0]]\n",
    "\n",
    "\n",
    "]).float()\n",
    "\n",
    "\n",
    "images = images.view(1,1,4,5,5)\n",
    "\n",
    "images.shape"
   ]
  },
  {
   "cell_type": "code",
   "execution_count": 3,
   "metadata": {},
   "outputs": [
    {
     "data": {
      "text/plain": [
       "tensor([[[[[0., 0., 0., 0., 0.],\n",
       "           [0., 0., 1., 0., 0.],\n",
       "           [0., 0., 1., 0., 0.],\n",
       "           [0., 0., 1., 0., 0.],\n",
       "           [0., 0., 0., 0., 0.]],\n",
       "\n",
       "          [[0., 0., 0., 0., 0.],\n",
       "           [0., 1., 0., 0., 0.],\n",
       "           [0., 0., 1., 0., 0.],\n",
       "           [0., 0., 0., 1., 0.],\n",
       "           [0., 0., 0., 0., 0.]],\n",
       "\n",
       "          [[0., 0., 0., 0., 0.],\n",
       "           [0., 0., 0., 0., 0.],\n",
       "           [0., 1., 1., 1., 0.],\n",
       "           [0., 0., 0., 0., 0.],\n",
       "           [0., 0., 0., 0., 0.]],\n",
       "\n",
       "          [[0., 0., 0., 0., 0.],\n",
       "           [0., 0., 0., 1., 0.],\n",
       "           [0., 0., 1., 0., 0.],\n",
       "           [0., 1., 0., 0., 0.],\n",
       "           [0., 0., 0., 0., 0.]]]]])"
      ]
     },
     "execution_count": 3,
     "metadata": {},
     "output_type": "execute_result"
    }
   ],
   "source": [
    "images"
   ]
  },
  {
   "cell_type": "code",
   "execution_count": 8,
   "metadata": {},
   "outputs": [
    {
     "data": {
      "text/html": [
       "<video width=\"720\" height=\"720\" controls autoplay loop>\n",
       "  <source type=\"video/mp4\" src=\"data:video/mp4;base64,AAAAHGZ0eXBNNFYgAAACAGlzb21pc28yYXZjMQAAAAhmcmVlAAAKdm1kYXQAAAKgBgX//5zcRem9\n",
       "5tlIt5Ys2CDZI+7veDI2NCAtIGNvcmUgMTUyIC0gSC4yNjQvTVBFRy00IEFWQyBjb2RlYyAtIENv\n",
       "cHlsZWZ0IDIwMDMtMjAxNyAtIGh0dHA6Ly93d3cudmlkZW9sYW4ub3JnL3gyNjQuaHRtbCAtIG9w\n",
       "dGlvbnM6IGNhYmFjPTEgcmVmPTMgZGVibG9jaz0xOjA6MCBhbmFseXNlPTB4MzoweDExMyBtZT1o\n",
       "ZXggc3VibWU9NyBwc3k9MSBwc3lfcmQ9MS4wMDowLjAwIG1peGVkX3JlZj0xIG1lX3JhbmdlPTE2\n",
       "IGNocm9tYV9tZT0xIHRyZWxsaXM9MSA4eDhkY3Q9MSBjcW09MCBkZWFkem9uZT0yMSwxMSBmYXN0\n",
       "X3Bza2lwPTEgY2hyb21hX3FwX29mZnNldD0tMiB0aHJlYWRzPTEyIGxvb2thaGVhZF90aHJlYWRz\n",
       "PTIgc2xpY2VkX3RocmVhZHM9MCBucj0wIGRlY2ltYXRlPTEgaW50ZXJsYWNlZD0wIGJsdXJheV9j\n",
       "b21wYXQ9MCBjb25zdHJhaW5lZF9pbnRyYT0wIGJmcmFtZXM9MyBiX3B5cmFtaWQ9MiBiX2FkYXB0\n",
       "PTEgYl9iaWFzPTAgZGlyZWN0PTEgd2VpZ2h0Yj0xIG9wZW5fZ29wPTAgd2VpZ2h0cD0yIGtleWlu\n",
       "dD0yNTAga2V5aW50X21pbj0yIHNjZW5lY3V0PTQwIGludHJhX3JlZnJlc2g9MCByY19sb29rYWhl\n",
       "YWQ9NDAgcmM9Y3JmIG1idHJlZT0xIGNyZj0yMy4wIHFjb21wPTAuNjAgcXBtaW49MCBxcG1heD02\n",
       "OSBxcHN0ZXA9NCBpcF9yYXRpbz0xLjQwIGFxPTE6MS4wMACAAAAFD2WIhAAU//73x0/Apuj5Zsud\n",
       "RT0hMIrY+kgovVjs0DJ1AAADAAADAAADAAhHQ5R/9FtORnzAAAAFPADGAbcGOUCqtVQnwACc2Cbw\n",
       "+DLqR3ptJpecBdCIsPaYdHN7oCPwtvv/8HSL6WOnwNim7Acx6p8Wsq3AAB1gmXfzAWmGaxd/1urs\n",
       "KlI7jgh+RXQ6hiFnyLzd3DI1YHtiAJ4TP3CF1e7iQv5ggdPAkwZnzOzitbqpCsyeNmJ5rnOtNNQz\n",
       "JB9cADCuI3oRz6XCknwjSzjHpcDKIX3kWfz1P5H5cK7/zABgg4Qnu5olXATWkhI5RB1AyLThPGGU\n",
       "+xNAreF4lQMT8i6GVw1dxGQSl2UlAaLgBWALoFPzIdO2cbnvtQC/383PuR0GidqdYIxSXFm/EnHd\n",
       "fRP2ZB93pBzw2A5ve4AHSvgO/Poz64f7q96ivEuJvXFaTli96rceAB7AAAADAABjvlPKs373rk8a\n",
       "MVhfcNyWu4f3rAAAAwANmsOlU6tUzrTcY0d8isb3+XvR/p1BFBFSGthj552VdiMoQTP7ZUbpg8VI\n",
       "O0kzQJFpO0Ga6YI943OscIRY7j3KQMZW+NJfbZLsYWyPkCyy+j7iU1z4bwY2p4OiWjoj9fpTaSFG\n",
       "tf851v0AAAMAAAMCc/AAAAMARHg3QT6e0UQXdg7zuw+ze8NEUStuNnw4jk1A2WADk0E97hOybME8\n",
       "afaVly6Ij4ACRSb0M3NBrEgNTnu0nuBnkO8VlYN01ncA5R0iDn04U6WMCrZk+u4sfnbKGBH6Vanf\n",
       "IWIhClVvclu2IZi9l1pLevUYtPo7yFqmPkAA8QAAAwBvzhdBOSlDue0SZgQsuJ1x5QmsFxRWW6En\n",
       "aefA6MXs0M9nP0bp8TfACIEeYgBMi1FeAAARwoySC30yREzVvZtCN+xZjYaeNXhZigfkHCIAQTzp\n",
       "ucbR44E5+PbpoWvFjAFnVCfY7uglqIm/drsNYZTYp1NMGITc0oBqv5eG7gEEWw1tOTgAChgAADYu\n",
       "pjmluQqVI720NLrhdlnfgVdS9u2CPqEejsc+1HSeMFIb5VQkUxC7Eh4Qev9dY6fq3aVWpRW/yQCM\n",
       "4Jg+xfZUhpY9XVFm8sEFje0uPOqHfY4d4Nmf6qzsfA7+a0pCQCNrvpMS3R39lqceGAFwKTm5ifVy\n",
       "Z3N5PJ7bNYyDaIzuYMfp5RTvAOOscmU6Eku7EgfCjwPzoCf9b0BytUIHe7B9Se9PlHMzN5gv7+YR\n",
       "dY+9Ua9o5eKmYDDJkBO8rzPm7vl5Tnk67hX88GZ0qMF72defr+ih/n//vk+PUOifxm9XTHC5twkC\n",
       "12YuN8U9cWNHuLhBL7p872iQJuhn258m8CHAXCWYk0yrS2EakmscD7ugKfnW7Q32GPSmI7GyTUga\n",
       "AsIosRsJO2hW4TWWNH9GGIlNd1NeMyVpHvUoOftpzPrSrzrgXTJ/ylm5IGTUc4N7+dtjrx6fuv7z\n",
       "enO9IVjDE7+Q1Cb475YNgCpygz1KBsYRjqkgz8pPmdAmav1oUxT3E/mqt5njzPhyL/6bf67lRUku\n",
       "MbdlM5UlxgOauG7zSkX3yp0t3vR3Hbe7H+jpcRV1ks2kUCQKVSlLjT5tnogGtZ/ujCAqjEiD6IMy\n",
       "pGOzxkrrCae0XhFYyDpAAGNGmSWqc959cDhlpNgd7qac9mHAK/N+7EC8ADfHOwcDXq5MD6eb/R9s\n",
       "3CNJ3eZIHGEKBBQAAAMAAAMAAAMAAAQVAAAA/UGaIWxBT/7WjLAAAAMBdxYWRRTlDadcmEzng5o3\n",
       "kA8gcmHsT2P0KRwAADq92zYOAOFhFk36Oi+Cr0TWDUAFSqVAC6r98xvRfWL8kMSO2/nseYAtWdCx\n",
       "1je4SlWpTOgdALt9FVvO8NE3MoszpOLvXnpwYYkQWMjXP4qQanFKZYCM+pzUv7kFJ1Mfq+48xp/3\n",
       "TjhFJPQvmaLpeE7muCRwW3AmdOujBJBHoG4EjnXgQOMSMJ3/AZc1VsH4K0E/9XvaLMoYAlsy4TzP\n",
       "yPXXk3AegGwMoG9MQ9z1OhsweQzJ5QhNTFGogXdRYGgsb194uJ5y+aaN3+aB6dls+2qbrAIAAACL\n",
       "QZpCPCGTKYQU//7WjLAAAAMBePp/0mur2wPfLPiFXPiF5BHAM+AAAEdAAmgE8Jxj/+AyeIAW9vcg\n",
       "Am+5mYrS+F1QARvb9X7eG2waXuS+cUt34zHW+1no7UcGzWGaRIpBgr0Thy7b1beHKwMC7YVJM8XM\n",
       "fHxiV5XmrFB8uJhCQhNV4jDZCbD4dGSBgQAAASNBmmNJ4Q8mUwIJf/61KoAAAAMD6VgRXMIoAHXw\n",
       "5ILxsLE1skorPlidq///RYAB8uQ5sBoQQftzoZ9VaKcHPBuYWXa+bWEG/4mVQuMpVKR8JSZJILyj\n",
       "skAAVZEzIAxxmMB68gA9PAABCNF1Dr29+EyHSgRSn8sHcwfD1n6zOMr4YHZahk8GqN0vHl9qTohm\n",
       "GRRKRy/trDN43Nu1FrpdHNgJF7Id2r7R3ZMATD8sfBQA13FAZBhko1SPoXtGKiAGPKl7jtBqtog0\n",
       "mpUcM+Aj8wETAEE4qi3sHJgrJxaTOAUwVjupZTcP1K07Kv8CkMdh8zGCbxBiuEPuoXtRHmR+JU5a\n",
       "94p2nfZHBJqCGop0v1y8gGIWmYsF5CtyC9ddZiLPiHEt8W0AAANHbW9vdgAAAGxtdmhkAAAAAAAA\n",
       "AAAAAAAAAAAD6AAAB9AAAQAAAQAAAAAAAAAAAAAAAAEAAAAAAAAAAAAAAAAAAAABAAAAAAAAAAAA\n",
       "AAAAAABAAAAAAAAAAAAAAAAAAAAAAAAAAAAAAAAAAAAAAAAAAgAAAnF0cmFrAAAAXHRraGQAAAAD\n",
       "AAAAAAAAAAAAAAABAAAAAAAAB9AAAAAAAAAAAAAAAAAAAAAAAAEAAAAAAAAAAAAAAAAAAAABAAAA\n",
       "AAAAAAAAAAAAAABAAAAAAtAAAALQAAAAAAAkZWR0cwAAABxlbHN0AAAAAAAAAAEAAAfQAABAAAAB\n",
       "AAAAAAHpbWRpYQAAACBtZGhkAAAAAAAAAAAAAAAAAABAAAAAgABVxAAAAAAALWhkbHIAAAAAAAAA\n",
       "AHZpZGUAAAAAAAAAAAAAAABWaWRlb0hhbmRsZXIAAAABlG1pbmYAAAAUdm1oZAAAAAEAAAAAAAAA\n",
       "AAAAACRkaW5mAAAAHGRyZWYAAAAAAAAAAQAAAAx1cmwgAAAAAQAAAVRzdGJsAAAAtHN0c2QAAAAA\n",
       "AAAAAQAAAKRhdmMxAAAAAAAAAAEAAAAAAAAAAAAAAAAAAAAAAtAC0ABIAAAASAAAAAAAAAABAAAA\n",
       "AAAAAAAAAAAAAAAAAAAAAAAAAAAAAAAAAAAAAAAAGP//AAAAMmF2Y0MBZAAf/+EAGWdkAB+s2UC0\n",
       "FuhAAAADAEAAAAMBA8YMZYABAAZo6+PLIsAAAAAcdXVpZGtoQPJfJE/FujmlG88DI/MAAAAAAAAA\n",
       "GHN0dHMAAAAAAAAAAQAAAAQAACAAAAAAFHN0c3MAAAAAAAAAAQAAAAEAAAAYY3R0cwAAAAAAAAAB\n",
       "AAAABAAAQAAAAAAcc3RzYwAAAAAAAAABAAAAAQAAAAQAAAABAAAAJHN0c3oAAAAAAAAAAAAAAAQA\n",
       "AAe3AAABAQAAAI8AAAEnAAAAFHN0Y28AAAAAAAAAAQAAACwAAABidWR0YQAAAFptZXRhAAAAAAAA\n",
       "ACFoZGxyAAAAAAAAAABtZGlyYXBwbAAAAAAAAAAAAAAAAC1pbHN0AAAAJal0b28AAAAdZGF0YQAA\n",
       "AAEAAAAATGF2ZjU4LjIwLjEwMA==\n",
       "\">\n",
       "  Your browser does not support the video tag.\n",
       "</video>"
      ],
      "text/plain": [
       "<IPython.core.display.HTML object>"
      ]
     },
     "execution_count": 8,
     "metadata": {},
     "output_type": "execute_result"
    }
   ],
   "source": [
    "fig = plt.figure(figsize=(10, 10))\n",
    "ims = []\n",
    "for i in range(4):\n",
    "    im = plt.imshow(images[0,0,i,:,:], animated=True,cmap='gray')\n",
    "    ims.append([im])\n",
    "\n",
    "ani = animation.ArtistAnimation(fig, ims, interval=500, blit=True, repeat_delay=1000)\n",
    "plt.close()\n",
    "\n",
    "# Show the animation\n",
    "HTML(ani.to_html5_video())"
   ]
  },
  {
   "cell_type": "code",
   "execution_count": 9,
   "metadata": {},
   "outputs": [],
   "source": [
    "kernel = torch.tensor([\n",
    "    [1,1,1],\n",
    "    [1,-8,1],\n",
    "    [1,1,1]\n",
    "]).float().unsqueeze(0)\n",
    "\n",
    "\n",
    "kernel2d = kernel.view(1,1,3,3)"
   ]
  },
  {
   "cell_type": "code",
   "execution_count": 10,
   "metadata": {},
   "outputs": [
    {
     "data": {
      "text/plain": [
       "tensor([[[[ 1.,  1.,  1.,  0.,  0.],\n",
       "          [ 1., -7.,  2.,  1.,  0.],\n",
       "          [ 1.,  2., -6.,  2.,  1.],\n",
       "          [ 0.,  1.,  2., -7.,  1.],\n",
       "          [ 0.,  0.,  1.,  1.,  1.]]]], grad_fn=<MkldnnConvolutionBackward>)"
      ]
     },
     "execution_count": 10,
     "metadata": {},
     "output_type": "execute_result"
    }
   ],
   "source": [
    "conv2d = nn.Conv2d(1, 1, kernel_size=(3, 3), padding=1,bias=False)\n",
    "\n",
    "conv2d.weight.data = kernel2d\n",
    "\n",
    "\n",
    "image2d = images[:,:,1,:,:]\n",
    "\n",
    "\n",
    "out = conv2d(image2d)\n",
    "\n",
    "out"
   ]
  },
  {
   "cell_type": "code",
   "execution_count": 11,
   "metadata": {},
   "outputs": [
    {
     "data": {
      "image/png": "[encoded data removed]",
      "text/plain": [
       "<Figure size 720x720 with 2 Axes>"
      ]
     },
     "metadata": {
      "needs_background": "light"
     },
     "output_type": "display_data"
    }
   ],
   "source": [
    "\n",
    "fig = plt.figure(figsize=(10, 10))\n",
    "\n",
    "plt.subplot(1,2,1)\n",
    "plt.imshow(image2d.view(5,5).detach().numpy(),cmap='gray')\n",
    "plt.subplot(1,2.2,2)\n",
    "plt.imshow(out.view(5,5).detach().numpy(),cmap='gray')\n",
    "\n",
    "plt.show()"
   ]
  },
  {
   "cell_type": "code",
   "execution_count": 12,
   "metadata": {},
   "outputs": [],
   "source": [
    "kernel3d = torch.cat([kernel,kernel, kernel],axis = 0).view(1,1,3,3,3)\n",
    "\n",
    "conv3d = nn.Conv3d(1, 1, kernel_size=(3, 3, 3), padding=1,bias = False)\n",
    "\n",
    "\n",
    "conv3d.weight.data = kernel3d\n"
   ]
  },
  {
   "cell_type": "code",
   "execution_count": 13,
   "metadata": {},
   "outputs": [
    {
     "data": {
      "text/plain": [
       "tensor([[[[[  1.,   2.,   2.,   1.,   0.],\n",
       "           [  1.,  -5.,  -5.,   3.,   0.],\n",
       "           [  1.,   5., -12.,   5.,   1.],\n",
       "           [  0.,   3.,  -5.,  -5.,   1.],\n",
       "           [  0.,   1.,   2.,   2.,   1.]],\n",
       "\n",
       "          [[  1.,   2.,   2.,   1.,   0.],\n",
       "           [  2.,  -3.,  -2.,   5.,   1.],\n",
       "           [  2.,  -2., -18.,  -2.,   2.],\n",
       "           [  1.,   5.,  -2.,  -3.,   2.],\n",
       "           [  0.,   1.,   2.,   2.,   1.]],\n",
       "\n",
       "          [[  1.,   1.,   2.,   1.,   1.],\n",
       "           [  2.,  -4.,   7.,  -4.,   2.],\n",
       "           [  3.,  -3., -18.,  -3.,   3.],\n",
       "           [  2.,  -4.,   7.,  -4.,   2.],\n",
       "           [  1.,   1.,   2.,   1.,   1.]],\n",
       "\n",
       "          [[  0.,   0.,   1.,   1.,   1.],\n",
       "           [  1.,   3.,   5.,  -5.,   2.],\n",
       "           [  2.,  -5., -12.,  -5.,   2.],\n",
       "           [  2.,  -5.,   5.,   3.,   1.],\n",
       "           [  1.,   1.,   1.,   0.,   0.]]]]], grad_fn=<SlowConv3DBackward>)"
      ]
     },
     "execution_count": 13,
     "metadata": {},
     "output_type": "execute_result"
    }
   ],
   "source": [
    "out = conv3d(images)\n",
    "\n",
    "out"
   ]
  },
  {
   "cell_type": "code",
   "execution_count": 14,
   "metadata": {},
   "outputs": [
    {
     "data": {
      "image/png": "[encoded data removed]",
      "text/plain": [
       "<Figure size 432x288 with 1 Axes>"
      ]
     },
     "metadata": {
      "needs_background": "light"
     },
     "output_type": "display_data"
    },
    {
     "data": {
      "image/png": "[encoded data removed]",
      "text/plain": [
       "<Figure size 432x288 with 1 Axes>"
      ]
     },
     "metadata": {
      "needs_background": "light"
     },
     "output_type": "display_data"
    },
    {
     "data": {
      "image/png": "[encoded data removed]",
      "text/plain": [
       "<Figure size 432x288 with 1 Axes>"
      ]
     },
     "metadata": {
      "needs_background": "light"
     },
     "output_type": "display_data"
    },
    {
     "data": {
      "image/png": "[encoded data removed]",
      "text/plain": [
       "<Figure size 432x288 with 1 Axes>"
      ]
     },
     "metadata": {
      "needs_background": "light"
     },
     "output_type": "display_data"
    }
   ],
   "source": [
    "#fig = plt.figure(figsize=(10, 10))\n",
    "\n",
    "#plt.subplot(2,2,1)\n",
    "plt.imshow(out[0,0,0,:,:].detach().numpy(),cmap='gray')\n",
    "plt.axis('off')\n",
    "plt.show()\n",
    "#plt.subplot(2,2,2)\n",
    "\n",
    "plt.imshow(out[0,0,1,:,:].detach().numpy(),cmap='gray')\n",
    "plt.axis('off')\n",
    "plt.show()\n",
    "\n",
    "\n",
    "#plt.subplot(2,2,3)\n",
    "plt.imshow(out[0,0,2,:,:].detach().numpy(),cmap='gray')\n",
    "plt.axis('off')\n",
    "plt.show()\n",
    "\n",
    "\n",
    "#plt.subplot(2,2,4)\n",
    "plt.imshow(out[0,0,3,:,:].detach().numpy(),cmap='gray')\n",
    "plt.axis('off')\n",
    "plt.show()\n",
    "\n",
    "\n",
    "\n",
    "\n",
    "\n"
   ]
  },
  {
   "cell_type": "code",
   "execution_count": 15,
   "metadata": {},
   "outputs": [
    {
     "data": {
      "text/html": [
       "<video width=\"720\" height=\"720\" controls autoplay loop>\n",
       "  <source type=\"video/mp4\" src=\"data:video/mp4;base64,AAAAHGZ0eXBNNFYgAAACAGlzb21pc28yYXZjMQAAAAhmcmVlAAAS6W1kYXQAAAKgBgX//5zcRem9\n",
       "5tlIt5Ys2CDZI+7veDI2NCAtIGNvcmUgMTUyIC0gSC4yNjQvTVBFRy00IEFWQyBjb2RlYyAtIENv\n",
       "cHlsZWZ0IDIwMDMtMjAxNyAtIGh0dHA6Ly93d3cudmlkZW9sYW4ub3JnL3gyNjQuaHRtbCAtIG9w\n",
       "dGlvbnM6IGNhYmFjPTEgcmVmPTMgZGVibG9jaz0xOjA6MCBhbmFseXNlPTB4MzoweDExMyBtZT1o\n",
       "ZXggc3VibWU9NyBwc3k9MSBwc3lfcmQ9MS4wMDowLjAwIG1peGVkX3JlZj0xIG1lX3JhbmdlPTE2\n",
       "IGNocm9tYV9tZT0xIHRyZWxsaXM9MSA4eDhkY3Q9MSBjcW09MCBkZWFkem9uZT0yMSwxMSBmYXN0\n",
       "X3Bza2lwPTEgY2hyb21hX3FwX29mZnNldD0tMiB0aHJlYWRzPTEyIGxvb2thaGVhZF90aHJlYWRz\n",
       "PTIgc2xpY2VkX3RocmVhZHM9MCBucj0wIGRlY2ltYXRlPTEgaW50ZXJsYWNlZD0wIGJsdXJheV9j\n",
       "b21wYXQ9MCBjb25zdHJhaW5lZF9pbnRyYT0wIGJmcmFtZXM9MyBiX3B5cmFtaWQ9MiBiX2FkYXB0\n",
       "PTEgYl9iaWFzPTAgZGlyZWN0PTEgd2VpZ2h0Yj0xIG9wZW5fZ29wPTAgd2VpZ2h0cD0yIGtleWlu\n",
       "dD0yNTAga2V5aW50X21pbj0yIHNjZW5lY3V0PTQwIGludHJhX3JlZnJlc2g9MCByY19sb29rYWhl\n",
       "YWQ9NDAgcmM9Y3JmIG1idHJlZT0xIGNyZj0yMy4wIHFjb21wPTAuNjAgcXBtaW49MCBxcG1heD02\n",
       "OSBxcHN0ZXA9NCBpcF9yYXRpbz0xLjQwIGFxPTE6MS4wMACAAAAGQmWIhAAU//73x0/Apuj5Zsud\n",
       "RT0hMIrY+kgovVjs0DJ1AAADAAADAAADAAhHQ5R/9FtORnzAAAAFPADGAbcGOUCqtVQnwADgdCpH\n",
       "Fp8Whfw4QvAvoH+YmtC32mHb2+LP/UXow2N96bG0cwZmBGuOiDeox+ddUwi1atIuTfn6wBbUd3Ib\n",
       "FJxiYaYo/3B1TioeNdeRgwannjkQIH0u009vOVv//y7d0wBWhFsanTCNnlK8Otu16LRKzMAz0iOz\n",
       "sg3OMnyD1BKWEcUdH+9LikDjGl/6kAez03+D2Of25Ykg/YI+9f9JmOx/hTWGv1nPwaldPjP/RHFH\n",
       "BPA8lJPe7StWMA98fb5yj4ImyXTcJLthSvrJVAnyXqywcWMCM2+wOaZACgWlRoPrWIC6uMJAjnqM\n",
       "4acLfsdDyV6FV1+BZ2/JezWc5PLx7FYeSfzd1xv+83UT4Pu8qIg3UAnBp8PburgVoAA6SAAGIMEp\n",
       "t0m+cBvHCNbOHjCevJNGsr1pSK+FJC0G3p6ejg+NAcgndxMykEerT8HcSU4QjvZ9/G04+hMWDIz/\n",
       "LLxQ5e1TSoCYJ0wAAAMA2MaOzX/xAHiJcDN+4q9E7I6gwQ6HLjos6l4B+JBhkBAeiYBf6KddmSl+\n",
       "06byAOU1pIGYKwz98qzzV+3geR4khk4y0FXC2EBSS/P//8BCi/GDeZPG7kjALMj/21CRMfTwdFpr\n",
       "t0gAfnBuiDDTTjdmWJcRIgAAAwAAAwBmRR5xNaeNXL+rro4O3DUemHOakpI/fWzVir04A3DonMMa\n",
       "+c+fxQcyuHBA1x2HpDFhLT4/JZ43EjmZGBPxY/j3G8Sd2+NJfbZLsYW1K5C19a7KaU1z4bwjRcMg\n",
       "k39PVs+RXZxPKwAnNYAAAHrvKMplhKEhjs95IKYb1fEZy+LIae7IjJZgEelz80h2mnXmKqYZzLuZ\n",
       "YhLrytFBeunqT0lTwlwMkh0IpPQ6/F8zkAJ5yDgxeIq8BFiZEBFU83Wvr32YyS2Depn5n0LspSxi\n",
       "WUAU3wHvScg3KzTnbnVe/2n6qqQQpiVJB2z++C/OG2GBNLlM2jwCMNekdDYrPId4rKwbprO+rtlg\n",
       "b6U91rlZnAnjTeswJc+C4qXr/2HNobaD/Rj0EcMzIt1b56fC68bvrraauGfSOn8GMvfEJh18pq23\n",
       "dcg1St7u2VyrR60kT4EjP2ErtAU5uskzDKfd5iUqouO94n/U3co8qtgJ9mMDQuHSBjBDeZxBbilm\n",
       "osUd9K4VUBZMgqjIAEpgC8ffvdz5xOuPnibJWfGhUiPWaLIXoTqb3xmwAXQGpCuWUATzw0edDVwq\n",
       "fOi96RIEwYoDNM7Ohas4w2ntQiMMU5r3GxQEPyODYsXSNhHfT6PZB/AbqYAuAdbcMZ37a5TSZ7wu\n",
       "QuRdTu6F2YAaJCkrBU8d6LfzVX7wtkYv33dHLNNLJMxfax723gX1Da0gM0hBcTQOOaWRMmZYoFH9\n",
       "oyWl1dCZEPnIw0jvUZhfG2raOHlxl//PLn81ouf8nTZCe2SFQaB5YCs2MZMXzg8ChpYH6pcWLBf7\n",
       "Jb/EC8opClNi6N1VcuRMOXzW0zTMT4YZStVvIYdPCHdKuQZSaOM+qHD2Z2p1+WezcYcelhlNH27B\n",
       "y7HfKZI3JFfbOuOOdrYzAGLEhHHLC2pL6ByZ0qX0wAvpHNYT0T4Y9hEFia9GwRV9myXtHYviqk++\n",
       "JQ9JEciKa6dtMK9OZiMLr9e0sTA02bpxnofTipypbT+kcN51qgGfP5NIn+vSAnsH5uyb5Je0nvXU\n",
       "jw9AH4nga8Jd937AwA2pIHCfQh1prJ9CldUec3n/EJkDXM2xORqsWDw1opawS+cI13xVDM2arNoc\n",
       "DyQ2clA64TrKGHicJRYPewDSWIDe18bzPOt7+FI4+H44Q4khKCrc9mlzMmmjR3VbQFV/qO2S1N7w\n",
       "Jw1mBuPNzHdno4x6Ah8SgEkHuhy0riqLcpMvA3fZGnpE8Uc3HxLhj0Pyp0t09mEKtJ0CKKd1Urzg\n",
       "33QJvMD04pWafrOr87hsOf97y7JaA5cxNa890cEffcuBjJp7Pml2U4foACNsbBZWjreH/ncGPP8J\n",
       "zeHMuw0CTh0/ZAHluxi0esNuV5tc5Uh6UzavapkVVdmQAABKwAAAAwAAAwBbwQAAA8pBmiFsQU/+\n",
       "1oywABXCxmAAWc140ymCdHnwp5ju5xHm6Uic//jAmY8o/Mv/Xuc/G/xK3eVn3H3hZ943n6/nCYyk\n",
       "GCQ6FjdvN8h+gryd7vrmgiaMH3Q4SadLMpXEkAWmDgpM/G8DpFnEta9VJcGBprCzG2GQa1Nled0S\n",
       "u/kkNyXAAAADABGOEjUEgilbXRaCU20AAhWjUjYWSYFEGglfpQk0JrMjXAUD2okhDEIBoM4Aj2AM\n",
       "MbTTHydJuP4xJO4lsFv+NfMQh5Dp5koMkSLXawN8/oh79PC/TbPVOfuC75sFC8kv03AcHZ/nL4jF\n",
       "WbX9+62zZ8lKndwCZPVaVXtEjX9sArGUZsFFxjB7/ItSvFWurjiZwHwUEZXCuoHbpBxeUZQKADsR\n",
       "Ycx9nm19xlGzXudYxEB2phKAsKaSi6wWoYt3crDb6EWaqk8nMGSmtdEFsW8nuXihy+JeshVcWlhj\n",
       "I2/S5ofAf4LzGPzRVHPjggQVJ63gTahAHGIQhEB5XkNaX7yz8fUMOc/ml4XB0Oh+vp/CNnWvCM9z\n",
       "kgzqctDbAz3eniQnbk8w7Ezm7HQQkwnZzCrT38UGLXQszgIclkgkM+CIIJnklesS8kQu6mIAaT7W\n",
       "CC17OOGvuv+96QIy0PnHszbSOCSWQBBrHuG1ShMImKxQCWBYLFj1rYc1SVZDcRfups5hiprSRppL\n",
       "hPadDclPDmkEVjNQK+g4sDVkYV99x2pTP1p8J9sU6OVs3hSZcrtIvfdxaFcpn+se3PaoSAHjPgjy\n",
       "2Lgs4e6y8LlLJqloyvCm5esR3aKI6e/X6imaBLpL1xv31la2ZDWLB8L3jkfymgJOuV075W2SejfG\n",
       "emYm+PuXxN8fg7GdBVdJb4T68PI1287vgVwBrb4t+54pHhRAXfRMFHWvIylLS7Y7mtKq9gU4wGCX\n",
       "9pOz67Um+cvXaniiAGchaJP3fmZllktX9OHe5Zg1XvBQtZjDA/3IJZx0H21LRIGF0IkdYOeis99Q\n",
       "6nwNudk7Rr27Uh3XB9AjDdvlze/dCAlOYyTyc3upSPm5wMMQJVrCmDIPZDwSrEhcaXZcOqaGD3lR\n",
       "uzxP30eQHpQwJC0o0jgGXgQ1VT42cQKUAFO+g05DVL0orZ3H+pyeZJaWTEjuHNmo9hM7ySQncupH\n",
       "B1c+5ur1aYX8kZaJartUpi+QTxC2uMAg4saOaC+VpEDRs6eFmAdDTqCK5BSZe6ZzwEEIfXeBO0hp\n",
       "rvegBdqaypuVSbXMSrT1Tpl0vDpFyEbuWlSmvMf+YBul7jax8nvydh7KmDPV4MFbgAEDAAADZUGa\n",
       "QjwhkymEFP/+1oywABXAM4ME7c/JMEYfkupwyJjedbKN7nxTg8AAgqMK7sDHfnPUtXJaBROo6KQq\n",
       "hyezdlPKQYPTBHZl6bBVjUAAABSEZsQKVr7Cu/r9gpJGw4wLLAzN3Lp/+6N8AuAAyI6AFicXuz06\n",
       "BTg3gBXTmY8xR9f3NFiNxCYoT1GByJXAAh7Pj4N3Ul6uBHU8Auvj3u+NeLtPVSL5bSi2JtJ2liB1\n",
       "CSe+bOkioJCpbqDBKAqDkraLWtYzl0ZWkC4HsQbwsdmaOFSkRwx7pMVGDEHn7slBDbelq5C6ILaR\n",
       "wbySjxJdAeAra/pxioxcR+oP/PF1A7D+A1OTZZgFJd49DetleebZ2LZ8zEoXhgADV1IYOm4qs1X/\n",
       "dckwFT8gm+IKQkAAU0ER16o0XcLRIC46jI4cWayH8r3RdXTyk96pq7jAETvXQtPwVaNEIPEh0TG1\n",
       "PK9Ml8/tAy105FhvGo8XKcnRVU2CYK+adoKRn2f1W4OztFw5FfX+8YUkanF6mFc1FAhCcRvrTBWn\n",
       "0LkTRtymfk+sfk+7eYABl56j74n1L89nFo/ubcuybLS77uK4nz2v+lI7yVlCGSrCpbZmJknEaLma\n",
       "79+6W64AYDgVh09qnoHkbXEaWA2q7Z/O7WcLIeYqd3LL3fJCMhPyhbj6s4pbIR3UIEVwNBkoR+0l\n",
       "81IT/CK7v5LnYjYF03Vh2tVHqm50qZq4e1aBOJvaU3V7b4LnGvVvoGCfeYPcPHrjNUZ9fEk8xiBF\n",
       "NK6DPdqqcGDMjMzcM79DvrazZbhI0kiZRni7KBcD7vrY2MgOALlQRZMj//8m5sSiy9mCtffHclzx\n",
       "6z+rMNfFRweNl7nN+FTiNbMdLjerCnNcQul2zLE8K4zYLJeTr59OA6JjMC/8sfO6muljic5BhSIg\n",
       "EhY8GrFFrGT+s4lQxEKV+yTNz46c0NTmwXuhNb7lJbCXnvRpQXMTpvpjdwhUO7dU4SWj7lt8luj5\n",
       "Vwx6UQmJANgEEHOMOGmFIW2FCqyMKBrdhirMuC4vfog5vzQYRy0IxgkVzsnYx6vQU0iHsP8n95s5\n",
       "24jlWT5OKNclgMUvrhL0XSxBOq04jPf5RXv0OwRpOedc0RQwIPrqMWWICMcG5SjfAB8fzPhCLHkX\n",
       "pbl3r+Q70QZQACihAAACvEGaY0nhDyZTAgl//rUqgABUwmMgAE6g24925BY22//fZh+eDcwsu182\n",
       "md1k7sLulyavxY9/J1+/rZ1qdFAnmYuYyFqtLC/1OUW6FABjdXMXvB5WqW3INqAAAAMAjtSuUQ0g\n",
       "qdgQHDeMA9LtU/4AGENCszRtcMn5PhUkEbzF0GhP4nCa3XDPylaSipkmGnBASua40vMuXtgkw2oJ\n",
       "NDtBwzoIoZaTQauJqOIxNChp3AB39m+VckoQrB9C6Nod3M3KyASPXoyTkNDG/lU1SniDFbmnODLV\n",
       "wD5Biwesikp9Q5KxOw7fUr6gGqQm1VIq27eAm0n/ueL6RqZ9JiA+IUqAEU44A3y7IcfN3KTMULuX\n",
       "je0E7A7xclXXdelP5vvroWrDDCTOpBTkyw74R3vK7/y1/1y80R/9VaoN7MWGNPF1wOXY/upOhzr0\n",
       "2afo15Q8j7/HImAPEIJO+PZADTr91jOKs8BcaIwVAG+bTjgTtjMXbMDQavZYni4akRFgyqUZfeq7\n",
       "o916qtwdAinrPLwxEffZXj+NyZZRPKHAWFMSl20H40Mlo+u/prtGiHyUWHuBdMsDssjnC1afW7uB\n",
       "mYMV8nFooZUU+Iye5ItA/eVJBEuZzVJOUzWwcEXJbdoYEDXN2YTYFAOXGGKS/V3/j2n2WjYY1AXu\n",
       "NL2fWTsB5XoRT7FyQlSf7ZJLog7QFXV42xIi559aw+ZsBe5mZcb4lvNvtj7EACztYQnXLhzmDPd5\n",
       "/gLndczuW3SXuEvlAJ976SZ/HFfQx8cAY0TTH6Lr56Ho6TpXjnMNzJQMZRctlqHAH5ObgIUvnBoK\n",
       "affYGL5+CF8IRnGqateiXSRzkTEYagxl3Prvhq5J4MSXo9cLz6BcoOJPZ6FxeGCyGS0vQntm1oPY\n",
       "TownrygihD95E5+MKKbWEQlDAwE+VInxrx8DTn9JyF4AAANHbW9vdgAAAGxtdmhkAAAAAAAAAAAA\n",
       "AAAAAAAD6AAAB9AAAQAAAQAAAAAAAAAAAAAAAAEAAAAAAAAAAAAAAAAAAAABAAAAAAAAAAAAAAAA\n",
       "AABAAAAAAAAAAAAAAAAAAAAAAAAAAAAAAAAAAAAAAAAAAgAAAnF0cmFrAAAAXHRraGQAAAADAAAA\n",
       "AAAAAAAAAAABAAAAAAAAB9AAAAAAAAAAAAAAAAAAAAAAAAEAAAAAAAAAAAAAAAAAAAABAAAAAAAA\n",
       "AAAAAAAAAABAAAAAAtAAAALQAAAAAAAkZWR0cwAAABxlbHN0AAAAAAAAAAEAAAfQAABAAAABAAAA\n",
       "AAHpbWRpYQAAACBtZGhkAAAAAAAAAAAAAAAAAABAAAAAgABVxAAAAAAALWhkbHIAAAAAAAAAAHZp\n",
       "ZGUAAAAAAAAAAAAAAABWaWRlb0hhbmRsZXIAAAABlG1pbmYAAAAUdm1oZAAAAAEAAAAAAAAAAAAA\n",
       "ACRkaW5mAAAAHGRyZWYAAAAAAAAAAQAAAAx1cmwgAAAAAQAAAVRzdGJsAAAAtHN0c2QAAAAAAAAA\n",
       "AQAAAKRhdmMxAAAAAAAAAAEAAAAAAAAAAAAAAAAAAAAAAtAC0ABIAAAASAAAAAAAAAABAAAAAAAA\n",
       "AAAAAAAAAAAAAAAAAAAAAAAAAAAAAAAAAAAAGP//AAAAMmF2Y0MBZAAf/+EAGWdkAB+s2UC0FuhA\n",
       "AAADAEAAAAMBA8YMZYABAAZo6+PLIsAAAAAcdXVpZGtoQPJfJE/FujmlG88DI/MAAAAAAAAAGHN0\n",
       "dHMAAAAAAAAAAQAAAAQAACAAAAAAFHN0c3MAAAAAAAAAAQAAAAEAAAAYY3R0cwAAAAAAAAABAAAA\n",
       "BAAAQAAAAAAcc3RzYwAAAAAAAAABAAAAAQAAAAQAAAABAAAAJHN0c3oAAAAAAAAAAAAAAAQAAAjq\n",
       "AAADzgAAA2kAAALAAAAAFHN0Y28AAAAAAAAAAQAAACwAAABidWR0YQAAAFptZXRhAAAAAAAAACFo\n",
       "ZGxyAAAAAAAAAABtZGlyYXBwbAAAAAAAAAAAAAAAAC1pbHN0AAAAJal0b28AAAAdZGF0YQAAAAEA\n",
       "AAAATGF2ZjU4LjIwLjEwMA==\n",
       "\">\n",
       "  Your browser does not support the video tag.\n",
       "</video>"
      ],
      "text/plain": [
       "<IPython.core.display.HTML object>"
      ]
     },
     "execution_count": 15,
     "metadata": {},
     "output_type": "execute_result"
    }
   ],
   "source": [
    "fig = plt.figure(figsize=(10, 10))\n",
    "ims = []\n",
    "for i in range(4):\n",
    "    im = plt.imshow(out[0,0,i,:,:].detach().numpy(), animated=True,cmap='gray')\n",
    "    ims.append([im])\n",
    "\n",
    "ani = animation.ArtistAnimation(fig, ims, interval=500, blit=True, repeat_delay=1000)\n",
    "plt.close()\n",
    "\n",
    "# Show the animation\n",
    "HTML(ani.to_html5_video())"
   ]
  },
  {
   "cell_type": "code",
   "execution_count": 16,
   "metadata": {},
   "outputs": [
    {
     "data": {
      "text/plain": [
       "torch.Size([1, 1, 3, 3, 3])"
      ]
     },
     "execution_count": 16,
     "metadata": {},
     "output_type": "execute_result"
    }
   ],
   "source": [
    "kernel3dext = torch.tensor([\n",
    "    [[1,1,1],\n",
    "    [1,1,1],\n",
    "    [1,1,1]],\n",
    "    [[1,1,1],\n",
    "    [1,-26,1],\n",
    "    [1,1,1]],\n",
    "    [[1,1,1],\n",
    "    [1,1,1],\n",
    "    [1,1,1]]\n",
    "]).float().view(1,1,3,3,3)\n",
    "\n",
    "kernel3dext.shape"
   ]
  },
  {
   "cell_type": "code",
   "execution_count": 17,
   "metadata": {},
   "outputs": [
    {
     "data": {
      "text/plain": [
       "tensor([[[[[  1.,   1.,   1.],\n",
       "           [  1.,   1.,   1.],\n",
       "           [  1.,   1.,   1.]],\n",
       "\n",
       "          [[  1.,   1.,   1.],\n",
       "           [  1., -26.,   1.],\n",
       "           [  1.,   1.,   1.]],\n",
       "\n",
       "          [[  1.,   1.,   1.],\n",
       "           [  1.,   1.,   1.],\n",
       "           [  1.,   1.,   1.]]]],\n",
       "\n",
       "\n",
       "\n",
       "        [[[[  1.,   1.,   1.],\n",
       "           [  1.,  -8.,   1.],\n",
       "           [  1.,   1.,   1.]],\n",
       "\n",
       "          [[  1.,   1.,   1.],\n",
       "           [  1.,  -8.,   1.],\n",
       "           [  1.,   1.,   1.]],\n",
       "\n",
       "          [[  1.,   1.,   1.],\n",
       "           [  1.,  -8.,   1.],\n",
       "           [  1.,   1.,   1.]]]]])"
      ]
     },
     "execution_count": 17,
     "metadata": {},
     "output_type": "execute_result"
    }
   ],
   "source": [
    "newkernel = torch.cat([kernel3dext,kernel3d],axis = 0)\n",
    "\n",
    "newkernel"
   ]
  },
  {
   "cell_type": "code",
   "execution_count": 18,
   "metadata": {},
   "outputs": [],
   "source": [
    "conv3d = nn.Conv3d(1, 2, kernel_size=(3, 3, 3), padding=1,bias = False)\n",
    "\n",
    "\n",
    "conv3d.weight.data = newkernel"
   ]
  },
  {
   "cell_type": "code",
   "execution_count": 19,
   "metadata": {},
   "outputs": [
    {
     "data": {
      "text/plain": [
       "tensor([[[[[  1.,   2.,   2.,   1.,   0.],\n",
       "           [  1.,   4., -23.,   3.,   0.],\n",
       "           [  1.,   5., -21.,   5.,   1.],\n",
       "           [  0.,   3., -23.,   4.,   1.],\n",
       "           [  0.,   1.,   2.,   2.,   1.]],\n",
       "\n",
       "          [[  1.,   2.,   2.,   1.,   0.],\n",
       "           [  2., -21.,   7.,   5.,   1.],\n",
       "           [  2.,   7., -18.,   7.,   2.],\n",
       "           [  1.,   5.,   7., -21.,   2.],\n",
       "           [  0.,   1.,   2.,   2.,   1.]],\n",
       "\n",
       "          [[  1.,   1.,   2.,   1.,   1.],\n",
       "           [  2.,   5.,   7.,   5.,   2.],\n",
       "           [  3., -21., -18., -21.,   3.],\n",
       "           [  2.,   5.,   7.,   5.,   2.],\n",
       "           [  1.,   1.,   2.,   1.,   1.]],\n",
       "\n",
       "          [[  0.,   0.,   1.,   1.,   1.],\n",
       "           [  1.,   3.,   5., -23.,   2.],\n",
       "           [  2.,   4., -21.,   4.,   2.],\n",
       "           [  2., -23.,   5.,   3.,   1.],\n",
       "           [  1.,   1.,   1.,   0.,   0.]]],\n",
       "\n",
       "\n",
       "         [[[  1.,   2.,   2.,   1.,   0.],\n",
       "           [  1.,  -5.,  -5.,   3.,   0.],\n",
       "           [  1.,   5., -12.,   5.,   1.],\n",
       "           [  0.,   3.,  -5.,  -5.,   1.],\n",
       "           [  0.,   1.,   2.,   2.,   1.]],\n",
       "\n",
       "          [[  1.,   2.,   2.,   1.,   0.],\n",
       "           [  2.,  -3.,  -2.,   5.,   1.],\n",
       "           [  2.,  -2., -18.,  -2.,   2.],\n",
       "           [  1.,   5.,  -2.,  -3.,   2.],\n",
       "           [  0.,   1.,   2.,   2.,   1.]],\n",
       "\n",
       "          [[  1.,   1.,   2.,   1.,   1.],\n",
       "           [  2.,  -4.,   7.,  -4.,   2.],\n",
       "           [  3.,  -3., -18.,  -3.,   3.],\n",
       "           [  2.,  -4.,   7.,  -4.,   2.],\n",
       "           [  1.,   1.,   2.,   1.,   1.]],\n",
       "\n",
       "          [[  0.,   0.,   1.,   1.,   1.],\n",
       "           [  1.,   3.,   5.,  -5.,   2.],\n",
       "           [  2.,  -5., -12.,  -5.,   2.],\n",
       "           [  2.,  -5.,   5.,   3.,   1.],\n",
       "           [  1.,   1.,   1.,   0.,   0.]]]]], grad_fn=<SlowConv3DBackward>)"
      ]
     },
     "execution_count": 19,
     "metadata": {},
     "output_type": "execute_result"
    }
   ],
   "source": [
    "out = conv3d(images)\n",
    "\n",
    "out"
   ]
  },
  {
   "cell_type": "code",
   "execution_count": 20,
   "metadata": {},
   "outputs": [
    {
     "data": {
      "text/html": [
       "<video width=\"720\" height=\"720\" controls autoplay loop>\n",
       "  <source type=\"video/mp4\" src=\"data:video/mp4;base64,AAAAHGZ0eXBNNFYgAAACAGlzb21pc28yYXZjMQAAAAhmcmVlAAAdaW1kYXQAAAKgBgX//5zcRem9\n",
       "5tlIt5Ys2CDZI+7veDI2NCAtIGNvcmUgMTUyIC0gSC4yNjQvTVBFRy00IEFWQyBjb2RlYyAtIENv\n",
       "cHlsZWZ0IDIwMDMtMjAxNyAtIGh0dHA6Ly93d3cudmlkZW9sYW4ub3JnL3gyNjQuaHRtbCAtIG9w\n",
       "dGlvbnM6IGNhYmFjPTEgcmVmPTMgZGVibG9jaz0xOjA6MCBhbmFseXNlPTB4MzoweDExMyBtZT1o\n",
       "ZXggc3VibWU9NyBwc3k9MSBwc3lfcmQ9MS4wMDowLjAwIG1peGVkX3JlZj0xIG1lX3JhbmdlPTE2\n",
       "IGNocm9tYV9tZT0xIHRyZWxsaXM9MSA4eDhkY3Q9MSBjcW09MCBkZWFkem9uZT0yMSwxMSBmYXN0\n",
       "X3Bza2lwPTEgY2hyb21hX3FwX29mZnNldD0tMiB0aHJlYWRzPTEyIGxvb2thaGVhZF90aHJlYWRz\n",
       "PTIgc2xpY2VkX3RocmVhZHM9MCBucj0wIGRlY2ltYXRlPTEgaW50ZXJsYWNlZD0wIGJsdXJheV9j\n",
       "b21wYXQ9MCBjb25zdHJhaW5lZF9pbnRyYT0wIGJmcmFtZXM9MyBiX3B5cmFtaWQ9MiBiX2FkYXB0\n",
       "PTEgYl9iaWFzPTAgZGlyZWN0PTEgd2VpZ2h0Yj0xIG9wZW5fZ29wPTAgd2VpZ2h0cD0yIGtleWlu\n",
       "dD0yNTAga2V5aW50X21pbj0yIHNjZW5lY3V0PTQwIGludHJhX3JlZnJlc2g9MCByY19sb29rYWhl\n",
       "YWQ9NDAgcmM9Y3JmIG1idHJlZT0xIGNyZj0yMy4wIHFjb21wPTAuNjAgcXBtaW49MCBxcG1heD02\n",
       "OSBxcHN0ZXA9NCBpcF9yYXRpbz0xLjQwIGFxPTE6MS4wMACAAAAJlmWIhAAU//73x0/Apuj5Zsud\n",
       "RT0hMIrY+kgovVjs0DJ1AAADAAADAAADAAhHQ5R/9FtORnzAAAAFPADGAbcGOUCqtVVbAgBttTcB\n",
       "XD57rD6GCjJ6nBkXrvs/pa3GHk1kRqSJGmOCNX+Qpf21y+nhHJvwNqzQYdcAz4cOmM/0a0skwCoJ\n",
       "5GBGxOML9mtGvNEGY0zsEcV7LdRJ/wIOSRrn81L+3lNukTybA9jGBhceUdblBguCUYgmiw9CTuUx\n",
       "6D9I7LFujOMwJTIHQ/NUgdDabeIOSCb06XTDEBYpmeoxiqnzA5gaWxvE++N7KW0ygDAfxg/FA+fc\n",
       "nyGlMcsxfUkqP3MQBBk6OKiD+vxtDAjZUaEISVk7J2jn5zfUVaOgBJ/+4uEKiQI261Pa0BbUkaA8\n",
       "28HdxsMogiphnhaB3+U13ubrYjT79TXNyeix8ttCausXAV14X2IBBAjhcQBPCZ+1tdI0nUruJZJz\n",
       "nNj0MyW6p4u5efr/mEJ4qR0lPFg09WFuurIw9nkx4v1QPbi1MUenA016sBI2H2f1F0bFpiwkXUUp\n",
       "5Xr/TEb5SHUHNrQ+dqB5sWBv+UWWKl+ZNw76ZBSN6Fo2202gPZ78uH+f/iWEzRZtThnEmyo+lNOX\n",
       "x9ULTdUdI5UsKosTfS8WmkM9FfDpq9a17/OlB6bLt12DQelzJ8pMMlh3uenSjlalq+RY7ch/E6fG\n",
       "DfjNd75t11Otm/H9srGMVj+4BYpGmbxnWhq1Ykf+0IAToJJsEjB6baAVXfo85nIT9gqs0qi6/baS\n",
       "gV4kGWmlFxUVWAvjSUrGG8+05KIrb/IWAv73RKASTHlH65GlaciylzkoAlZZ1wdEDcc2G73zpKzP\n",
       "jhIizNCRSGRpG7ew9yhspLzzquuB1/JQPti4eQ+vsdh73vf0jmwn6D2jZe9AgQfeCbWQkdshGy3d\n",
       "P8GX+U78FMexT50k/pGuJUq3Ld8TyAPf73D521UXLAIZxCakUcOfCpZY4/9Q7638Lx0Kgk9jY/0+\n",
       "qt+mtbzv96lPBVPeYZdqRbjFBOmXjbxzV3n/Oy5qW3Tnb1l2cNqvK2tIq6E1flEl0JXfrbP9gTFP\n",
       "7RoSHQ9uTygTg9J5oLLSdovi7ITsROWcS07iXt8pSfBABLIj4gpMiijrm3mXOzYwp0dBSAr1i9BP\n",
       "3s2sKPVmuibFxPkYkmTqYz8dY6PwwMyFdcv0Bo/Sz3ZeoZNqFH/8C1lxWO8v75XkfwBpnS+oFMsO\n",
       "Oj/YqDIqi7oFPrFCcR2908VkHS851meJtTkL7axg/bAZS8VWjoRmGJV+aTZ/ldiCe4/z0AzgtSnh\n",
       "BzY+mZC0whqNdw3AGacnEq4CsMfPO/MLPcMwbcdA5q6YOwLije3QBItJ2gzXVCO551CLyOix3HuR\n",
       "F6OPD30vtsl2MLZ3bZR8GuymlNc+G8Wjo2d9Cbuy75Xfljb7FkonQFF3+BqsIv8XYdVAQKuw/VXx\n",
       "rYgaR/4Q+XUbuKfSsgfKytnPkB8X20YhM62oZKcpovi+jTac+WBVWDVoP/0dvjeMeKkDZIqd0pyq\n",
       "y0qCLaBGze2mzInVtK4NqZ4XI3699Frq4e/8fTuShCXqanYJwfJvewR5OX2Cq1dUzrlmpBKTpP2R\n",
       "AGod3PAE8Dtm/XcKVTCZbOwWv5yN+xY1Ix+agFAC4VZYMKS0AdLFtHxJBovp2EuYvcDHGRgPaEab\n",
       "+YTbFbNA8HYdG8X6qf9KtVOZtnukBDc6yEARwt/R2dGQUeT8fsc0QBbKQ6/lfhUfDiOTTEeTGyGe\n",
       "2w5tJdp9TlXv2P0vqO6KwBs/hvzBqTZTcKR2soAdi4xXzFb4Lx5AEKJqP7xWVg3TWd8dVLAh9TbE\n",
       "5xXOAn65IswJc+C4qXr+y1JIdspcJjXkZp98ekj67dBXuUB0dzToyqkgk3wI/2dn78lYUGeAGK7L\n",
       "PBCrSKjuLzwDK8YNax8Z0QZiA7zDwfgh30teXCxU/72frEZf6eeolu19j5EnPpAHTA+NYltPir31\n",
       "rJKywqMzMyDspt9CZVO+NXo5RgeRrrsYiUxUl0APgQSwWTp6RHEC14lTVqo0fhn46ROdNxTPuTSy\n",
       "TNse6eA9PRQwYAPReY0mSj4INrU/L9SKW07G4NgF7BALmaWiVCHDulNI4Ge+Tp7U2K93phwr1WNb\n",
       "TvakD//XRpxG/pl7nvEkeCzFLutRVX8XtCDXDawAd3E7v/cXs/ZoTL7U6IXiIJ71yFDFZHLF8mQ1\n",
       "dBdUgC4upIM4ZTssZJKLOKLmKg8yQBV29gCsc4cZS9tq6btuwSRQmT710vPTDOVMLOn8ZgiRquEL\n",
       "7FYHmnmC/GEinCmQ4blYMAbin0F5UpRivLQCENvKHFfNMGITduYOF1S1cRGcs5etTjZslhiyK0o4\n",
       "zdQquGVHOCJMM8y9rtBwjFUw8tdfd1YA3UgMoOSnABgfkEZQz4jLKv+BfM+iF+kdVjOPO7cTc9QA\n",
       "CCtdBDbD++R5qZcQ3Fg8ocZk2hg5mpoxSxM7hdubhHmt/kgBZJbBDWoSD7aMOwN5YPpEAyLpXmaP\n",
       "nziZc6aXVbt5ACUIvaUsH37knbX9gvB4/1wKeDRJH32SpKpc8oknTWFTx5xr5HmGLTakan/5ALaI\n",
       "6axfonqFjQJ/8GtIGAzJwaB9nvQcmNMy4p38OZkMw2BUP6s8OXqlcRJAtkes6qU8uvb+ctNkLd1B\n",
       "UW2a4GmykG1kEAU0CRjOv7TI9BGS8tnAavAmGra7SkL0zoxIRxywtqS+ezkA0N9lXAxDXWExXbNv\n",
       "Ma1YmvRsEVfkHbUkBO1zsQb6E5lARGkW8maaBNwnSfRWadu+zFk5MWk6Ftwfrgwd/VPJMmNv9Pqh\n",
       "4o4IPd4NfpCjFb3LnhHcP+1geBVjBgFN9jwtjr9gXUqTu07kgK/aKN0MuKDNeT18mxInEAvP//7C\n",
       "8dEtqSUw55aS1UnW8fsSX+9Abgjb8lSCBBlHpkwDC01aZzXqHCLMaoc6MN8SaEJcEdTgco8baAke\n",
       "DwroxL3cq0PUI+Jrl2C+ai47gThJuFVa9S2/gVG/xG+KL7j4E2k6rov/79K/koAStsv1eG3ocl6G\n",
       "6N4kuRwAj4YU839cVRblJsL+b7I1JcYDmrh0J2EYI+VOlu9l1TAz0PwlBhey1EQEuvvuulUSTv29\n",
       "B4WFnpHYR8/3Nl3voBy5ia157o9N9p84ai8Yw1i32W4rxDSugGYnnmqhfMv5O9dPBlCFpdCPO9Mb\n",
       "6MWrRPEagMPNvN9jDx5no4hg9TP2vNAeQcbqyi6+AAADAAADAAADAAAGzQAAB0VBmiFsQU/+1oyw\n",
       "ABXCo+gBIYcn1+Hg+uY3fwhiIe6DP/49niIdyHJePXHr0Y8FKB0ge1bogjH/H8oE8HUG1Gr/taLL\n",
       "17fMlD1Lb0OoDYcQJpF7ueqWC+L9S04eDvf3AlKogH3HDi7r1N5eEGuAWHSU+v/HLzE8XY+VhBIe\n",
       "OZt7ISIrtbN5AvnmUFYjv/JVfoxlN8TZmIhkZcyufp2DQSdkSu1+W+FunpNN+IkUyflz15W+QB2K\n",
       "cx5MaHb00Lizi38cSXN9GpqRe/Wu2cGB5DpB8izGrwzYab9VAAFaNcDI4VFkpumBWnw7BwBWyktz\n",
       "zbr7IapaErWR8GiAvP4nmSWXAZGBZ59tNzOXrD1sBU3DfyXa5yWphAhqR1aEK9G/RiqPxZ+5/lWE\n",
       "s9tlTEhOuBArechhXe4uSJ9Jr4SYZoiRPo2KWa8Rm6H161G/+npXs5hf+aqTIWjYyOtX9kkA3xLK\n",
       "sO8oMjY9c0pnRRQ7qPhasMK5w6JF2Y2pRLUVqxiLMa6VtLXq99cbOD5Rb7yvIYMEKf9JRr9DEeL/\n",
       "G2gZ4C5K8JieORsE71mj+G5PFHfb/w6fGJ6o0VUcJMwtUcokCE8E4E615xcBjLz9KqfhtCE9m2TL\n",
       "svx3v8BJxBv/mGjjUoYqEEfZYJANohq9b55V8m4XWNI0A4EzLb0ZodPVVTG1Pq0G7R91EpdioZMj\n",
       "slhuQK18HaGZx/RICOSiR3QvIceuBDFjtRQoNRgEzWx4HM5NVX7oHt5JXWb7uL3VA4r90ymOat0Y\n",
       "5ObXyVPo25vA8jEnpSMU6hoVmEORk9WX1rl4dpSAV4t53WXutBMyt17SI3NQRQChIxAUsh2uMV1n\n",
       "2pJU8LHqfotXkc+LRnSH37yXvrzAkE/HKvWEOcu6QF2foRA5ZrmHhvN4r6falDOem7VElcu+mnut\n",
       "ngJpyjZBN7dclkNiNyF4/w8LzfoteDoRRyxvspAytckEGqT/+261F++5rSzHWOI30RrRXZhi2xMp\n",
       "RPxzDIexB4JfMCyPAzIWjuuxhkdEX+/tVNsIacGPSj6SJYjqp90KUfw3Ub3nq2QmAcERaSjPgJeJ\n",
       "gTeg1VPTay8rgpdDlgkBOHqzNvxCWzJ7zZ5/3JpIhEUwaolqTyBC5RWTtHXIGIXKKHAth8AiaryU\n",
       "AvR7itiailQdJdCvHgJbFRXLHvCH7PqYtRz2bBc+dGItsOfThUD6WW+FGQznWdWnCiMTE97i+rgk\n",
       "RXS1yYv8r1EiidFP8d207POnv0gA11p2grGyuNXFf89a0xWBC8RtF02lD7Boi+1om4N9EvKWWJtC\n",
       "P3fRbavnGDvXwglBFxR6m/BdzIsPdMrrtm4cSZgKkApMTx6RZd2CEk8f1k2Hh9AaOFf22kyYbO9S\n",
       "AZi3f86pJg7hkqrSMPaLXm+QJw+3Hs9hGXK7XmH/UdA2KIyoFR47iezxSl9XJeA3ahfJDns5dCXf\n",
       "NFIO2BVrf7aWSFnonl/JRo1NWcIMmwD1BPHSNtneai6OB6AqnFzgKHyhTqqMrrZ1NgdvSYEft1uz\n",
       "rk2JX97MqdFZgRuWPpljYdzpOuHVLzH3JWR/kYhHRRZIfeot1+i68eurKvd2bsIuIu3gKGtjRRl5\n",
       "VmEUprdjd7WSuDJ21+Xr7wC1WUqsBiMYZ1UulO4D7NRy8wF+ULPj5nEWgGm35WyASAIwRYVh2AUx\n",
       "FeVq4m83NszYCtrthW2CxaFA5Ycta+PYnawzWf7Fg9wRkJkpBawFmSUeKcOZF5hnr11ewCNTpnCS\n",
       "/M+3/irDZtc+mZTr8qF5Ff9iEunoFJCq6KY7uuvAiCtDobmc5O2uQD64Sxaj7L/Uyn/kb9V0w9xa\n",
       "oROQYI+Kg8X7LYy7uJmugYl7ZSjJ9bgKIdpmRSrg9DddmpmVJgo6xB35woHpo0mG4C5t9GwG+hQS\n",
       "K5UBAr6GuCGIAE9shm6hZn7a/GjM1ciwHDVqOjBZgmAaur/FGyWF3PL0HsSjFaJZDsYp5VMWRYUk\n",
       "CacAAA6JcI1/AvWDftIFBoHPLYchAgOv6sXKwuYwxVkyK3O1gbeV2+NIauAToclojlVjdPMF1+e4\n",
       "UJfEJ+t2a1Gtv9jkxiDAlA3ul2sX1oguL+pmIw1WQczoopSZRD8qYitoc3EdN85EjaCtJn2TWMi5\n",
       "oElvRIHUDSma+D1CV7rlk259aMqT/Hm8jGqyuuOnSPPXh6l/lO/W4OEpN+F6JlmVrX4Rkq4/1Inb\n",
       "GvCG8qm5UfBlI1UTas16pbBDbEAZkfwIqTxcrMwc+q6EM4HMq4Xrce3ujQpyBcB3uDQdlfT98U3e\n",
       "Ta8pQMi9iqbXy8h4y1RShEzGggB3cYbKgUm+j6fWFweu6UeMeGpTRjvUsxAcUkPTO7daixN3W8LV\n",
       "zTuwqjHeCZnnVQj76ZnjmyJpbFMGoY+bwaycpR8lqRR+2F6Af193Mm4iJYA9p215Y29wlH52tbl5\n",
       "p3cWTBWTsIBnNdXZYH1x27JNiBaZH3zfG9zfAAAEC0GaQjwhkymEFP/+1oywABKfweB0iGN4IBl2\n",
       "30y9kBpdWADlbei4soT8QuxViMCakA1C4cfTKbLu7gsUf47MczVqLZRPCJRmLFkcpHphpzPOKEMs\n",
       "BwAAAwPRKuC6/bgsXAusQ7dSO7H4o0xiKKGFwe3MeCd8Xo67B/MoFr+/cFyHXxyfeYt/rh5pHVHC\n",
       "qrvmfVU1xfvaVQYcP+e8rP/8DDCPwBTCTVCmwN25b5Cw1wLodiEF1R2BrTVb96mGax+I335rWVHp\n",
       "K3r17aQXneuxw95xP37QB8ZkfnXgnxPS69pESnh4wrbbK+UgNii48JJ2w8+E/gNRjKxkQKhLGkeH\n",
       "khXgNt8owX/qsruYOpHAiKGT6rGe/R/6XmkItCDm869PA+XMD3oYqWslatXCl2y73gwyybn180lr\n",
       "MjjUMzgMaKzOH788bdm6+Uzxxtdm1aGAyNOKgNpILYMmqw/m+2T8jrvqSG4Z2tx1swF0XcukUpTB\n",
       "S4MU5Cn6IfRsvSSB4a/5hu07fdUoIKXjhT93pwVied/9o5vKWN5+mnBrcYVD2V/4H+VjhZEu6iar\n",
       "9uKkY18OuvDB/ik0jcZ0NImmE61X4h/cuXO1Bv0b+WhroWqVoa9HazmV8Gudgk/6mH/OYH8/HKQ+\n",
       "uL7X0sx3wsf21kr7LhwDDb1F6OZsGKoygcy2Iljln4oybr01dAbSVQJbpW9zd+rZiDBclHk5PnM3\n",
       "p1VmmGz+oRK6Y1jxwqjLwPAcBgQm4RcwycXxNprdkDP7pmIFPiT2d0oQUfY020/fmbDCveWlF1Eq\n",
       "vhYb6+dODBCO0Xraom9IGyreJjiE2nmRWLWmNJvjRpveLfy3TwhNeE3WmLDZFG6yqb6CC6+5WeYg\n",
       "mSMDcueFO9JUmGjzQxqbPapweKRAseO8mXCcL6hqKZYCQHSvl1tzhpgBod1Xs5XORDdunUOIP4Oj\n",
       "u2W4AYrXqbZ/Oounqj6+tZ60naZYdTBrzRj5BKor2NP3rztqslJGNbVkdPOSOJwH4NkpODHuhh8D\n",
       "/ZbXfQ3cvg5z3vI1R2ikETzeOMt2OZqGX85AiiCivySF1zXiBFh/leG5zOJqwTNSuBwu8zehYCPJ\n",
       "IeLBYGHIko1L/SiTYCRZpOYsOHEeATmH2R8qd9jdG5wIXTl1xYQEqcx27GdIWNknr+R/pJc9giuU\n",
       "wcTky8cB9LbRO+pZJDIMHErrYbVmCLlZFxWq93pkhEHR2AMJ33Xehn0nEqMslfCi0Scux3gw5dTf\n",
       "IlMHiQObtbPc4A+gEXj1Bhz8y6tekmf5v4vx3deVn1zsIjuIJMrjleYKkmLG6k23EKoi91R81iFO\n",
       "4e3zIogK46eRLmzHGqxGQmXFCw9fkJHzYAM83WaE+ISVibXSKdJbaQAABcdBmmNJ4Q8mUwIJf/61\n",
       "KoAAVMuhkAJWQZs5LI+P9qUcH5hewl8mL3yPC2UyDBDgCiLZSdmrrmAxx192a3eOoSia7DNotd88\n",
       "7Iuq/YCJr5yV4a3Ko3DJqRc13hWC2Py+69dwB8Dkjbo624dvpdmd8z1w/enEwChJJByVRAAAAwIy\n",
       "oe1doZywrn2VXmRGWo6MooY6ufPw6dEu1PvMjKX6St6gjnHUrJx5rBdO2+ADM5bGv3dDtA0yBI6Z\n",
       "czIJbmyne0EryqulAblo8DyOWmwT73+0byL/7cbbYT4JPm1lL/Lx6BDrPUxkei7IjneXv4U/a56m\n",
       "nT7ExOuAIrL24YyfHB2fdLiuw4lMAZCJUSDZ84+3IP8tzbHylx9kuZkTpNR84Q4Hn0xf6HOoHVfw\n",
       "nJ0zgpJhV96YRQqEnZ9Z6nJnXSl4uH8Rcr/+LiUpJMSJYyVJ9YpzF/qwMRkVKiY/PfvZsa6vdcef\n",
       "HdHEa7PH9y4QVFzD2o5apr6CKItp5BiwTQdHZxiOZv4NG1HXtEBmhQXk5V8FbWEiMMebiMSfNUAi\n",
       "0XQ1cNsZ5XKRR1d+yqMTSq602D5Jh3WBaOdjrNhcupZIj6154qQI92XtkTCTNFxh26oA3qwyBfbM\n",
       "2ybOgMxFOS/BEEP0IGpK2rYAJ3fzJUu/mDOXBhjDpNDsyyI3N4ZHdkk62pLvrDMrX18FDVy9pSae\n",
       "hORNhXja5cSk0RZ3Ld+hSTqiYY3V/lu7fmQMhsz8k+Moqf1XoFKBjk/HcYd6+uN7plF9zh0om7VJ\n",
       "udqH+rA2eaE791icxtJvCO/zoVXrgs0dP/UyfrQxwpatS9lNSJl7NfaNMGfVlyulsjcLNBVNVqJD\n",
       "gQAFtDv4TfVtAoRGMO0E6zIwef7i4lLBhw4db2Zf9pJU13HzJTyAS/zSxC18gUrdz4F923RQNcg6\n",
       "An+SjAPQF1VQYn+yg0E1ywM1vTdm+W+FAeDDIL8VT59tiweYJP+zHn5i6cOyGtY49fB1cwQnu9X5\n",
       "W2XdFfIXd7EPDNL8YiMRu1rMIECA4C5viKNaTwfZFCsaxPAZ9fbjRttbynVIBtBi2XN6YfPKU2vd\n",
       "KgM+V9zMcCTDy/3Skc9468FrPCUGJkBKt9xJamHfTg2r/6AVedgf0+FcGqeQLS/J7EUL5rFPkAA2\n",
       "ffoybW2xCyyVQP3dyZ8olcLXqvjy/mtsu6bOE+JCKD/sSMSrZTOw1BdY6ePaRYz7npws6QxCJd0q\n",
       "+hLmKEl5NeT4M5uGfnE1K1xJ7/Y8X9CX/leHnMangMa5dY1qLDemd3OnNvBswSTZ3PpnNxaLjLG1\n",
       "YYPSma613EOXy1OaPxNXasesHuUw52mVoIMHS0c3SqhSxC6ls+LHQOMBON7ZD1eQwtwv6hYnty/b\n",
       "uv22iEyazWu5F45xZYfNOHMU2sed3MaoBWaCTveDK5LRsTgc6bFWhBoB33VSf+1F38Jhj/bQLjcR\n",
       "QKNZGs+2sPZV/+BaIBO7btcilbPSWGrETttfg5oJMnJEb07P1to1tiyN79veXO1GMEJxD8EEoXLH\n",
       "jDASE3Vk+fyzDvClv3eBd+p7Q/AA4pjrkd3o2ghRV7ucODni6xG4shMOz7oUpKt1XUKAltRw+dc7\n",
       "yOSxIuEYz7HnNnA+hFfXZLWlcZfWlQUEwEsgenhUgCDSALT15a0wG4fAyHJYIkEL8oHQP4UvXJN3\n",
       "J80XWuIgn2BII+/daQCV5JwAA0h0Z0Ov+oBlycSX4A9flWKOWMadNgZ3XpRSUbSZzl9rDcFHgAKq\n",
       "zZgE4KOm7EgZw9AAIk/OA4TQ7MauDntOI1NZWagDwpqdwJdHwZJGyCTPkTnjCRT0V0n/9UY8ltNa\n",
       "Oah0ZKqb4WA2AaxlY/2/FSf/83NwLnILi0QwNj7SSRT4OT8WIXNwgDmQ8neEAs99FZuXy4qavWSh\n",
       "wrRhUUNZftmEQZfitn0aNO8ukwbCIhjV+Eg15p3G6pv+x+3hvDEAAyoAAANHbW9vdgAAAGxtdmhk\n",
       "AAAAAAAAAAAAAAAAAAAD6AAAB9AAAQAAAQAAAAAAAAAAAAAAAAEAAAAAAAAAAAAAAAAAAAABAAAA\n",
       "AAAAAAAAAAAAAABAAAAAAAAAAAAAAAAAAAAAAAAAAAAAAAAAAAAAAAAAAgAAAnF0cmFrAAAAXHRr\n",
       "aGQAAAADAAAAAAAAAAAAAAABAAAAAAAAB9AAAAAAAAAAAAAAAAAAAAAAAAEAAAAAAAAAAAAAAAAA\n",
       "AAABAAAAAAAAAAAAAAAAAABAAAAAAtAAAALQAAAAAAAkZWR0cwAAABxlbHN0AAAAAAAAAAEAAAfQ\n",
       "AABAAAABAAAAAAHpbWRpYQAAACBtZGhkAAAAAAAAAAAAAAAAAABAAAAAgABVxAAAAAAALWhkbHIA\n",
       "AAAAAAAAAHZpZGUAAAAAAAAAAAAAAABWaWRlb0hhbmRsZXIAAAABlG1pbmYAAAAUdm1oZAAAAAEA\n",
       "AAAAAAAAAAAAACRkaW5mAAAAHGRyZWYAAAAAAAAAAQAAAAx1cmwgAAAAAQAAAVRzdGJsAAAAtHN0\n",
       "c2QAAAAAAAAAAQAAAKRhdmMxAAAAAAAAAAEAAAAAAAAAAAAAAAAAAAAAAtAC0ABIAAAASAAAAAAA\n",
       "AAABAAAAAAAAAAAAAAAAAAAAAAAAAAAAAAAAAAAAAAAAAAAAGP//AAAAMmF2Y0MBZAAf/+EAGWdk\n",
       "AB+s2UC0FuhAAAADAEAAAAMBA8YMZYABAAZo6+PLIsAAAAAcdXVpZGtoQPJfJE/FujmlG88DI/MA\n",
       "AAAAAAAAGHN0dHMAAAAAAAAAAQAAAAQAACAAAAAAFHN0c3MAAAAAAAAAAQAAAAEAAAAYY3R0cwAA\n",
       "AAAAAAABAAAABAAAQAAAAAAcc3RzYwAAAAAAAAABAAAAAQAAAAQAAAABAAAAJHN0c3oAAAAAAAAA\n",
       "AAAAAAQAAAw+AAAHSQAABA8AAAXLAAAAFHN0Y28AAAAAAAAAAQAAACwAAABidWR0YQAAAFptZXRh\n",
       "AAAAAAAAACFoZGxyAAAAAAAAAABtZGlyYXBwbAAAAAAAAAAAAAAAAC1pbHN0AAAAJal0b28AAAAd\n",
       "ZGF0YQAAAAEAAAAATGF2ZjU4LjIwLjEwMA==\n",
       "\">\n",
       "  Your browser does not support the video tag.\n",
       "</video>"
      ],
      "text/plain": [
       "<IPython.core.display.HTML object>"
      ]
     },
     "execution_count": 20,
     "metadata": {},
     "output_type": "execute_result"
    }
   ],
   "source": [
    "fig = plt.figure(figsize=(10, 10))\n",
    "ims = []\n",
    "for i in range(4):\n",
    "    im = plt.imshow(out[0,0,i,:,:].detach().numpy(), animated=True)\n",
    "    ims.append([im])\n",
    "\n",
    "ani = animation.ArtistAnimation(fig, ims, interval=500, blit=True, repeat_delay=1000)\n",
    "plt.close()\n",
    "\n",
    "# Show the animation\n",
    "HTML(ani.to_html5_video())\n"
   ]
  },
  {
   "cell_type": "code",
   "execution_count": 21,
   "metadata": {},
   "outputs": [
    {
     "data": {
      "text/html": [
       "<video width=\"720\" height=\"720\" controls autoplay loop>\n",
       "  <source type=\"video/mp4\" src=\"data:video/mp4;base64,AAAAHGZ0eXBNNFYgAAACAGlzb21pc28yYXZjMQAAAAhmcmVlAAAghm1kYXQAAAKgBgX//5zcRem9\n",
       "5tlIt5Ys2CDZI+7veDI2NCAtIGNvcmUgMTUyIC0gSC4yNjQvTVBFRy00IEFWQyBjb2RlYyAtIENv\n",
       "cHlsZWZ0IDIwMDMtMjAxNyAtIGh0dHA6Ly93d3cudmlkZW9sYW4ub3JnL3gyNjQuaHRtbCAtIG9w\n",
       "dGlvbnM6IGNhYmFjPTEgcmVmPTMgZGVibG9jaz0xOjA6MCBhbmFseXNlPTB4MzoweDExMyBtZT1o\n",
       "ZXggc3VibWU9NyBwc3k9MSBwc3lfcmQ9MS4wMDowLjAwIG1peGVkX3JlZj0xIG1lX3JhbmdlPTE2\n",
       "IGNocm9tYV9tZT0xIHRyZWxsaXM9MSA4eDhkY3Q9MSBjcW09MCBkZWFkem9uZT0yMSwxMSBmYXN0\n",
       "X3Bza2lwPTEgY2hyb21hX3FwX29mZnNldD0tMiB0aHJlYWRzPTEyIGxvb2thaGVhZF90aHJlYWRz\n",
       "PTIgc2xpY2VkX3RocmVhZHM9MCBucj0wIGRlY2ltYXRlPTEgaW50ZXJsYWNlZD0wIGJsdXJheV9j\n",
       "b21wYXQ9MCBjb25zdHJhaW5lZF9pbnRyYT0wIGJmcmFtZXM9MyBiX3B5cmFtaWQ9MiBiX2FkYXB0\n",
       "PTEgYl9iaWFzPTAgZGlyZWN0PTEgd2VpZ2h0Yj0xIG9wZW5fZ29wPTAgd2VpZ2h0cD0yIGtleWlu\n",
       "dD0yNTAga2V5aW50X21pbj0yIHNjZW5lY3V0PTQwIGludHJhX3JlZnJlc2g9MCByY19sb29rYWhl\n",
       "YWQ9NDAgcmM9Y3JmIG1idHJlZT0xIGNyZj0yMy4wIHFjb21wPTAuNjAgcXBtaW49MCBxcG1heD02\n",
       "OSBxcHN0ZXA9NCBpcF9yYXRpbz0xLjQwIGFxPTE6MS4wMACAAAAJlGWIhAAU//73x0/Apuj5Zsud\n",
       "RT0hMIrY+kgovVjs0DJ1AAADAAADAAADAAhHQ5R/9FtORnzAAAAFPADGAbcGOUCqs6t9GAFx1C/i\n",
       "8xQmvzeJ5UrH/a9ijVxSv805y2M+2wCD7jFiKwBcUBIgBY39bb0ffHoSioz8OHTIIp6eaJX+SwKi\n",
       "5ASyXwN/myTUQXyD7qYx0z8XkTLlZDrnlDBQ1ffaHhHvuesiInfJpju3ArxzySGjmcJ75Kr1aPXB\n",
       "mZ1gbvsncGrkUnVbEjnbFrHfhkb3cNWfJuVNck2fh1HW8iA9+FG7GwxXphQg2ls9ggGvFVksbJbV\n",
       "cxt//cpj89OtPQAAKOKF1WPqFvugypoL6pZwXpisaKUmTzFdYNzyDC/UhtWugfnjhcv+iBFOwIsv\n",
       "W53kE3cZ7KdHZx5Ih3IVXzpY2pGu9p43f0Dels4p3/J5fV5u+9K5Ykg/OdeHWMkzHY/wPbDUvIKr\n",
       "i7lQAyV5JcCUAV8t9sf+EpeX9TxRZrzahnB2xVnyndO3+whWtzbuuvX0EvhwIohVKdfpNBSokdeJ\n",
       "25gQ67XYhInwUKYALGswUX2G01sZg2ozyclMwVriJaTRdUo9GdfRyaiRXdpC5AAL3O7+tVvcHxq/\n",
       "HIp/n8TfO+gA5g7VATltLzh5f4abBR0URnSCNXJ145kRAsOlkwRYGLC7zIUpNrbBYuQbRCS0+eUo\n",
       "i6ryoycfKPFONHH+9X3+VwH2g++ks6K2acVy4/VV5te1w0qOAaq8RGCSwX/vT+ByhZjdCaggbIhb\n",
       "Jh/lhSXdK80tTQNaUPVNMjuBw/4IZCdTzP+FtWpI9lOuaQtg7W0MBVkiJwiNPbCtE17323SR5OdJ\n",
       "MKphSFlgSZFDUJ0p8ChvzXprGWWfR6ax6VeUWOlFQroXvluMfSDwUs717Mb5MKi9MMAGL81OsSy5\n",
       "VHYsyPBBFQ3Cuuzr6xeyVmvBm/1qu3MyVrTCCL8E1Yyt/VSpEnzbMF7PwgiMtVaO/yMufgG1hRT8\n",
       "mX+7m9Wq7HFRthB1swPOBdjBpy3hPf/w/QaBeZuOa1oPE6gEEwVHoA5QeAZMYWzsrgFj0bt/SF5f\n",
       "I5+Gi31GT6rxFqhr3Iab0WyHyZIznmNIqRsIQX6nFCWQGHbDKcEU5yLU8o7ILv/LXzRlwFEj414r\n",
       "E9eR9o7tO8s0heddWCSWw8XOXYXBGAzLvPgwz0GEUNDqNNqfD0cwVmlrBrCw4ohwn+Tgq6aJga2F\n",
       "5XmnWPI2mMdTyR7P3hDcP0U0MGSNgcgrXYmD9PPoyswAI6mDxELbNP2ZILWN3DbJsTBLSC+eNddO\n",
       "5v6/oZwWcQ2RfeZw1B6mNi5JEwy1U9Xd5HBXezWK3YnpIfZNGyAknthiwMZZLUdX/I50nTt+WMsZ\n",
       "rlr2U/Fj+PdHH4of1tdFxTPOI2BVSzD2H3cBHklPUUA/IilmD8773kGkbfbTqqPNMmAvV+nDlhWk\n",
       "49Ygi3SL7KAom3Is8SkT/1RZpWzpmuw+xXxrYkTcs4CmZTF/k4ReMin9gDLz9PzirKbtiuyiHU0S\n",
       "y8QoIvss8fj0tbp4u4AEzpGYIAZZ/WdXZ4tDNTJ2em3+4h8RevdVnjf3V7Gb3ykxIVB02PZQG50j\n",
       "EvAUHij3JyNtE3DjI0qUMmzJHEdTZ99RK3sC9P4Ca3jxh2gHIpQxx6UZsNTPa91Uca3ymzFLdvff\n",
       "RQQl+whHgcJAIWNo3pr+0zcpDvmUuVbNcXOCYCW7JxGxt2FKsYQOVZCQ/l43fQHZWeTlvnuAGxKT\n",
       "uaEBab/vYfLSbNnKArz1KpfmnAdh2dd+UEb0KmGE5/XHtJ2NDzh3ZTyaYWKuzHjULw04qzyCftPm\n",
       "PF5YCRBspM15dER8ABGBW59x5uyLxl4XjzDGLWsh3isrBums75r4paGYUN7TWaSWPNITkd72hdgH\n",
       "//AAMHTG8uivXRJbMXGiW6MocbkSzs+EzpD01blRbip8shdrfZWSoByh79IgDVVhFafrzwKS2X5r\n",
       "UsQqHLuwgzvM9553ywkl4bCfID6/NxKim6LqR1LpTyXni/4zqYKDdSj7z+0ry/KC7Q1+sSv/hvan\n",
       "0PzspVN3ekcVHXvd6TXHRoQpDFkndcM7vSawJowSb8Ld/buhZeYIZxLXIYtgoycr1NhQfvl8fGJz\n",
       "YnCLaLZbjsjm72bqQEG9fSIGNzLkFq0S9fMC8mNO5B5aOxE1AqACmWmyKdYKupa18TYdHPmx6YzL\n",
       "w1ewCSbjXnbahseLiwdIPCAxpbCa6byj6rML8xp1VOqiTy7Tbx6ocW9iOdR2GfN9na4tITv/6zHv\n",
       "Wr/VfYnA0gIUoi117/TUyA7IpgA9I9ngGPtN/bNtCowxZFaVNJuoVW/qjnBEOKU0f1fo5Bda3JaJ\n",
       "fGCr7NbpgyStnMknd5H+3kGHha6FxOrE2un+y+U29lKN7+3O8EdVgBOgQCg3FqmzOr1m2BzNTRil\n",
       "iZQe0GuqNjTQZzFxXNlecRMg+2jDsFEb1prY5vFsd/xbMz8MdUeLsFEOEw+691OsMacdwu5n3h6l\n",
       "KTbrXv9WnVxDQs9Hdq+LBuSoiVd9EA7vJULcUcXWdD7yTnGCSwbbk7Ot3/MlRW/mPVHixEwW3ip8\n",
       "22sVtsjvE2saVebxuSus68v9evyTYfWPdOwdZzGHjwy11E1uLcNXUoNWTOn+D8KsmkEjGdf2mckv\n",
       "uM7EkH/ZlZIhWgUknUe/8F5mF9zm05YW1BvJ7x083yaBmOZDSwPEYAopCYGQBGaEHWVbdlAyDr1g\n",
       "p+jI76aCbdVVLZe9tMsDWLmBnTtWMrL8qD0065HVQ7VLvD+dluKhFmH5WAvhlbiDTVxn8AtH8j+F\n",
       "BEZAf4ppiDGakWuTiXA06lkJ1uehfmU7R1+wLqVJxOHQ0pounTSEKQBCpEwvMd4pP067kpAXY7eh\n",
       "zDrJgO6//JxAlrlNhcJue0LpMSr1zEBNp7nc3CDtQXJaSMFBb0dnVgrfMEfNiXBHU4HVZ6CegJHg\n",
       "8K6MTp3yjd8Gq7pYAj9wfz2VAcXNoEsg4pGhQyluTnQ9/qppDODNesfZ75vF91uTj/DulGjszFBp\n",
       "rXkjADVyYO9PnrPzaR640vWVRQsVU+92xAa2UnS/KdrTXJbypgGP93F5jJ5ddNjimnkgUqlKXII5\n",
       "zYZVhHz/e2Xe+gHLmJrXnuj8ZZaGjXQxhrFvstxXholIAQiMJO4+alkMm2xKwIH1u2wE4/emN9GL\n",
       "VMPE6OVF8XCEdqrXu1rY4NHbJ6ODyCLzAUBorZAAAAMAAAMAAAMAAzMAAAdrQZohbEFP/taMsAAV\n",
       "wqPoAReta/stxnM8ONAW2w//lnJjKYNgFwV3QUuo2qLMhJ5ucrjWSQdkcgMYP3hKsPvaXdVuDheX\n",
       "eLdOtfLLwqGCr25i78keJzTgOdHZH+SdAdjBqvnWrUwTzWrEPx5m97H8v6FGQj2A8yV43FtPj26M\n",
       "Dqi/UKCBUKQp53qMKlZAVtWOUtPUFY3Cj4exG2cPAAaiaWnNmI/+luPdUg5oAC2+RIRzHMB2bnXH\n",
       "pCIFE1uK9nAAAAVl9bqYA4COE9NmubssKtfb5a5WJ8Y7EQJONEQbhzhXvo2kPP3WS0YrxkVpIIRA\n",
       "j1EzZfBeI9T1ZTvupAo5CCjMFlpg7xeS7Geye1dCGyiBDegeuq3PdYa7i4pcmW68YJk72Rz+WSjH\n",
       "rARmWAW9OQnBM3q9u344xD+xbrc80wk3eSE/qT6p/JYaF41okjLdPrpFjsyDPQ8PTkedcoPxErXM\n",
       "IL8bzBz2vAFNnmzwBWie9mzILiPFrFhLCMcbS0qY69XOEF6tw8U+q9jl3j+LE46yp/f2goyu4fb2\n",
       "axdzIHcCqZoK+Lx32Px8PcjtUNF2LQ3Qun+ERR4VRZ5AIFSrpIP+CNyZIs9cs4m/NJnQWdO78e2W\n",
       "s9dUT3UzZx1/VFxrNwzK75t1Q35fFlOtus+5x8u4lyx3jIvM/vksOhVZTg4vsuD0zLrnIQYHQ7aR\n",
       "GD71VYacWcT1S5OMaK39ho/iHVv5iXolloEp1o41tOCtm+mOTez/9vjMwOOFE9URhESQBwaZTJTK\n",
       "UA0Cy/FfZWypxmPJVC5J/9BQpTlhQ9QbPsWwxcA6JFyjIqHJp38MB1B8MHHbouUn5xS989eecNY9\n",
       "bpVInUzjXWCRkBMFkd8q4EDbR8Cdpr5DtL5ODcQQyKAOWJ2B9mARkt67yNjnA1dBizglFcE86gAG\n",
       "ORJ80CTKkH1zk4BhCkAW9Xw3NvKej+9hrFlJFAoHzPAsCK94DtMuyWpyo26oqQal7bqVE67A8V4r\n",
       "SaMF2fkuycdI87HIXF1gY3/63NHQdhxDt55fUPj+x+zo51ukdrZyGy+zG/LkRp2rvhdkqil1kV6N\n",
       "Mq8hbAye9+F3lbFFEmJR6XBHfB42u4c6DfutqKshwT5InUe5Q2oGhTLCE6BzSedRU6nkEh37YX0X\n",
       "rgTv0N5iteOPOzjfleVuunjOx4okTDipA7ZLgXez0KOTNw+TjwWdU4SwnY69Wn8Wz1gCCq/+Z5EC\n",
       "ReaAyvD9YjJzgMwZePRWBBzmKhXcArSZvwUqzLwy4WTSNQrHydom/FIfMASdnllWTjNdHXmx9ItU\n",
       "LaFYMTYGC8czOiz4F5mkk/+yRP+IQrGfd/ApxJeGguIRCGgBPg8JfWbrvjEHwqBnIE3tSzb523Pp\n",
       "5sX8K0XC7W0WKwuqyQ8qb01vPfzdGlenq3vylVUwuqRO/ATDIbZTeriHKCXqoiW973G4XyIwWujr\n",
       "oRGSABVrAh9CMP+iAfDiydK6/IVcEqL+uxl6zKG7AONQlUzLmqWzX5WtB5b6l+jxwOMBU7Fz+M0q\n",
       "OlRUc6vU+y6PupWpnRLlsp+96J3Fe9hzROCH9FrTPKriU/3FWWjR6ZVpxEYfjRRCmI8RAhEaJaPt\n",
       "otdISw9ujTtOAtJ2WzaT8gsxdrvcElMKqHgZWYA4NpTkJEAjEGbvTPpFWfjxeK9CW8XEtEpWKxfn\n",
       "eh9LCsaF6G0t2SLM8h+yFUmVRXRyv4E3rDqxozJdu/iYKSpjILSnCzhbYuQ9yI3DecmgK9SfT02U\n",
       "Hhq93xUtSyazk5ZK6OEGaT5HBRoF3Kt3p/UfDfbVIST3pj9fSMNFEpxJkfeo5QqcCI57yoyxa5EE\n",
       "kgqsNPOmJa8+NRqynZiVsfqoEaF5k9qDDkpfgfwcdWFNFEzaUqV/jk8VeOMgg7eFYnIHVMgfrTra\n",
       "15h1m0Fjka7XBPg9b8KJlLSzpFGYPqjzZ/A4B9Zs/7psWtietDkqQGWFxW3+todBCvKnVSzxcy2p\n",
       "dFOKukC1cvC1ptVm4hqJOVSAkeYvb73PX38E2nUNkxULPyHAuZaRiAC6ygYSKnM4RoUVGDeaQw2T\n",
       "uTq9H4gIKp3+luwrRKE2OtoSOQrpXEFDJEheeAvzEUg5cUz/noACL59h3eFLMxo2NKSs8+hojLsf\n",
       "P+4tzTPjCKJhDd/hGIDsgdWjv3jJZMGM6FqJJ4kjWGz6sA/WSZhFd/inQV0MEf0ICBosHS2IxvqI\n",
       "cP+1/7uNu3Hlo2jbmULyyb3I7iFxQfXJxZjg8KWweB2Nj3L5JiXwKnIe/xDTG/P3si/UzHmsza46\n",
       "8cHubeViNT73ZmaGS+9kXQRTg5+LkaaxpprIY9Qe/cWqbxz7x2fpVFdlrz5yMlyvj7yq73nE32cY\n",
       "cw/z7lcJpQ5CNnx2QXIsJlAJFEKKeMJXH0eeJTmnUiHXj3VyvXTp8vAYX8aT7V2FH71RysLdOLFu\n",
       "btKi49rZt612ynS+88feSTHtRN08uREw9HmUZzXGHkayoBDJWsNJQH5EYbwu1wX5eXJJaO4kuASj\n",
       "xlGg5iYgAAAHD0GaQjwhkymEFP/+1oywABXAPclgAE2mKhKCuB/3N6I9vdKi6teEEOv84b/iy7s4\n",
       "S37PO5gjWd/TgiSxpvpqNCxoVDU0wOe6KPjHEnLD+eSrdwTHp9UqEx5mJC9GHHIAAAMBy2JexETS\n",
       "j8nfng8emtnfuqg3cjWvv36SiR+BCVLqLOBwBCNsyTwcb08U4RH48T05YU2BsWii4L/JxGlIJWQT\n",
       "RQHEQFSWcuzDvlrViww8wTf+JYxV1QZJ9f/tO1Yzw70Jg8Ceb7XynOpLoLU5COcuQ+tNQ778eK1f\n",
       "WY4hbKk4+3l17u76WPK5gr1Yr2UnbMINo88QeOKgqDTGkBuRUGbCxidWg4yJoh5D2sgXRE1iEQNV\n",
       "GIxKh8zc6SDlQOPutrEEp/K58VefZI3D2/IN16w0azmGuo+4vo7qHQlmL0eCyj1v9/GCL7efkXL1\n",
       "q975wSrIfiGfaBUxYrM9A+VIUc9+KLXDo5zl+cFuXrdPHq65G3rT/a+QDmmnrWwdUghT+orGcP1U\n",
       "JEcN0ZSeyjeaXOjwO125nAGaloC/wPT6CSwbxeWjE/WX8zZO+Wq1A4HT70FHgMuWNINUsikzXeBr\n",
       "xARzU0tdGTs37UsdjWigUq7EAyIZsx6aSxHaC8o0p4mQL+UcnK4I+JvkOPp2Z4azmRxCFfV3mBRG\n",
       "FGMTKYtxxcUjwwaa5mrg0mz9OvsJgTtO33vDrW3gsPaKRI2Cna8XCfzuf5e8+Pdy3XL9FH3HkJBk\n",
       "kBW+Pq+m7/4IIHuDj59EJF+rYduTetAibsg6Uydu6w0wDWIMPpUkDE3kg2bUtyc0JYaFFlyPzOze\n",
       "R4PXF7E3ZJEGkp96yfHEMeaVZYlTeGWHCDbCcjc5KXNRG82m2JL/sKb5sdT1+3bCj2JoWfvFIuhu\n",
       "zOomMdCEXssFq5Ng+DUnj2SLDhuk92xVIbn+7UU0PGqnZJ5b+U7tLIHlG0XBOgmWh6hfezKXRnPE\n",
       "TuX8bZcnsvZFDNadJ3dBVhY52tOrjggDUjg7nuEFuYSy3tLvfNEThdtFNUAHhin6D6iGpvZ233oP\n",
       "7ixSpZZ2PEs705hCOEc70M9prYFmlH3AIugWePOnPLLpMQ1zprlaX+LklP9TFCQV4xteP4H1cYiC\n",
       "MtwU8FuG+6NKSzum+9EI0/v2KQ4+XesLd7M9FngfmKf7bs5l+symdiVA9PcAoGC/bvakZk84UtIT\n",
       "2dobAAql+Hhg1rbYbAeynL/tFDPNFsgdQwKvGJS4sz5wP7KPRS96z4ClX6DiIRpiYLOccFqseZm1\n",
       "n6O9Q4p/51iO+Fh6MFxRf/kBc+3Z53y8kwVoCAtsgYTbqcM5i10cmRg3qZSzXVMlWrmBSDOW3Cyn\n",
       "+10wdI7tODhTB7Gz0MbRuQKghrTv1UEXGgXfEpzYkDojuDthfTQMcc5/i/xL1ztzmM3RakhXH3l4\n",
       "lS1dKTa5PRg8dJhluYqdseU93Yt0EfKsR+/HYQU7wOoHSkukeWBB9jnMkfaSoGEwYTAdnmDUhYv+\n",
       "T89DzNCfglyn40fAAH1o3+1d60T2HBfWL/M+Wc9AD1qYr+kV+THxm7/Gc3JGHjpRIGUszWXEv/dN\n",
       "usmL7QPddoBGxUIsB9J8l9VLRs8y7s7DGejNdsej+bPcaU2yKwgNNlPj+bqQi63PPjXb0LFH5Juu\n",
       "JkvelN/14tIgZkp87G9qURFTJAcGR3cl7Q3wPJrdjJdrm61Hr811FNPLTpHeYzZXTWVES0JYLT2s\n",
       "pqTJ9RroTW/2uy9RJDEAVGAxkr3M7/EH9PIUiLK7iaehqZpAQWnd5/pUcdg08dWRVsQznE6adVQd\n",
       "FTXE+US6XB3SP8bnIIjR5MfpfkB4s/XnySz0QM/6nGlfz7dlXZpRAsw8Me175XhD0V0JgEa+ZVUp\n",
       "yMViSIbQTvDOleNkog7OMw2TX8XshHRKn8xPdvvqNTLd5cbM2lJXsm17eYKY3jhh7M0kEuMcTxi4\n",
       "f247boNNgUwynlsjoXeHwTt/8jSsDq3PYUvVorTHhpvme/ZAF6km/6fBYoCs1Ucf1RQL59J6Hfl/\n",
       "ZFOpOq53Vor7zkLOzMv6107occgl9lfiE75kw7DAvI2zwl8XwEC+f5jSh283n1PS9GjP8XZ0iUg4\n",
       "aVb+vsoeYE7qbISxUj5wntvrD/LC46agAv1aT3OTBCcL4AMR/AnihojrtRiVdcpIPTqHEiiA01Oc\n",
       "QXU91eXzAm4ckNe6Bs/DYS/T0Gbk9r4jmP0WhbMwlvftxm20vJ3QQTLEDoBK0EgYEGPxVYAG42mH\n",
       "ATv2ylsP13sZkZwNKjjJfeYPhZij/+dhDHLI8vhaXpKvhFYQNVwyck5pRE4tjz3kQemW5eLcPKyN\n",
       "MG7C349gx8SKsno7+/x5XsuvtU+Hw8VKcJX3iIBHwTmzk+P4zfeMp7vcx+K+QUAAooEAAAW8QZpj\n",
       "SeEPJlMCCX/+tSqAAFTCSIAAmJJgh1gHAjV0H/7mQMnXiX2GbIQBYByl/EV0W/wx47WVNGojE1dH\n",
       "Ft/PEcHTIm7xi6urz8Hi0kQ8MmZ2aNzeOfD4aT3J0WnWnI4qmy0op/Zj0+sevXU/VzfeFXPjsO0D\n",
       "pZbGDlzK62mcZR45tfh3wpDw+pDChN/AgIi75+jrnD2Pz+biHvUMoe5ogAyuvfq1v0lYPGPpFuPb\n",
       "tYGkv6zMACDhRSIAAAfj4WiTn2aEPXMA+ZeTo7hGh5ex0ijOufZ8j0aPv5Im4+BjRlsWroVcd/RY\n",
       "DwDeXC55oso94d8y4CTtQ4DsVJIbJBT1gdEsDBl9/Boi70AkwVXcvHO6xylLq/IxD32glLdH1PY2\n",
       "e+96V9sOw2nJ175gZX7DuIDESUM9dIhDC5LtcDzlIN+BE5zuxT8ZBYC2xzXu+95K//TWGX2ysNua\n",
       "1c+DxIn4ypijVj4uj4oeAzIn/deMhUKwDBu82vvgC5idR2xV1sIRmDC6iOvb6Df/U5MMeFy4zQB4\n",
       "WV+jjSI4ehj4h5elFanzQ616uTEFnptiTyiHSfWTtpIA85AjgfU4HqJ7DOtZtGF+/+UmVDeCX/WB\n",
       "7fTfNeLqLRYIKKUEL0Lh/DEy/cnwNJS5PQ0Jaih+05zsgoF22Q2I8A04CDSMyEeMS34XuMhQlCae\n",
       "X/waXxsYxivX+c6lhZa++oz8Ejcjn/iICmUy1H0DxRVVGRVc2m3gamURqLJZE/FG4ZKtt1LsJ/su\n",
       "gp9l6xMCOqNfpM2oWbfNSsOzDQVtZ4+COmKnSGnk8h3B3qDi0uSb+yzQNY2ZUlUQndUYaelJZ5Th\n",
       "dL1xkOwabKpaW2w4L3fStHozHwRruiT9QJ5wCHU3IV+SWkBIRe4Hp+1c3lpdrfbpy5t6+xr12VzW\n",
       "cMq2E6uXsklreQpr0oJ+TteOm8yGKBAOU6yzjsA2XMJ8LpZQuXuxCe195URPdTwFpT9egpS+qEkJ\n",
       "cgDxE4kcTSTiJBeHayR6Y3N4DMYyzx5rSsEiI78MCB3I3IQ5N7STRRDUq7r13aC8v1vK1rFzoq4p\n",
       "SqI5n4Qe8Vy9PYePPut/f9EGAM0oZNHIeLfPJsbfEOjLpjkPOC/77AXgrAgddTw27VHOJoUM9s8l\n",
       "yjdY3lalDgazIQFzHVmuKHFAJsNhHi4aBuXXf/M1H8OLTcAvJ+GTVlU9SvhvrlUFImiSOpSbHeoT\n",
       "+2h/OYLSVLXlo8NsJInRvT3xlWw69jXd+08PCuxW1h81q8HwPmeEZ6N55QNm0rKVpa6waEbH+MZ9\n",
       "7/6OvoHMZ5QjAxvXiBBfNO/kZkarp7g49JZd3gAaq3cNzQeF8hj7/JNH//XeeClMh6ekNsS/uwe0\n",
       "BjTAQtGxvzaCnMgVFUj85tO7maPYAYej/HRYXNico/GvJOVfrWgp/WdDjKVHOPF1OUu3E3ZO5EE8\n",
       "tI2nr/KiEHra6Np4dBsOGjtu8W/N5oLbqFzwofGolRCntAijWudNjo7o+XkFchy0ThbPmvMYrJmg\n",
       "dUqz20yirShQpQVjeur2JNq++3Mygr2wwB5jzbvzu6J8eyRO09JeF1Fa0hlP784buuTjOr22KxPq\n",
       "+DwxAMdd/S4iei1BOVQplt3J8Zc4F6rOcbrkjLe3fGWJLHbsHAmJpPSSzXkndBTEBA1OhKuTmCXz\n",
       "8X7MM7rOIZmyk1SMBwVW7aeeiaAJ3kHXQexGmd482pAgPzXl28HNK3XvvvVNgAEJXmBACt7HOQAx\n",
       "EUF7VjGije3CYfOd82m3f9AedF2NOxPtnuB+CrSX7xWk8z/th9NHxC9c1t9M9WT7emSE58QDXyC/\n",
       "EpjfctksUm2nYETT26I6/QYV9oN/QNvG+Md/k51Z5xIz6gAUuizwfUtkQCnmytyOHcXAoY52I/6S\n",
       "wkzMDUHaqH1BolGtXPw9gNlDpjh1enIasBOZOJSyDhOtaj5JPq/1MAAAA0dtb292AAAAbG12aGQA\n",
       "AAAAAAAAAAAAAAAAAAPoAAAH0AABAAABAAAAAAAAAAAAAAAAAQAAAAAAAAAAAAAAAAAAAAEAAAAA\n",
       "AAAAAAAAAAAAAEAAAAAAAAAAAAAAAAAAAAAAAAAAAAAAAAAAAAAAAAACAAACcXRyYWsAAABcdGto\n",
       "ZAAAAAMAAAAAAAAAAAAAAAEAAAAAAAAH0AAAAAAAAAAAAAAAAAAAAAAAAQAAAAAAAAAAAAAAAAAA\n",
       "AAEAAAAAAAAAAAAAAAAAAEAAAAAC0AAAAtAAAAAAACRlZHRzAAAAHGVsc3QAAAAAAAAAAQAAB9AA\n",
       "AEAAAAEAAAAAAeltZGlhAAAAIG1kaGQAAAAAAAAAAAAAAAAAAEAAAACAAFXEAAAAAAAtaGRscgAA\n",
       "AAAAAAAAdmlkZQAAAAAAAAAAAAAAAFZpZGVvSGFuZGxlcgAAAAGUbWluZgAAABR2bWhkAAAAAQAA\n",
       "AAAAAAAAAAAAJGRpbmYAAAAcZHJlZgAAAAAAAAABAAAADHVybCAAAAABAAABVHN0YmwAAAC0c3Rz\n",
       "ZAAAAAAAAAABAAAApGF2YzEAAAAAAAAAAQAAAAAAAAAAAAAAAAAAAAAC0ALQAEgAAABIAAAAAAAA\n",
       "AAEAAAAAAAAAAAAAAAAAAAAAAAAAAAAAAAAAAAAAAAAAAAAY//8AAAAyYXZjQwFkAB//4QAZZ2QA\n",
       "H6zZQLQW6EAAAAMAQAAAAwEDxgxlgAEABmjr48siwAAAABx1dWlka2hA8l8kT8W6OaUbzwMj8wAA\n",
       "AAAAAAAYc3R0cwAAAAAAAAABAAAABAAAIAAAAAAUc3RzcwAAAAAAAAABAAAAAQAAABhjdHRzAAAA\n",
       "AAAAAAEAAAAEAABAAAAAABxzdHNjAAAAAAAAAAEAAAABAAAABAAAAAEAAAAkc3RzegAAAAAAAAAA\n",
       "AAAABAAADDwAAAdvAAAHEwAABcAAAAAUc3RjbwAAAAAAAAABAAAALAAAAGJ1ZHRhAAAAWm1ldGEA\n",
       "AAAAAAAAIWhkbHIAAAAAAAAAAG1kaXJhcHBsAAAAAAAAAAAAAAAALWlsc3QAAAAlqXRvbwAAAB1k\n",
       "YXRhAAAAAQAAAABMYXZmNTguMjAuMTAw\n",
       "\">\n",
       "  Your browser does not support the video tag.\n",
       "</video>"
      ],
      "text/plain": [
       "<IPython.core.display.HTML object>"
      ]
     },
     "execution_count": 21,
     "metadata": {},
     "output_type": "execute_result"
    }
   ],
   "source": [
    "\n",
    "fig = plt.figure(figsize=(10, 10))\n",
    "ims = []\n",
    "for i in range(4):\n",
    "    im = plt.imshow(out[0,1,i,:,:].detach().numpy(), animated=True)\n",
    "    ims.append([im])\n",
    "\n",
    "ani2 = animation.ArtistAnimation(fig, ims, interval=500, blit=True, repeat_delay=1000)\n",
    "plt.close()\n",
    "\n",
    "# Show the animation\n",
    "HTML(ani2.to_html5_video())"
   ]
  },
  {
   "cell_type": "code",
   "execution_count": 22,
   "metadata": {},
   "outputs": [],
   "source": [
    "kernel3dext.shape\n",
    "\n",
    "\n",
    "conv3d = nn.Conv3d(1, 1, kernel_size=(3, 3, 3), padding=0,bias = False)\n",
    "\n",
    "\n",
    "conv3d.weight.data = kernel3dext"
   ]
  },
  {
   "cell_type": "code",
   "execution_count": 23,
   "metadata": {},
   "outputs": [
    {
     "data": {
      "text/plain": [
       "tensor([[[[[  1.,   1.,   1.],\n",
       "           [  1.,   1.,   1.],\n",
       "           [  1.,   1.,   1.]],\n",
       "\n",
       "          [[  1.,   1.,   1.],\n",
       "           [  1., -26.,   1.],\n",
       "           [  1.,   1.,   1.]],\n",
       "\n",
       "          [[  1.,   1.,   1.],\n",
       "           [  1.,   1.,   1.],\n",
       "           [  1.,   1.,   1.]]]]])"
      ]
     },
     "execution_count": 23,
     "metadata": {},
     "output_type": "execute_result"
    }
   ],
   "source": [
    "conv3d.weight.data"
   ]
  },
  {
   "cell_type": "code",
   "execution_count": 24,
   "metadata": {},
   "outputs": [
    {
     "data": {
      "text/plain": [
       "tensor([[[[[-21.,   7.,   5.],\n",
       "           [  7., -18.,   7.],\n",
       "           [  5.,   7., -21.]],\n",
       "\n",
       "          [[  5.,   7.,   5.],\n",
       "           [-21., -18., -21.],\n",
       "           [  5.,   7.,   5.]]]]], grad_fn=<SlowConv3DBackward>)"
      ]
     },
     "execution_count": 24,
     "metadata": {},
     "output_type": "execute_result"
    }
   ],
   "source": [
    "out = conv3d(images)\n",
    "\n",
    "out"
   ]
  },
  {
   "cell_type": "markdown",
   "metadata": {},
   "source": [
    "## 3D CNN con MNIST"
   ]
  },
  {
   "cell_type": "code",
   "execution_count": 25,
   "metadata": {},
   "outputs": [],
   "source": [
    "def array_to_color(array, cmap=\"Oranges\"):\n",
    "    s_m = plt.cm.ScalarMappable(cmap=cmap)\n",
    "    return s_m.to_rgba(array)[:,:-1]\n",
    "\n",
    "\n",
    "def rgb_data_transform(data):\n",
    "    data_t = []\n",
    "    for i in range(data.shape[0]):\n",
    "        data_t.append(array_to_color(data[i]).reshape(16, 16, 16, 3))\n",
    "    return np.asarray(data_t, dtype=np.float32)"
   ]
  },
  {
   "cell_type": "markdown",
   "metadata": {},
   "source": [
    "Utilizziamo la versione 3D di mnist, disponibile su [kaggle](https://www.kaggle.com/daavoo/3d-mnist)"
   ]
  },
  {
   "cell_type": "code",
   "execution_count": 26,
   "metadata": {},
   "outputs": [],
   "source": [
    "import h5py\n",
    "\n",
    "\n",
    "with h5py.File(\"./data/full_dataset_vectors.h5\", \"r\") as hf:    \n",
    "\n",
    "    # Split the data into training/test features/targets\n",
    "    X_train = hf[\"X_train\"][:]\n",
    "    targets_train = hf[\"y_train\"][:]\n",
    "    X_test = hf[\"X_test\"][:] \n",
    "    targets_test = hf[\"y_test\"][:]\n",
    "\n",
    "    # Determine sample shape\n",
    "    sample_shape = (16, 16, 16, 3)\n",
    "\n",
    "    # Reshape data into 3D format\n",
    "    X_train = rgb_data_transform(X_train)\n",
    "    X_test = rgb_data_transform(X_test)\n",
    "\n",
    "    # Convert target vectors to categorical targets\n",
    "    #targets_train = to_categorical(targets_train).astype(np.integer)\n",
    "    #targets_test = to_categorical(targets_test).astype(np.integer)"
   ]
  },
  {
   "cell_type": "code",
   "execution_count": 27,
   "metadata": {},
   "outputs": [],
   "source": [
    "train_x = torch.from_numpy(X_train).float()\n",
    "train_y = torch.from_numpy(targets_train).long()\n",
    "test_x = torch.from_numpy(X_test).float()\n",
    "test_y = torch.from_numpy(targets_test).long()\n",
    "\n",
    "batch_size = 4 #We pick beforehand a batch_size that we will use for the training\n",
    "\n",
    "\n",
    "# Pytorch train and test sets\n",
    "train = torch.utils.data.TensorDataset(train_x,train_y)\n",
    "test = torch.utils.data.TensorDataset(test_x,test_y)\n",
    "\n",
    "# data loader\n",
    "train_loader = torch.utils.data.DataLoader(train, batch_size = batch_size, shuffle = False)\n",
    "test_loader = torch.utils.data.DataLoader(test, batch_size = batch_size, shuffle = False)"
   ]
  },
  {
   "cell_type": "code",
   "execution_count": 28,
   "metadata": {},
   "outputs": [
    {
     "data": {
      "text/plain": [
       "torch.Size([16, 16, 16, 3])"
      ]
     },
     "execution_count": 28,
     "metadata": {},
     "output_type": "execute_result"
    }
   ],
   "source": [
    "train_x[0].shape\n"
   ]
  },
  {
   "cell_type": "code",
   "execution_count": 38,
   "metadata": {},
   "outputs": [
    {
     "name": "stdout",
     "output_type": "stream",
     "text": [
      "CNNModel(\n",
      "  (conv_layer1): Sequential(\n",
      "    (0): Conv3d(3, 32, kernel_size=(3, 3, 3), stride=(1, 1, 1))\n",
      "    (1): LeakyReLU(negative_slope=0.01)\n",
      "    (2): MaxPool3d(kernel_size=(2, 2, 2), stride=(2, 2, 2), padding=0, dilation=1, ceil_mode=False)\n",
      "  )\n",
      "  (conv_layer2): Sequential(\n",
      "    (0): Conv3d(32, 64, kernel_size=(3, 3, 3), stride=(1, 1, 1))\n",
      "    (1): LeakyReLU(negative_slope=0.01)\n",
      "    (2): MaxPool3d(kernel_size=(2, 2, 2), stride=(2, 2, 2), padding=0, dilation=1, ceil_mode=False)\n",
      "  )\n",
      "  (fc1): Linear(in_features=512, out_features=128, bias=True)\n",
      "  (fc2): Linear(in_features=128, out_features=10, bias=True)\n",
      "  (relu): LeakyReLU(negative_slope=0.01)\n",
      "  (batch): BatchNorm1d(128, eps=1e-05, momentum=0.1, affine=True, track_running_stats=True)\n",
      "  (drop): Dropout(p=0.15, inplace=False)\n",
      ")\n"
     ]
    }
   ],
   "source": [
    "num_classes = 10\n",
    "\n",
    "# Create CNN Model\n",
    "class CNNModel(nn.Module):\n",
    "    def __init__(self):\n",
    "        super(CNNModel, self).__init__()\n",
    "        \n",
    "        self.conv_layer1 = self._conv_layer_set(3, 32)\n",
    "        self.conv_layer2 = self._conv_layer_set(32, 64)\n",
    "        self.fc1 = nn.Linear(2**3*64, 128)\n",
    "        self.fc2 = nn.Linear(128, num_classes)\n",
    "        self.relu = nn.LeakyReLU()\n",
    "        self.batch=nn.BatchNorm1d(128)\n",
    "        self.drop=nn.Dropout(p=0.15)        \n",
    "        \n",
    "    def _conv_layer_set(self, in_c, out_c):\n",
    "        conv_layer = nn.Sequential(\n",
    "        nn.Conv3d(in_c, out_c, kernel_size=(3, 3, 3), padding=0),\n",
    "        nn.LeakyReLU(),\n",
    "        nn.MaxPool3d((2, 2, 2)),\n",
    "        )\n",
    "        return conv_layer\n",
    "    \n",
    "\n",
    "    def forward(self, x):\n",
    "        # Set 1\n",
    "        out = self.conv_layer1(x)\n",
    "        out = self.conv_layer2(out)\n",
    "        out = out.view(out.size(0), -1)\n",
    "        out = self.fc1(out)\n",
    "        out = self.relu(out)\n",
    "        out = self.batch(out)\n",
    "        out = self.drop(out)\n",
    "        out = self.fc2(out)\n",
    "        \n",
    "        return out\n",
    "\n",
    "#Definition of hyperparameters\n",
    "n_iters = 3000\n",
    "num_epochs = n_iters / (len(train_x) / batch_size)\n",
    "num_epochs = int(num_epochs)\n",
    "\n",
    "# Create CNN\n",
    "model = CNNModel()\n",
    "#model.cuda()\n",
    "print(model)\n",
    "\n",
    "# Cross Entropy Loss \n",
    "error = nn.CrossEntropyLoss()\n",
    "\n",
    "# SGD Optimizer\n",
    "learning_rate = 0.001\n",
    "optimizer = torch.optim.SGD(model.parameters(), lr=learning_rate)"
   ]
  },
  {
   "cell_type": "code",
   "execution_count": null,
   "metadata": {},
   "outputs": [
    {
     "name": "stderr",
     "output_type": "stream",
     "text": [
      "/Users/beppe/opt/anaconda3/envs/ptc/lib/python3.7/site-packages/ipykernel_launcher.py:10: UserWarning: To copy construct from a tensor, it is recommended to use sourceTensor.clone().detach() or sourceTensor.clone().detach().requires_grad_(True), rather than torch.tensor(sourceTensor).\n",
      "  # Remove the CWD from sys.path while we load stuff.\n"
     ]
    },
    {
     "name": "stdout",
     "output_type": "stream",
     "text": [
      "Iteration: 50\t | Loss: 2.00770\t | Accuracy: 13.45%\n",
      "Iteration: 100\t | Loss: 2.18719\t | Accuracy: 14.80%\n",
      "Iteration: 150\t | Loss: 2.14527\t | Accuracy: 16.55%\n",
      "Iteration: 200\t | Loss: 2.06221\t | Accuracy: 16.20%\n",
      "Iteration: 250\t | Loss: 2.25946\t | Accuracy: 17.25%\n",
      "Iteration: 300\t | Loss: 2.07438\t | Accuracy: 17.55%\n"
     ]
    }
   ],
   "source": [
    "# CNN model training\n",
    "count = 0\n",
    "loss_list = []\n",
    "iteration_list = []\n",
    "accuracy_list = []\n",
    "for epoch in range(num_epochs):\n",
    "    for i, (images, labels) in enumerate(train_loader):\n",
    "        \n",
    "        train = torch.FloatTensor(images.view(batch_size,3,16,16,16))\n",
    "        labels = torch.tensor(labels)\n",
    "        # Clear gradients\n",
    "        optimizer.zero_grad()\n",
    "        # Forward propagation\n",
    "        outputs = model(train)\n",
    "        # Calculate softmax and ross entropy loss\n",
    "        loss = error(outputs, labels)\n",
    "        # Calculating gradients\n",
    "        loss.backward()\n",
    "        # Update parameters\n",
    "        optimizer.step()\n",
    "        \n",
    "        count += 1\n",
    "        if count % 5 == 0:\n",
    "            # Calculate Accuracy         \n",
    "            correct = 0\n",
    "            total = 0\n",
    "            # Iterate through test dataset\n",
    "            for images, labels in test_loader:\n",
    "                \n",
    "                test = torch.FloatTensor(images.view(batch_size,3,16,16,16))\n",
    "                # Forward propagation\n",
    "                outputs = model(test)\n",
    "\n",
    "                # Get predictions from the maximum value\n",
    "                predicted = torch.max(outputs.data, 1)[1]\n",
    "                \n",
    "                # Total number of labels\n",
    "                total += len(labels)\n",
    "                correct += (predicted == labels).sum()\n",
    "            \n",
    "            accuracy = 100 * correct / float(total)\n",
    "            \n",
    "            # store loss and iteration\n",
    "            loss_list.append(loss.data)\n",
    "            iteration_list.append(count)\n",
    "            accuracy_list.append(accuracy)\n",
    "        if count % 50 == 0:\n",
    "            # Print Loss\n",
    "            print('Iteration: {}\\t | Loss: {:.5f}\\t | Accuracy: {:.2f}%'.format(count, loss.data, accuracy))"
   ]
  },
  {
   "cell_type": "markdown",
   "metadata": {},
   "source": [
    "# Recurrent Neural Networks\n",
    "\n",
    "TBC\n"
   ]
  },
  {
   "cell_type": "markdown",
   "metadata": {},
   "source": [
    "# Optical Flow\n",
    "\n",
    "TBC"
   ]
  },
  {
   "cell_type": "code",
   "execution_count": null,
   "metadata": {},
   "outputs": [],
   "source": []
  }
 ],
 "metadata": {
  "kernelspec": {
   "display_name": "Python [conda env:ptc] *",
   "language": "python",
   "name": "conda-env-ptc-py"
  },
  "language_info": {
   "codemirror_mode": {
    "name": "ipython",
    "version": 3
   },
   "file_extension": ".py",
   "mimetype": "text/x-python",
   "name": "python",
   "nbconvert_exporter": "python",
   "pygments_lexer": "ipython3",
   "version": "3.8.2"
  },
  "pycharm": {
   "stem_cell": {
    "cell_type": "raw",
    "metadata": {
     "collapsed": false
    },
    "source": []
   }
  }
 },
 "nbformat": 4,
 "nbformat_minor": 4
}
