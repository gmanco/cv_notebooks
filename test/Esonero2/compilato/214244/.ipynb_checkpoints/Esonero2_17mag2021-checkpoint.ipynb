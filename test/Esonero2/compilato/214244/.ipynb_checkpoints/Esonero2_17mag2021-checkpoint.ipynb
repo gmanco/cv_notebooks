{
 "cells": [
  {
   "cell_type": "markdown",
   "metadata": {},
   "source": [
    "# Esonero 2 - 17 Maggio 2021\n",
    "\n",
    "Completare i seguenti esercizi tramite uno o più blocchi di codice descrivendo le operazioni effettuate\n"
   ]
  },
  {
   "cell_type": "markdown",
   "metadata": {},
   "source": [
    "# Esercizio 1\n",
    "\n",
    "Data la seguente immagine, costruire la feature pyramid di gaussiane e descrivere il procedimento\n",
    "\n",
    "![](figure1.jpg)"
   ]
  },
  {
   "cell_type": "markdown",
   "metadata": {},
   "source": [
    "# Esercizio 2\n",
    "\n",
    "\n",
    "Data la seguente sequenza di tensori e la funzione *f*, calcolare il gradiente per i tensori a,b,c,d,e,y. \n",
    "\n",
    "Descrivere come viene costruito il grafo di computazione mostrando quali operazioni vengono effettuate, cioè calcolando le derivate parziali in maniera esplicita. \n",
    "\n",
    "$\n",
    "y = f(a,b,c,d,e) = \\sum \\frac {a^3 + \\exp(b^3) * c * \\sin (d)} {4e}\n",
    "$\n",
    "\n",
    "*non sono necessarie librerie esterne*"
   ]
  },
  {
   "cell_type": "code",
   "execution_count": null,
   "metadata": {},
   "outputs": [],
   "source": [
    "a = torch.tensor([1, 6, 7, 8, 1, 2], dtype=torch.float, requires_grad=True).view(3, 2)\n",
    "b = torch.tensor([3, 3, 1, 1, 6, 2], dtype=torch.float, requires_grad=True).view(3, 2)\n",
    "c = torch.tensor([1, 3, 0, 7, 4, 3], dtype=torch.float, requires_grad=True).view(3, 2)\n",
    "d = torch.tensor([2, 0, 3, 5, 3, 1], dtype=torch.float, requires_grad=True).view(3, 2)\n",
    "e = torch.tensor([5, 2, 1, 1, 1, 1], dtype=torch.float, requires_grad=True).view(3, 2)\n",
    "\n"
   ]
  },
  {
   "cell_type": "markdown",
   "metadata": {},
   "source": [
    "# Esercizio 3\n",
    "\n",
    "Dati due batch A e B, mostrare gli effetti della BN.\n",
    "\n",
    "Suggerimento: calcolare gli istogrammi di A e B"
   ]
  },
  {
   "cell_type": "markdown",
   "metadata": {},
   "source": [
    "# Esercizio 4\n",
    "\n",
    "Dato il seguente frammento di codice"
   ]
  },
  {
   "cell_type": "code",
   "execution_count": null,
   "metadata": {},
   "outputs": [],
   "source": [
    "conv1 = torch.nn.Conv2d(3, 10, kernel_size=3, padding=1, stride=2)\n",
    "conv2 = torch.nn.Conv2d(10, 30, kernel_size=(3, 5), padding=(0, 1), stride=(3, 4))\n",
    "\n",
    "model = lambda x: conv2(conv1(x))"
   ]
  },
  {
   "cell_type": "markdown",
   "metadata": {},
   "source": [
    "Indicare giustificando la risposta qual'è il risultato per un'immagine 1x3x400x400 illustrandolo con un esempio. "
   ]
  },
  {
   "cell_type": "markdown",
   "metadata": {},
   "source": [
    "# Esercizio 5\n",
    "\n",
    "Adattare/semplificare la rete AlexNet affinché gestisca un input di immagini 400x400"
   ]
  },
  {
   "cell_type": "markdown",
   "metadata": {},
   "source": [
    "# Esercizio 6\n",
    "\n",
    "Data la seguente immagine, costruire due Bounding box con IoU = 0.5. \n",
    "Descrivere tutte le operazioni effettuate\n",
    "\n",
    "![](figure2.jpg)"
   ]
  },
  {
   "cell_type": "code",
   "execution_count": null,
   "metadata": {},
   "outputs": [],
   "source": []
  }
 ],
 "metadata": {
  "kernelspec": {
   "display_name": "Python 3",
   "language": "python",
   "name": "python3"
  },
  "language_info": {
   "codemirror_mode": {
    "name": "ipython",
    "version": 3
   },
   "file_extension": ".py",
   "mimetype": "text/x-python",
   "name": "python",
   "nbconvert_exporter": "python",
   "pygments_lexer": "ipython3",
   "version": "3.8.2"
  }
 },
 "nbformat": 4,
 "nbformat_minor": 4
}
