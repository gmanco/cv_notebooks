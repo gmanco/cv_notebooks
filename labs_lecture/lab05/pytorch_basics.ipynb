{
 "cells": [
  {
   "cell_type": "markdown",
   "metadata": {},
   "source": [
    "# Pytorch - Getting started\n",
    "\n",
    "More info at https://pytorch.org/tutorials/"
   ]
  },
  {
   "cell_type": "code",
   "execution_count": 1,
   "metadata": {},
   "outputs": [],
   "source": [
    "import torch\n",
    "import numpy as np\n",
    "\n",
    "import matplotlib.pyplot as plt\n",
    "%matplotlib inline"
   ]
  },
  {
   "cell_type": "code",
   "execution_count": 2,
   "metadata": {},
   "outputs": [
    {
     "name": "stdout",
     "output_type": "stream",
     "text": [
      "tensor([[0.4236, 0.5705, 0.8534],\n",
      "        [0.6901, 0.7609, 0.6029],\n",
      "        [0.4556, 0.7350, 0.0717],\n",
      "        [0.6287, 0.2511, 0.3292],\n",
      "        [0.1664, 0.0419, 0.8420]])\n"
     ]
    }
   ],
   "source": [
    "# init tensor with random value\n",
    "x = torch.rand(5, 3)\n",
    "print(x)"
   ]
  },
  {
   "cell_type": "code",
   "execution_count": 3,
   "metadata": {},
   "outputs": [
    {
     "name": "stdout",
     "output_type": "stream",
     "text": [
      "torch.FloatTensor\n",
      "torch.float32\n",
      "float64\n"
     ]
    }
   ],
   "source": [
    "print(x.type()) # <class 'torch.FloatTensor'>\n",
    "print(x.dtype) # float32\n",
    "\n",
    "y = np.zeros((4, 4))\n",
    "print(y.dtype) # float64"
   ]
  },
  {
   "cell_type": "code",
   "execution_count": 4,
   "metadata": {},
   "outputs": [
    {
     "name": "stdout",
     "output_type": "stream",
     "text": [
      "tensor([[0, 0, 0],\n",
      "        [0, 0, 0],\n",
      "        [0, 0, 0],\n",
      "        [0, 0, 0],\n",
      "        [0, 0, 0]])\n"
     ]
    }
   ],
   "source": [
    "# tensor of 0s, the ones() method init with value of 1\n",
    "x = torch.zeros(5, 3, dtype=torch.long)\n",
    "print(x)"
   ]
  },
  {
   "cell_type": "code",
   "execution_count": 5,
   "metadata": {},
   "outputs": [
    {
     "name": "stdout",
     "output_type": "stream",
     "text": [
      "tensor([[5, 3, 1],\n",
      "        [3, 5, 2],\n",
      "        [4, 4, 4],\n",
      "        [1, 2, 3],\n",
      "        [0, 0, 1]])\n"
     ]
    }
   ],
   "source": [
    "# build tensor from multi-dimensional list\n",
    "x = torch.tensor([[5, 3, 1],[3,5,2], [4,4,4],[1,2,3],[0,0,1]])\n",
    "print(x)"
   ]
  },
  {
   "cell_type": "code",
   "execution_count": 6,
   "metadata": {},
   "outputs": [
    {
     "name": "stdout",
     "output_type": "stream",
     "text": [
      "torch.Size([5, 3])\n",
      "torch.Size([5, 3])\n"
     ]
    }
   ],
   "source": [
    "# shape of the tensor\n",
    "print(x.size())\n",
    "print(x.shape)"
   ]
  },
  {
   "cell_type": "markdown",
   "metadata": {},
   "source": [
    "#### From numpy"
   ]
  },
  {
   "cell_type": "code",
   "execution_count": 7,
   "metadata": {},
   "outputs": [
    {
     "name": "stdout",
     "output_type": "stream",
     "text": [
      "<class 'numpy.ndarray'>\n"
     ]
    }
   ],
   "source": [
    "import numpy as np\n",
    "\n",
    "# Create a numpy array.\n",
    "x = np.array([[1, 2], [3, 4]])\n",
    "\n",
    "\n",
    "# Convert the numpy array to a torch tensor.\n",
    "y = torch.from_numpy(x)\n",
    "\n",
    "# Convert the torch tensor to a numpy array.\n",
    "z = y.numpy()\n",
    "\n",
    "print(type(z))"
   ]
  },
  {
   "cell_type": "markdown",
   "metadata": {},
   "source": [
    "## Basic operations "
   ]
  },
  {
   "cell_type": "code",
   "execution_count": 8,
   "metadata": {},
   "outputs": [
    {
     "name": "stdout",
     "output_type": "stream",
     "text": [
      "tensor([[1.1409, 1.3387, 0.2749],\n",
      "        [0.8386, 1.5641, 0.7540],\n",
      "        [0.8538, 0.9361, 0.9627],\n",
      "        [0.7989, 1.5444, 0.5865],\n",
      "        [0.3518, 1.0559, 1.3198]])\n"
     ]
    }
   ],
   "source": [
    "x = torch.rand([5,3])\n",
    "\n",
    "y = torch.rand([5,3])\n",
    "\n",
    "z = x + y\n",
    "\n",
    "print(z)"
   ]
  },
  {
   "cell_type": "markdown",
   "metadata": {},
   "source": [
    "**Reshape**\n",
    "\n",
    "In pytorch il metodo *view* permette di cambiare le dimensioni di un tensore. Un tensore contiene una sequenza di valori e le dimensioni sono solo una loro organizzazione logica. Cambiare dimensioni non determina un cambiamento della struttura dati, quindi... per tensori di \"grandi\" dimensioni cambiare la shape del tensore non ha un impatto sulle prestazioni, a differenza della copia."
   ]
  },
  {
   "cell_type": "code",
   "execution_count": 9,
   "metadata": {},
   "outputs": [
    {
     "name": "stdout",
     "output_type": "stream",
     "text": [
      "torch.Size([4, 4]) torch.Size([16]) torch.Size([2, 8])\n"
     ]
    }
   ],
   "source": [
    "x = torch.randn(4, 4)\n",
    "y = x.view(16)\n",
    "z = x.view(-1, 8)  # the size -1 is inferred from other dimensions\n",
    "print(x.shape, y.shape, z.shape)\n"
   ]
  },
  {
   "cell_type": "markdown",
   "metadata": {},
   "source": [
    "## Exploiting GPUs"
   ]
  },
  {
   "cell_type": "code",
   "execution_count": 10,
   "metadata": {},
   "outputs": [
    {
     "name": "stdout",
     "output_type": "stream",
     "text": [
      "tensor([[ 0.3988,  0.0223,  1.4815],\n",
      "        [-0.8617,  1.2693,  1.1544],\n",
      "        [ 0.9233, -0.1953,  0.2897],\n",
      "        [ 0.3232,  1.2209,  1.3106],\n",
      "        [ 1.0360, -0.1011,  2.3795]])\n",
      "tensor([[ 0.3988,  0.0223,  1.4815],\n",
      "        [-0.8617,  1.2693,  1.1544],\n",
      "        [ 0.9233, -0.1953,  0.2897],\n",
      "        [ 0.3232,  1.2209,  1.3106],\n",
      "        [ 1.0360, -0.1011,  2.3795]])\n"
     ]
    }
   ],
   "source": [
    "if torch.cuda.is_available():\n",
    "    device = torch.device(\"cuda\")          # a CUDA device object\n",
    "else:\n",
    "    device = torch.device(\"cpu\")          # a cpu device \n",
    "\n",
    "x = torch.randn(5, 3)\n",
    "y = torch.ones([5,3], device=device)  # directly create a tensor on device\n",
    "x = x.to(device)                       # or just use strings ``.to(\"cuda\")``\n",
    "z = x + y\n",
    "\n",
    "print(z)\n",
    "print(z.to(\"cpu\"))    \n",
    "    \n",
    "if torch.cuda.is_available():\n",
    "    print('move y from cpu to cuda')\n",
    "    y = torch.ones([5,3])\n",
    "    y = y.cuda()"
   ]
  },
  {
   "cell_type": "markdown",
   "metadata": {},
   "source": [
    "## Automatic differentiation"
   ]
  },
  {
   "cell_type": "code",
   "execution_count": 11,
   "metadata": {},
   "outputs": [
    {
     "name": "stdout",
     "output_type": "stream",
     "text": [
      "tensor([[1., 1.],\n",
      "        [1., 1.]], requires_grad=True)\n"
     ]
    }
   ],
   "source": [
    "x = torch.ones(2, 2, requires_grad=True)\n",
    "\n",
    "print(x)"
   ]
  },
  {
   "cell_type": "code",
   "execution_count": 12,
   "metadata": {},
   "outputs": [
    {
     "name": "stdout",
     "output_type": "stream",
     "text": [
      "tensor([[3., 3.],\n",
      "        [3., 3.]], grad_fn=<AddBackward0>)\n"
     ]
    }
   ],
   "source": [
    "# tensors derived from other tensors track functions. These functions are the basis for computing the gradient\n",
    "y = x + 2\n",
    "\n",
    "print(y)"
   ]
  },
  {
   "cell_type": "code",
   "execution_count": 13,
   "metadata": {},
   "outputs": [
    {
     "name": "stdout",
     "output_type": "stream",
     "text": [
      "z = tensor([[9., 9.],\n",
      "        [9., 9.]], grad_fn=<PowBackward0>)\n",
      "t = tensor([[27., 27.],\n",
      "        [27., 27.]], grad_fn=<MulBackward0>)\n",
      "out = 9.0\n",
      "\n",
      "\n",
      "grad z = <PowBackward0 object at 0x1327d58e0>\n",
      "grad t = <MulBackward0 object at 0x1327d5a30>\n",
      "grad out = <MeanBackward0 object at 0x13282dd00>\n"
     ]
    }
   ],
   "source": [
    "z = torch.pow(y,2)\n",
    "\n",
    "t = 3 * z\n",
    "\n",
    "out = z.mean()\n",
    "\n",
    "print(f'z = {z}')\n",
    "print(f't = {t}')\n",
    "print(f'out = {out}')\n",
    "\n",
    "print(f'\\n\\ngrad z = {z.grad_fn}')\n",
    "print(f'grad t = {t.grad_fn}')\n",
    "print(f'grad out = {out.grad_fn}')\n"
   ]
  },
  {
   "cell_type": "markdown",
   "metadata": {},
   "source": [
    "## Gradients"
   ]
  },
  {
   "cell_type": "code",
   "execution_count": 14,
   "metadata": {},
   "outputs": [
    {
     "name": "stdout",
     "output_type": "stream",
     "text": [
      "OLD grad value is None\n"
     ]
    }
   ],
   "source": [
    "print(f'OLD grad value is {x.grad}')\n",
    "out.backward()"
   ]
  },
  {
   "cell_type": "markdown",
   "metadata": {},
   "source": [
    "print gradients $d(out)/dx$"
   ]
  },
  {
   "cell_type": "code",
   "execution_count": 15,
   "metadata": {},
   "outputs": [
    {
     "name": "stdout",
     "output_type": "stream",
     "text": [
      "tensor([[1.5000, 1.5000],\n",
      "        [1.5000, 1.5000]])\n"
     ]
    }
   ],
   "source": [
    "print(x.grad)"
   ]
  },
  {
   "cell_type": "markdown",
   "metadata": {},
   "source": [
    "Il calcolo del gradiente tramite il metodo *backward* funziona grazie al concetto di computation graph. Pytorch crea un grafo delle operazioni e naviga a ritroso su questo grafo per effettuare il calcolo.\n",
    "\n",
    "Ad esempio, la variabile out definita in precedenza costruisce il seguente grafo.\n",
    "\n",
    "    x = zeros(2, 2)\n",
    "    y = x + 2\n",
    "    z = y ^ 2\n",
    "    out = mean(z)\n",
    "\n",
    "Si utilizza il package torchviz per creare il Computational Graph a partire dal tensore"
   ]
  },
  {
   "cell_type": "code",
   "execution_count": 16,
   "metadata": {},
   "outputs": [
    {
     "data": {
      "image/svg+xml": [
       "<?xml version=\"1.0\" encoding=\"UTF-8\" standalone=\"no\"?>\n",
       "<!DOCTYPE svg PUBLIC \"-//W3C//DTD SVG 1.1//EN\"\n",
       " \"http://www.w3.org/Graphics/SVG/1.1/DTD/svg11.dtd\">\n",
       "<!-- Generated by graphviz version 2.49.3 (20211023.0002)\n",
       " -->\n",
       "<!-- Pages: 1 -->\n",
       "<svg width=\"109pt\" height=\"326pt\"\n",
       " viewBox=\"0.00 0.00 109.00 326.00\" xmlns=\"http://www.w3.org/2000/svg\" xmlns:xlink=\"http://www.w3.org/1999/xlink\">\n",
       "<g id=\"graph0\" class=\"graph\" transform=\"scale(1 1) rotate(0) translate(4 322)\">\n",
       "<polygon fill=\"white\" stroke=\"transparent\" points=\"-4,4 -4,-322 105,-322 105,4 -4,4\"/>\n",
       "<!-- 5142398016 -->\n",
       "<g id=\"node1\" class=\"node\">\n",
       "<title>5142398016</title>\n",
       "<polygon fill=\"#caff70\" stroke=\"black\" points=\"77.5,-31 23.5,-31 23.5,0 77.5,0 77.5,-31\"/>\n",
       "<text text-anchor=\"middle\" x=\"50.5\" y=\"-7\" font-family=\"monospace\" font-size=\"10.00\"> ()</text>\n",
       "</g>\n",
       "<!-- 5142497552 -->\n",
       "<g id=\"node2\" class=\"node\">\n",
       "<title>5142497552</title>\n",
       "<polygon fill=\"lightgrey\" stroke=\"black\" points=\"98,-86 3,-86 3,-67 98,-67 98,-86\"/>\n",
       "<text text-anchor=\"middle\" x=\"50.5\" y=\"-74\" font-family=\"monospace\" font-size=\"10.00\">MeanBackward0</text>\n",
       "</g>\n",
       "<!-- 5142497552&#45;&gt;5142398016 -->\n",
       "<g id=\"edge5\" class=\"edge\">\n",
       "<title>5142497552&#45;&gt;5142398016</title>\n",
       "<path fill=\"none\" stroke=\"black\" d=\"M50.5,-66.79C50.5,-60.07 50.5,-50.4 50.5,-41.34\"/>\n",
       "<polygon fill=\"black\" stroke=\"black\" points=\"54,-41.19 50.5,-31.19 47,-41.19 54,-41.19\"/>\n",
       "</g>\n",
       "<!-- 5142496016 -->\n",
       "<g id=\"node3\" class=\"node\">\n",
       "<title>5142496016</title>\n",
       "<polygon fill=\"lightgrey\" stroke=\"black\" points=\"95,-141 6,-141 6,-122 95,-122 95,-141\"/>\n",
       "<text text-anchor=\"middle\" x=\"50.5\" y=\"-129\" font-family=\"monospace\" font-size=\"10.00\">PowBackward0</text>\n",
       "</g>\n",
       "<!-- 5142496016&#45;&gt;5142497552 -->\n",
       "<g id=\"edge1\" class=\"edge\">\n",
       "<title>5142496016&#45;&gt;5142497552</title>\n",
       "<path fill=\"none\" stroke=\"black\" d=\"M50.5,-121.75C50.5,-114.8 50.5,-104.85 50.5,-96.13\"/>\n",
       "<polygon fill=\"black\" stroke=\"black\" points=\"54,-96.09 50.5,-86.09 47,-96.09 54,-96.09\"/>\n",
       "</g>\n",
       "<!-- 5142496448 -->\n",
       "<g id=\"node4\" class=\"node\">\n",
       "<title>5142496448</title>\n",
       "<polygon fill=\"lightgrey\" stroke=\"black\" points=\"95,-196 6,-196 6,-177 95,-177 95,-196\"/>\n",
       "<text text-anchor=\"middle\" x=\"50.5\" y=\"-184\" font-family=\"monospace\" font-size=\"10.00\">AddBackward0</text>\n",
       "</g>\n",
       "<!-- 5142496448&#45;&gt;5142496016 -->\n",
       "<g id=\"edge2\" class=\"edge\">\n",
       "<title>5142496448&#45;&gt;5142496016</title>\n",
       "<path fill=\"none\" stroke=\"black\" d=\"M50.5,-176.75C50.5,-169.8 50.5,-159.85 50.5,-151.13\"/>\n",
       "<polygon fill=\"black\" stroke=\"black\" points=\"54,-151.09 50.5,-141.09 47,-151.09 54,-151.09\"/>\n",
       "</g>\n",
       "<!-- 5142496544 -->\n",
       "<g id=\"node5\" class=\"node\">\n",
       "<title>5142496544</title>\n",
       "<polygon fill=\"lightgrey\" stroke=\"black\" points=\"101,-251 0,-251 0,-232 101,-232 101,-251\"/>\n",
       "<text text-anchor=\"middle\" x=\"50.5\" y=\"-239\" font-family=\"monospace\" font-size=\"10.00\">AccumulateGrad</text>\n",
       "</g>\n",
       "<!-- 5142496544&#45;&gt;5142496448 -->\n",
       "<g id=\"edge3\" class=\"edge\">\n",
       "<title>5142496544&#45;&gt;5142496448</title>\n",
       "<path fill=\"none\" stroke=\"black\" d=\"M50.5,-231.75C50.5,-224.8 50.5,-214.85 50.5,-206.13\"/>\n",
       "<polygon fill=\"black\" stroke=\"black\" points=\"54,-206.09 50.5,-196.09 47,-206.09 54,-206.09\"/>\n",
       "</g>\n",
       "<!-- 5142393408 -->\n",
       "<g id=\"node6\" class=\"node\">\n",
       "<title>5142393408</title>\n",
       "<polygon fill=\"lightblue\" stroke=\"black\" points=\"80,-318 21,-318 21,-287 80,-287 80,-318\"/>\n",
       "<text text-anchor=\"middle\" x=\"50.5\" y=\"-294\" font-family=\"monospace\" font-size=\"10.00\"> (2, 2)</text>\n",
       "</g>\n",
       "<!-- 5142393408&#45;&gt;5142496544 -->\n",
       "<g id=\"edge4\" class=\"edge\">\n",
       "<title>5142393408&#45;&gt;5142496544</title>\n",
       "<path fill=\"none\" stroke=\"black\" d=\"M50.5,-286.92C50.5,-279.22 50.5,-269.69 50.5,-261.43\"/>\n",
       "<polygon fill=\"black\" stroke=\"black\" points=\"54,-261.25 50.5,-251.25 47,-261.25 54,-261.25\"/>\n",
       "</g>\n",
       "</g>\n",
       "</svg>\n"
      ],
      "text/plain": [
       "<graphviz.dot.Digraph at 0x132844400>"
      ]
     },
     "execution_count": 16,
     "metadata": {},
     "output_type": "execute_result"
    }
   ],
   "source": [
    "import torchviz\n",
    "\n",
    "torchviz.make_dot(out)"
   ]
  },
  {
   "cell_type": "markdown",
   "metadata": {},
   "source": [
    "# Neural networks in pytorch"
   ]
  },
  {
   "cell_type": "markdown",
   "metadata": {},
   "source": [
    "## Basic Networks\n",
    "\n",
    "Esempio di un semplice task di regressione lineare"
   ]
  },
  {
   "cell_type": "code",
   "execution_count": 17,
   "metadata": {},
   "outputs": [],
   "source": [
    "import torch\n",
    "import torch.nn as nn\n"
   ]
  },
  {
   "cell_type": "code",
   "execution_count": 18,
   "metadata": {},
   "outputs": [
    {
     "data": {
      "image/png": "[encoded data removed]",
      "text/plain": [
       "<Figure size 432x288 with 1 Axes>"
      ]
     },
     "metadata": {
      "needs_background": "light"
     },
     "output_type": "display_data"
    }
   ],
   "source": [
    "# Build DATASET\n",
    "\n",
    "input_size = 1\n",
    "output_size = 1\n",
    "\n",
    "# Toy dataset\n",
    "x_train = np.array([[3.3], [4.4], [5.5], [6.71], [6.93], [4.168], \n",
    "                    [9.779], [6.182], [7.59], [2.167], [7.042], \n",
    "                    [10.791], [5.313], [7.997], [3.1]], dtype=np.float32)\n",
    "\n",
    "y_train = np.array([[1.7], [2.76], [2.09], [3.19], [1.694], [1.573], \n",
    "                    [3.366], [2.596], [2.53], [1.221], [2.827], \n",
    "                    [3.465], [1.65], [2.904], [1.3]], dtype=np.float32)\n",
    "\n",
    "plt.plot(x_train, y_train, 'ro')\n",
    "plt.show()"
   ]
  },
  {
   "cell_type": "markdown",
   "metadata": {},
   "source": [
    "Costruzione della rete"
   ]
  },
  {
   "cell_type": "code",
   "execution_count": 19,
   "metadata": {},
   "outputs": [],
   "source": [
    "# Linear regression model\n",
    "model = nn.Linear(input_size, output_size)\n",
    "\n",
    "# Loss and optimizer\n",
    "criterion = nn.MSELoss()\n",
    "\n",
    "learning_rate = 0.001\n",
    "optimizer = torch.optim.SGD(model.parameters(), lr=learning_rate)  \n"
   ]
  },
  {
   "cell_type": "markdown",
   "metadata": {},
   "source": [
    "Nel modulo **nn** sono presenti le implementazioni dei principali layer.\n",
    "\n",
    "Il layer *Linear* è implementa la funzione\n",
    "\n",
    "$$ \n",
    "y = A^T x + b\n",
    "$$\n"
   ]
  },
  {
   "cell_type": "code",
   "execution_count": 20,
   "metadata": {},
   "outputs": [
    {
     "name": "stdout",
     "output_type": "stream",
     "text": [
      "Epoch [5/60], Loss: 12.9528\n",
      "Epoch [10/60], Loss: 5.3991\n",
      "Epoch [15/60], Loss: 2.3389\n",
      "Epoch [20/60], Loss: 1.0990\n",
      "Epoch [25/60], Loss: 0.5965\n",
      "Epoch [30/60], Loss: 0.3929\n",
      "Epoch [35/60], Loss: 0.3102\n",
      "Epoch [40/60], Loss: 0.2766\n",
      "Epoch [45/60], Loss: 0.2629\n",
      "Epoch [50/60], Loss: 0.2572\n",
      "Epoch [55/60], Loss: 0.2547\n",
      "Epoch [60/60], Loss: 0.2536\n"
     ]
    }
   ],
   "source": [
    "num_epochs = 60\n",
    "\n",
    "# Convert numpy arrays to torch tensors\n",
    "inputs = torch.from_numpy(x_train)\n",
    "targets = torch.from_numpy(y_train)\n",
    "\n",
    "for epoch in range(num_epochs):\n",
    "    # Forward pass\n",
    "    outputs = model(inputs)\n",
    "    loss = criterion(outputs, targets)\n",
    "    \n",
    "    # Backward and optimize\n",
    "    optimizer.zero_grad()\n",
    "    loss.backward()\n",
    "    optimizer.step()\n",
    "    \n",
    "    if (epoch+1) % 5 == 0:\n",
    "        print ('Epoch [{}/{}], Loss: {:.4f}'.format(epoch+1, num_epochs, loss.item()))\n",
    "        "
   ]
  },
  {
   "cell_type": "markdown",
   "metadata": {},
   "source": [
    "Per addestrare il modello, si effettuano due operazioni principali: forward pass e backward pass. Con il primo si calcolano le performance del modello sul training set, con il secondo si aggiornano i pesi. Lo schema di ogni epoca è riassumibile in:\n",
    "\n",
    "1. si applica il modello al training set (forward)\n",
    "2. si calcola la funzione di loss\n",
    "3. si aggiornano i pesi del modello tramite l'optimizer (backward)\n",
    "\n",
    "N.B. Ad ogni iterazione, prima di aggiornare i pesi dei layer, il valore del gradiente deve essere azzerato. Il metodo *zero_grad* dell'optimizer effettua l'operazione per tutti i tensori presenti nel computation graph"
   ]
  },
  {
   "cell_type": "code",
   "execution_count": 21,
   "metadata": {},
   "outputs": [
    {
     "data": {
      "image/png": "[encoded data removed]",
      "text/plain": [
       "<Figure size 432x288 with 1 Axes>"
      ]
     },
     "metadata": {
      "needs_background": "light"
     },
     "output_type": "display_data"
    }
   ],
   "source": [
    "# Plot the graph\n",
    "predicted = model(torch.from_numpy(x_train)).detach().numpy()\n",
    "plt.plot(x_train, y_train, 'ro', label='Original data')\n",
    "plt.plot(x_train, predicted, label='Fitted line')\n",
    "plt.legend()\n",
    "plt.show()"
   ]
  },
  {
   "cell_type": "code",
   "execution_count": 22,
   "metadata": {},
   "outputs": [
    {
     "name": "stdout",
     "output_type": "stream",
     "text": [
      "input = 3.300 \t->\t output = 1.173 \t (y = 1.700)\n",
      "input = 4.400 \t->\t output = 1.582 \t (y = 2.760)\n",
      "input = 5.500 \t->\t output = 1.991 \t (y = 2.090)\n",
      "input = 6.710 \t->\t output = 2.440 \t (y = 3.190)\n",
      "input = 6.930 \t->\t output = 2.522 \t (y = 1.694)\n",
      "input = 4.168 \t->\t output = 1.496 \t (y = 1.573)\n",
      "input = 9.779 \t->\t output = 3.581 \t (y = 3.366)\n",
      "input = 6.182 \t->\t output = 2.244 \t (y = 2.596)\n",
      "input = 7.590 \t->\t output = 2.767 \t (y = 2.530)\n",
      "input = 2.167 \t->\t output = 0.752 \t (y = 1.221)\n",
      "input = 7.042 \t->\t output = 2.564 \t (y = 2.827)\n",
      "input = 10.791 \t->\t output = 3.957 \t (y = 3.465)\n",
      "input = 5.313 \t->\t output = 1.921 \t (y = 1.650)\n",
      "input = 7.997 \t->\t output = 2.919 \t (y = 2.904)\n",
      "input = 3.100 \t->\t output = 1.099 \t (y = 1.300)\n"
     ]
    }
   ],
   "source": [
    "# compare predictions\n",
    "for x,y,hat_y in zip(x_train,y_train,predicted):\n",
    "    print(f'input = {x[0]:.3f} \\t->\\t output = {hat_y[0]:.3f} \\t (y = {y[0]:.3f})')"
   ]
  },
  {
   "cell_type": "markdown",
   "metadata": {},
   "source": [
    "## Logistic regression "
   ]
  },
  {
   "cell_type": "markdown",
   "metadata": {},
   "source": [
    "L'esempio seguente utilizza i dati visti in precedenza per costruire un modello di classificazione.\n",
    "\n",
    "L'idea è addestrare un modello che approssimi questa regola di classificazione:\n",
    "\n",
    "if $x \\geq 6$ \n",
    "then class = 1\n",
    "else class = 0\n",
    "\n",
    "L'iperpiano $x - 6 = 0$ definisce suddivide il dominio in classe 0 e classe 1."
   ]
  },
  {
   "cell_type": "code",
   "execution_count": 23,
   "metadata": {},
   "outputs": [],
   "source": [
    "x_train = np.array([[3.3], [4.4], [5.5], [6.71], [6.93], [4.168], \n",
    "                    [9.779], [6.182], [7.59], [2.167], [7.042], \n",
    "                    [10.791], [5.313], [7.997], [3.1]], dtype=np.float32)\n",
    "\n",
    "y_train = np.array([\n",
    "    [0.0], [0.0], [0.0], [1.0], [1.0], [0.0], [1.0], [1.0], [1.0], [0.0], [1.0], [1.0], [0.0], [1.0], [0.0]\n",
    "],dtype=np.int)"
   ]
  },
  {
   "cell_type": "code",
   "execution_count": 24,
   "metadata": {},
   "outputs": [
    {
     "name": "stdout",
     "output_type": "stream",
     "text": [
      "Epoch [2000/20000], Loss: 0.7319\n",
      "Epoch [4000/20000], Loss: 0.5256\n",
      "Epoch [6000/20000], Loss: 0.3777\n",
      "Epoch [8000/20000], Loss: 0.2834\n",
      "Epoch [10000/20000], Loss: 0.2209\n",
      "Epoch [12000/20000], Loss: 0.1771\n",
      "Epoch [14000/20000], Loss: 0.1451\n",
      "Epoch [16000/20000], Loss: 0.1208\n",
      "Epoch [18000/20000], Loss: 0.1019\n",
      "Epoch [20000/20000], Loss: 0.0869\n"
     ]
    }
   ],
   "source": [
    "model = nn.Linear(input_size, output_size)\n",
    "\n",
    "# Loss and optimizer\n",
    "criterion = nn.BCELoss()\n",
    "\n",
    "learning_rate = 0.001\n",
    "optimizer = torch.optim.Adam(model.parameters(), lr=learning_rate)  \n",
    "\n",
    "num_epochs = 20000\n",
    "log_freq = num_epochs / 10\n",
    "\n",
    "# Convert numpy arrays to torch tensors\n",
    "inputs = torch.from_numpy(x_train).float()\n",
    "targets = torch.from_numpy(y_train).float()\n",
    "\n",
    "for epoch in range(num_epochs):\n",
    "    # Forward pass\n",
    "    outputs = torch.sigmoid(model(inputs))\n",
    "    loss = criterion(outputs, targets)\n",
    "    \n",
    "    # Backward and optimize\n",
    "    optimizer.zero_grad()\n",
    "    loss.backward()\n",
    "    optimizer.step()\n",
    "    \n",
    "    if (epoch+1) % log_freq == 0:\n",
    "        print ('Epoch [{}/{}], Loss: {:.4f}'.format(epoch+1, num_epochs, loss.item()))\n",
    "        "
   ]
  },
  {
   "cell_type": "code",
   "execution_count": 25,
   "metadata": {},
   "outputs": [
    {
     "data": {
      "image/png": "[encoded data removed]",
      "text/plain": [
       "<Figure size 432x288 with 1 Axes>"
      ]
     },
     "metadata": {
      "needs_background": "light"
     },
     "output_type": "display_data"
    }
   ],
   "source": [
    "# boundary line x >= 6\n",
    "line_y = np.linspace(0, 1., 1000)\n",
    "line_x = [6] * len(line_y)\n",
    "\n",
    "predicted = torch.sigmoid(model(torch.from_numpy(x_train))).detach().numpy()\n",
    "\n",
    "plt.plot(x_train, predicted,'o',label='probabilities')\n",
    "plt.plot(line_x, line_y, 'r')\n",
    "plt.show()"
   ]
  },
  {
   "cell_type": "code",
   "execution_count": 26,
   "metadata": {},
   "outputs": [
    {
     "name": "stdout",
     "output_type": "stream",
     "text": [
      "input = 3.300 \t->\t Probability of 1 = 0.003 \t (y = 0.000)\n",
      "input = 4.400 \t->\t Probability of 1 = 0.034 \t (y = 0.000)\n",
      "input = 5.500 \t->\t Probability of 1 = 0.330 \t (y = 0.000)\n",
      "input = 6.710 \t->\t Probability of 1 = 0.900 \t (y = 1.000)\n",
      "input = 6.930 \t->\t Probability of 1 = 0.938 \t (y = 1.000)\n",
      "input = 4.168 \t->\t Probability of 1 = 0.020 \t (y = 0.000)\n",
      "input = 9.779 \t->\t Probability of 1 = 1.000 \t (y = 1.000)\n",
      "input = 6.182 \t->\t Probability of 1 = 0.717 \t (y = 1.000)\n",
      "input = 7.590 \t->\t Probability of 1 = 0.987 \t (y = 1.000)\n",
      "input = 2.167 \t->\t Probability of 1 = 0.000 \t (y = 0.000)\n",
      "input = 7.042 \t->\t Probability of 1 = 0.952 \t (y = 1.000)\n",
      "input = 10.791 \t->\t Probability of 1 = 1.000 \t (y = 1.000)\n",
      "input = 5.313 \t->\t Probability of 1 = 0.239 \t (y = 0.000)\n",
      "input = 7.997 \t->\t Probability of 1 = 0.995 \t (y = 1.000)\n",
      "input = 3.100 \t->\t Probability of 1 = 0.002 \t (y = 0.000)\n"
     ]
    }
   ],
   "source": [
    "# Predictions\n",
    "for x,y,hat_y in zip(x_train,y_train,predicted):\n",
    "    print(f'input = {x[0]:.3f} \\t->\\t Probability of 1 = {hat_y[0]:.3f} \\t (y = {y[0]:.3f})')    "
   ]
  },
  {
   "cell_type": "markdown",
   "metadata": {},
   "source": [
    "# Classificazione di MNIST"
   ]
  },
  {
   "cell_type": "code",
   "execution_count": null,
   "metadata": {},
   "outputs": [],
   "source": [
    "import torchvision\n",
    "import torchvision.transforms as transforms\n",
    "\n",
    "\n",
    "batch_size = 64\n",
    "\n",
    "# MNIST dataset \n",
    "train_dataset = torchvision.datasets.MNIST(root='data', \n",
    "                                           train=True, \n",
    "                                           transform=transforms.ToTensor(),  \n",
    "                                           download=True)\n",
    "\n",
    "test_dataset = torchvision.datasets.MNIST(root='data', \n",
    "                                          train=False, \n",
    "                                          transform=transforms.ToTensor())\n",
    "\n",
    "# Data loader\n",
    "train_loader = torch.utils.data.DataLoader(dataset=train_dataset, \n",
    "                                           batch_size=batch_size, \n",
    "                                           shuffle=True)\n",
    "\n",
    "test_loader = torch.utils.data.DataLoader(dataset=test_dataset, \n",
    "                                          batch_size=batch_size, \n",
    "                                          shuffle=False)\n"
   ]
  },
  {
   "cell_type": "code",
   "execution_count": 28,
   "metadata": {},
   "outputs": [
    {
     "name": "stdout",
     "output_type": "stream",
     "text": [
      "torch.Size([1, 28, 28])\n"
     ]
    }
   ],
   "source": [
    "image, label = train_dataset[0]\n",
    "\n",
    "print(image.shape)"
   ]
  },
  {
   "cell_type": "code",
   "execution_count": 29,
   "metadata": {},
   "outputs": [
    {
     "name": "stdout",
     "output_type": "stream",
     "text": [
      "\n",
      "\n",
      "\n",
      "\n"
     ]
    },
    {
     "data": {
      "image/png": "[encoded data removed]",
      "text/plain": [
       "<Figure size 432x288 with 9 Axes>"
      ]
     },
     "metadata": {
      "needs_background": "light"
     },
     "output_type": "display_data"
    }
   ],
   "source": [
    "\n",
    "for i in range(9):\n",
    "    plt.subplot(3,3,i+1)\n",
    "    plt.tight_layout()\n",
    "    image, label = train_dataset[i]\n",
    "    plt.imshow(image[0],cmap='gray', interpolation='none')\n",
    "    plt.title(\"Class {}\".format(label))\n",
    "    plt.axis('off')"
   ]
  },
  {
   "cell_type": "markdown",
   "metadata": {},
   "source": [
    "## Costruzione di una NN custom\n",
    "\n",
    "L'obiettivo è costruire un modello composto da 2 livelli Linear\n",
    "\n",
    "Si cotrisce un oggetto che estende la classe nn.Module, si implementa il metodo *\\_\\_init__* con l'inizializzazione della rete e si re-implemeta il metodo *forward* per effettuare l'operazione implementata dalla rete"
   ]
  },
  {
   "cell_type": "code",
   "execution_count": 30,
   "metadata": {},
   "outputs": [],
   "source": [
    "class SimpleFullyConnectedNet(nn.Module):\n",
    "    def __init__(self,input_size, hidden_size, num_classes):\n",
    "        super(SimpleFullyConnectedNet, self).__init__()\n",
    "        self.fc1 = nn.Linear(input_size, hidden_size) \n",
    "        self.relu = nn.ReLU()\n",
    "        self.fc2 = nn.Linear(hidden_size, num_classes)          \n",
    "        \n",
    "    def forward(self, x):\n",
    "        out = self.fc1(x)\n",
    "        out = self.relu(out)\n",
    "        out = self.fc2(out)\n",
    "        return out\n"
   ]
  },
  {
   "cell_type": "code",
   "execution_count": 31,
   "metadata": {},
   "outputs": [],
   "source": [
    "# Device configuration\n",
    "device = torch.device('cuda' if torch.cuda.is_available() else 'cpu')\n",
    "\n",
    "input_size = 28*28\n",
    "hidden_size = 300\n",
    "num_classes = 10\n",
    "batch_size = 100\n",
    "\n",
    "full_model = SimpleFullyConnectedNet(input_size, hidden_size, num_classes).to(device)"
   ]
  },
  {
   "cell_type": "markdown",
   "metadata": {},
   "source": [
    "#### TRAIN"
   ]
  },
  {
   "cell_type": "code",
   "execution_count": 32,
   "metadata": {},
   "outputs": [],
   "source": [
    "# Loss and optimizer\n",
    "criterion = nn.CrossEntropyLoss()\n",
    "learning_rate = 0.0005\n",
    "optimizer = torch.optim.Adam(full_model.parameters(), lr=learning_rate)  \n",
    "\n",
    "\n",
    "num_epochs = 3\n",
    "\n",
    "train_losses = []\n",
    "train_counter = []\n",
    "test_losses = []\n",
    "test_counter = [i*len(train_loader.dataset) for i in range(num_epochs + 1)]"
   ]
  },
  {
   "cell_type": "code",
   "execution_count": 33,
   "metadata": {},
   "outputs": [],
   "source": [
    "# The number of steps for each epoch, defined by the number of instances divided by the batch size. \n",
    "total_step = len(train_loader)\n",
    "\n",
    "def train(epoch,model,criterion,optimizer,reshape=True):\n",
    "    for batch_idx, (images, labels) in enumerate(train_loader):  \n",
    "        # Move tensors to the configured device\n",
    "        if reshape:\n",
    "            images = images.reshape(-1, 28*28)\n",
    "        images = images.to(device)\n",
    "        labels = labels.to(device)\n",
    "        \n",
    "        # Forward pass\n",
    "        outputs = model(images)\n",
    "        loss = criterion(outputs, labels)\n",
    "        \n",
    "        # Backward and optimize\n",
    "        optimizer.zero_grad()\n",
    "        loss.backward()\n",
    "        optimizer.step()\n",
    "        \n",
    "        if (batch_idx+1) % 100 == 0:\n",
    "            print ('Epoch [{}/{}], Step [{}/{}], Loss: {:.4f}' \n",
    "                   .format(epoch, num_epochs, batch_idx+1, total_step, loss.item()))\n",
    "        \n",
    "        train_losses.append(loss.item())\n",
    "        train_counter.append(\n",
    "        (batch_idx*batch_size) + ((epoch-1)*len(train_loader.dataset)))\n",
    "        \n",
    "def test(model,criterion,reshape=True):\n",
    "    test_loss = 0\n",
    "    correct = 0\n",
    "    \n",
    "    with torch.no_grad():\n",
    "        for images, labels in test_loader:\n",
    "            if reshape:\n",
    "                images = images.reshape(-1, 28*28)\n",
    "                \n",
    "            images = images.to(device)\n",
    "            labels = labels.to(device)\n",
    "            \n",
    "            outputs = model(images)\n",
    "            _, predicted = torch.max(outputs.data, 1)\n",
    "            \n",
    "            correct += (predicted == labels).sum().item()\n",
    "            \n",
    "            loss = criterion(outputs,labels,)\n",
    "            \n",
    "            test_loss += loss.item()\n",
    "            \n",
    "    test_loss /= len(test_loader.dataset)\n",
    "    test_losses.append(test_loss)\n",
    "    \n",
    "    print('\\nTest set: Avg. loss: {:.4f}, Accuracy: {}/{} ({:.0f}%)\\n'.format(\n",
    "        test_loss, correct, len(test_loader.dataset),\n",
    "        100. * correct / len(test_loader.dataset)))"
   ]
  },
  {
   "cell_type": "code",
   "execution_count": 34,
   "metadata": {},
   "outputs": [
    {
     "name": "stdout",
     "output_type": "stream",
     "text": [
      "\n",
      "Test set: Avg. loss: 0.0362, Accuracy: 1131/10000 (11%)\n",
      "\n",
      "Epoch [1/3], Step [100/938], Loss: 0.4702\n",
      "Epoch [1/3], Step [200/938], Loss: 0.3004\n",
      "Epoch [1/3], Step [300/938], Loss: 0.3555\n",
      "Epoch [1/3], Step [400/938], Loss: 0.4425\n",
      "Epoch [1/3], Step [500/938], Loss: 0.1958\n",
      "Epoch [1/3], Step [600/938], Loss: 0.1273\n",
      "Epoch [1/3], Step [700/938], Loss: 0.3757\n",
      "Epoch [1/3], Step [800/938], Loss: 0.3388\n",
      "Epoch [1/3], Step [900/938], Loss: 0.1628\n",
      "\n",
      "Test set: Avg. loss: 0.0030, Accuracy: 9450/10000 (94%)\n",
      "\n",
      "Epoch [2/3], Step [100/938], Loss: 0.1260\n",
      "Epoch [2/3], Step [200/938], Loss: 0.1677\n",
      "Epoch [2/3], Step [300/938], Loss: 0.0564\n",
      "Epoch [2/3], Step [400/938], Loss: 0.1094\n",
      "Epoch [2/3], Step [500/938], Loss: 0.1329\n",
      "Epoch [2/3], Step [600/938], Loss: 0.1696\n",
      "Epoch [2/3], Step [700/938], Loss: 0.2134\n",
      "Epoch [2/3], Step [800/938], Loss: 0.0724\n",
      "Epoch [2/3], Step [900/938], Loss: 0.0647\n",
      "\n",
      "Test set: Avg. loss: 0.0021, Accuracy: 9598/10000 (96%)\n",
      "\n",
      "Epoch [3/3], Step [100/938], Loss: 0.1024\n",
      "Epoch [3/3], Step [200/938], Loss: 0.1237\n",
      "Epoch [3/3], Step [300/938], Loss: 0.1879\n",
      "Epoch [3/3], Step [400/938], Loss: 0.0411\n",
      "Epoch [3/3], Step [500/938], Loss: 0.0819\n",
      "Epoch [3/3], Step [600/938], Loss: 0.1073\n",
      "Epoch [3/3], Step [700/938], Loss: 0.1081\n",
      "Epoch [3/3], Step [800/938], Loss: 0.0274\n",
      "Epoch [3/3], Step [900/938], Loss: 0.1477\n",
      "\n",
      "Test set: Avg. loss: 0.0016, Accuracy: 9705/10000 (97%)\n",
      "\n"
     ]
    }
   ],
   "source": [
    "test(full_model,criterion)\n",
    "for epoch in range(1,num_epochs+1):\n",
    "    train(epoch,full_model,criterion,optimizer)\n",
    "    test(full_model,criterion)"
   ]
  },
  {
   "cell_type": "code",
   "execution_count": 35,
   "metadata": {},
   "outputs": [
    {
     "data": {
      "image/png": "[encoded data removed]",
      "text/plain": [
       "<Figure size 432x288 with 1 Axes>"
      ]
     },
     "metadata": {
      "needs_background": "light"
     },
     "output_type": "display_data"
    }
   ],
   "source": [
    "fig = plt.figure()\n",
    "plt.plot(train_counter, train_losses, color='blue')\n",
    "plt.scatter(test_counter, test_losses, color='red')\n",
    "plt.legend(['Train Loss', 'Test Loss'], loc='upper right')\n",
    "plt.xlabel('number of training examples seen')\n",
    "plt.ylabel('Cross Entropy Loss')\n",
    "plt.show()\n"
   ]
  },
  {
   "cell_type": "code",
   "execution_count": 36,
   "metadata": {},
   "outputs": [
    {
     "data": {
      "image/png": "[encoded data removed]",
      "text/plain": [
       "<Figure size 432x288 with 9 Axes>"
      ]
     },
     "metadata": {},
     "output_type": "display_data"
    }
   ],
   "source": [
    "# Predictions\n",
    "examples = enumerate(test_loader)\n",
    "batch_idx, (example_data, example_targets) = next(examples)\n",
    "\n",
    "\n",
    "for i in range(9):\n",
    "  plt.subplot(3,3,i+1)\n",
    "  \n",
    "  image, label = train_dataset[i]\n",
    "  with torch.no_grad():\n",
    "    output = full_model(image.reshape(-1, 28*28).to(device))\n",
    "    _, predicted = torch.max(output.data, 1)\n",
    "    \n",
    "    \n",
    "  \n",
    "  plt.tight_layout()\n",
    "  plt.imshow(image[0], cmap='gray', interpolation='none')\n",
    "  plt.title(\"Pred: {}\".format(predicted.item()))\n",
    "  plt.xticks([])\n",
    "  plt.yticks([])\n"
   ]
  },
  {
   "cell_type": "code",
   "execution_count": null,
   "metadata": {},
   "outputs": [],
   "source": []
  }
 ],
 "metadata": {
  "kernelspec": {
   "display_name": "Python 3",
   "language": "python",
   "name": "python3"
  },
  "language_info": {
   "codemirror_mode": {
    "name": "ipython",
    "version": 3
   },
   "file_extension": ".py",
   "mimetype": "text/x-python",
   "name": "python",
   "nbconvert_exporter": "python",
   "pygments_lexer": "ipython3",
   "version": "3.8.2"
  }
 },
 "nbformat": 4,
 "nbformat_minor": 4
}
