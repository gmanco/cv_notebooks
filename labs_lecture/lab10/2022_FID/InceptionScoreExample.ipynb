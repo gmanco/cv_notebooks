{
 "cells": [
  {
   "cell_type": "markdown",
   "id": "4271d5a5-54e9-47c3-94ef-e809bb506662",
   "metadata": {},
   "source": [
    "# Inception Score Example\n",
    "\n",
    "Esempio di calcolo dell'Inception Score\n",
    "\n",
    "Credit: <https://github.com/sbarratt/inception-score-pytorch>"
   ]
  },
  {
   "cell_type": "code",
   "execution_count": 1,
   "id": "23f8beac-af73-4598-ba3c-c96d0cae8fa5",
   "metadata": {},
   "outputs": [],
   "source": [
    "import torch\n",
    "import warnings\n",
    "\n",
    "warnings.filterwarnings(\"ignore\")\n",
    "\n",
    "from torch import nn\n",
    "from torch.autograd import Variable\n",
    "from torch.nn import functional as F\n",
    "import torch.utils.data\n",
    "\n",
    "from torchvision.models.inception import inception_v3\n",
    "import torchvision.datasets as dset\n",
    "import torchvision.transforms as transforms\n",
    "\n",
    "import numpy as np\n",
    "from scipy.stats import entropy\n",
    "\n",
    "USE_CUDA = True"
   ]
  },
  {
   "cell_type": "markdown",
   "id": "825145db-32a8-4ac1-953b-e1416740918c",
   "metadata": {},
   "source": [
    "# Caricamento del dataset\n",
    "\n",
    "Utilizzo solo le immagini ignorando le labal"
   ]
  },
  {
   "cell_type": "code",
   "execution_count": 2,
   "id": "56c5df43-8134-4772-a0d1-d536c9d0b98d",
   "metadata": {},
   "outputs": [
    {
     "name": "stdout",
     "output_type": "stream",
     "text": [
      "Files already downloaded and verified\n"
     ]
    }
   ],
   "source": [
    "class IgnoreLabelDataset(torch.utils.data.Dataset):\n",
    "    def __init__(self, orig):\n",
    "        self.orig = orig\n",
    "\n",
    "    def __getitem__(self, index):\n",
    "        return self.orig[index][0]  # ritorno l'immagine\n",
    "\n",
    "    def __len__(self):\n",
    "        return len(self.orig)\n",
    "\n",
    "\n",
    "cifar = dset.CIFAR10(root='data/', download=True,\n",
    "                         transform=transforms.Compose([\n",
    "                             transforms.Resize(32),\n",
    "                             transforms.ToTensor(),\n",
    "                             transforms.Normalize((0.5, 0.5, 0.5), (0.5, 0.5, 0.5))\n",
    "                         ])\n",
    ")\n",
    "\n",
    "dataset = IgnoreLabelDataset(cifar)\n"
   ]
  },
  {
   "cell_type": "markdown",
   "id": "7f894488-f668-43aa-9708-4121968ae069",
   "metadata": {},
   "source": [
    "# Classificazione del dataset\n",
    "\n",
    "Calcolo le probabilità per ogni classe"
   ]
  },
  {
   "cell_type": "code",
   "execution_count": 3,
   "id": "cdc37057-e3ea-40a8-be3a-cb12b341bdbc",
   "metadata": {},
   "outputs": [
    {
     "data": {
      "text/plain": [
       "(50000, 1000)"
      ]
     },
     "execution_count": 3,
     "metadata": {},
     "output_type": "execute_result"
    }
   ],
   "source": [
    "N = len(dataset)\n",
    "batch_size = 32\n",
    "\n",
    "dataloader = torch.utils.data.DataLoader(dataset, batch_size=batch_size)\n",
    "\n",
    "if USE_CUDA:\n",
    "    dtype = torch.cuda.FloatTensor\n",
    "else:\n",
    "    if torch.cuda.is_available():\n",
    "        print(\"WARNING: You have a CUDA device, so you should probably set cuda=True\")\n",
    "    dtype = torch.FloatTensor\n",
    "\n",
    "inception_model = inception_v3(pretrained=True, transform_input=False).type(dtype)\n",
    "inception_model.eval();\n",
    "up = nn.Upsample(size=(299, 299), mode='bilinear').type(dtype)\n",
    "softmax = torch.nn.Softmax(dim=1)\n",
    "def get_pred(x):\n",
    "    x = up(x)\n",
    "    x = inception_model(x)\n",
    "    return softmax(x).cpu().detach().numpy()\n",
    "\n",
    "# Get predictions\n",
    "preds = np.zeros((N, 1000))\n",
    "\n",
    "for i, batch in enumerate(dataloader):\n",
    "    batch = batch.type(dtype)\n",
    "    batch_size_i = batch.size()[0]\n",
    "\n",
    "    preds[i*batch_size:i*batch_size + batch_size_i] = get_pred(batch)\n",
    "\n",
    "preds.shape"
   ]
  },
  {
   "cell_type": "markdown",
   "id": "4eacad88-266a-4d56-9398-d4e929e340e2",
   "metadata": {},
   "source": [
    "# Calcolo dello score\n",
    "\n",
    "A partire dalla distribuzione delle probabilità calcolo la KL e l'IS"
   ]
  },
  {
   "cell_type": "code",
   "execution_count": 4,
   "id": "8085b590-c230-4ce0-acc8-47f3ea33876f",
   "metadata": {},
   "outputs": [
    {
     "name": "stdout",
     "output_type": "stream",
     "text": [
      "Inception Score is 9.672773924506332 with devstd 0.14991434268517465\n"
     ]
    }
   ],
   "source": [
    "splits = 10\n",
    "split_scores = []\n",
    "\n",
    "for k in range(splits):\n",
    "    part = preds[k * (N // splits): (k+1) * (N // splits), :]\n",
    "    py = np.mean(part, axis=0)\n",
    "    scores = []\n",
    "    for i in range(part.shape[0]):\n",
    "        pyx = part[i, :]\n",
    "        scores.append(entropy(pyx, py))\n",
    "    split_scores.append(np.exp(np.mean(scores)))\n",
    "\n",
    "score, devstd = np.mean(split_scores), np.std(split_scores)\n",
    "\n",
    "print(f'Inception Score is {score} with devstd {devstd}')"
   ]
  },
  {
   "cell_type": "code",
   "execution_count": null,
   "id": "1afa4445-b5ea-4d40-b2ca-f7cfac91574d",
   "metadata": {},
   "outputs": [],
   "source": []
  }
 ],
 "metadata": {
  "kernelspec": {
   "display_name": "Python 3",
   "language": "python",
   "name": "python3"
  },
  "language_info": {
   "codemirror_mode": {
    "name": "ipython",
    "version": 3
   },
   "file_extension": ".py",
   "mimetype": "text/x-python",
   "name": "python",
   "nbconvert_exporter": "python",
   "pygments_lexer": "ipython3",
   "version": "3.9.5"
  }
 },
 "nbformat": 4,
 "nbformat_minor": 5
}
