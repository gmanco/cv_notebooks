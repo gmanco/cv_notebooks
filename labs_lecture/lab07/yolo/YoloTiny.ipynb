{
 "cells": [
  {
   "cell_type": "markdown",
   "metadata": {},
   "source": [
    "# YOLO tiny\n",
    "\n",
    "**TASK**: utilizzare la versione tiny di YOLO classificare il dataset <https://github.com/experiencor/kangaroo>\n",
    "\n",
    "> HINT per la fase di preprocesing del dataset vedi anche <https://towardsdatascience.com/implementing-yolo-on-a-custom-dataset-20101473ce53>\n",
    "\n",
    "## Implementazione\n",
    "Si può utilizzare una qualsiasi implementazione di YOLO-tiny pretrained. Ad esempio [qui](https://github.com/ultralytics/yolov3) è presente l'implementazione, una guida e come modificare la rete per il task di classificazione.\n",
    "\n",
    "[Qui](https://github.com/ultralytics/yolov3/blob/master/tutorial.ipynb) è presente un tutorial su come eseguire il codice su Colab\n",
    "\n",
    "> I pesi del modello tiny richiedono circa 34MB\n",
    "\n",
    "## Modifiche alla rete e training\n",
    "La rete deve essere modificata con un numero di classi compatibile con quelle del dataset\n",
    "\n",
    "[Info](https://github.com/ultralytics/yolov3/wiki/Train-Custom-Data)\n",
    "\n",
    "## Valutazione dei risultati\n",
    "Valutare i risultati in termini di mAP\n"
   ]
  },
  {
   "cell_type": "code",
   "execution_count": null,
   "metadata": {},
   "outputs": [],
   "source": []
  }
 ],
 "metadata": {
  "kernelspec": {
   "display_name": "Python 3",
   "language": "python",
   "name": "python3"
  },
  "language_info": {
   "codemirror_mode": {
    "name": "ipython",
    "version": 3
   },
   "file_extension": ".py",
   "mimetype": "text/x-python",
   "name": "python",
   "nbconvert_exporter": "python",
   "pygments_lexer": "ipython3",
   "version": "3.8.2"
  }
 },
 "nbformat": 4,
 "nbformat_minor": 4
}
